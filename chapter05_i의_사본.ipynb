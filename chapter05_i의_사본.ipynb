{
  "cells": [
    {
      "cell_type": "markdown",
      "metadata": {
        "id": "view-in-github",
        "colab_type": "text"
      },
      "source": [
        "<a href=\"https://colab.research.google.com/github/Myeong-bin/test1/blob/main/chapter05_i%EC%9D%98_%EC%82%AC%EB%B3%B8.ipynb\" target=\"_parent\"><img src=\"https://colab.research.google.com/assets/colab-badge.svg\" alt=\"Open In Colab\"/></a>"
      ]
    },
    {
      "cell_type": "markdown",
      "metadata": {
        "id": "EQiXsSfFGgbX"
      },
      "source": [
        "# Fundamentals of machine learning"
      ]
    },
    {
      "cell_type": "markdown",
      "metadata": {
        "id": "9pNvKrHLGgbX"
      },
      "source": [
        "## Generalization: The goal of machine learning"
      ]
    },
    {
      "cell_type": "markdown",
      "metadata": {
        "id": "95uCaQ4kGgbY"
      },
      "source": [
        "### Underfitting and overfitting"
      ]
    },
    {
      "cell_type": "markdown",
      "metadata": {
        "id": "MWkkLibzGgbY"
      },
      "source": [
        "#### Noisy training data"
      ]
    },
    {
      "cell_type": "markdown",
      "metadata": {
        "id": "E10R2oEuGgbZ"
      },
      "source": [
        "#### Ambiguous features"
      ]
    },
    {
      "cell_type": "markdown",
      "metadata": {
        "id": "qVIj7RXNGgbZ"
      },
      "source": [
        "#### Rare features and spurious correlations"
      ]
    },
    {
      "cell_type": "markdown",
      "metadata": {
        "id": "QhMBYY7ZGgba"
      },
      "source": [
        "**Adding white-noise channels or all-zeros channels to MNIST**"
      ]
    },
    {
      "cell_type": "code",
      "execution_count": null,
      "metadata": {
        "id": "-c5yWQagGgba",
        "colab": {
          "base_uri": "https://localhost:8080/"
        },
        "outputId": "d2d99d48-6463-4139-cffe-2c2cb2504dad"
      },
      "outputs": [
        {
          "output_type": "stream",
          "name": "stdout",
          "text": [
            "Downloading data from https://storage.googleapis.com/tensorflow/tf-keras-datasets/mnist.npz\n",
            "11490434/11490434 [==============================] - 1s 0us/step\n"
          ]
        }
      ],
      "source": [
        "from tensorflow.keras.datasets import mnist\n",
        "import numpy as np\n",
        "\n",
        "(train_images, train_labels), _ = mnist.load_data()\n",
        "train_images = train_images.reshape((60000, 28 * 28))\n",
        "train_images = train_images.astype(\"float32\") / 255\n",
        "\n",
        "train_images_with_noise_channels = np.concatenate(\n",
        "    [train_images, np.random.random((len(train_images), 784))], axis=1)\n",
        "\n",
        "train_images_with_zeros_channels = np.concatenate(\n",
        "    [train_images, np.zeros((len(train_images), 784))], axis=1)"
      ]
    },
    {
      "cell_type": "markdown",
      "metadata": {
        "id": "kJ3fxjvzGgbb"
      },
      "source": [
        "**Training the same model on MNIST data with noise channels or all-zero channels**"
      ]
    },
    {
      "cell_type": "code",
      "execution_count": null,
      "metadata": {
        "id": "YK1CI2N4Ggbc"
      },
      "outputs": [],
      "source": [
        "from tensorflow import keras\n",
        "from tensorflow.keras import layers\n",
        "\n",
        "def get_model():\n",
        "    model = keras.Sequential([\n",
        "        layers.Dense(512, activation=\"relu\"),\n",
        "        layers.Dense(10, activation=\"softmax\")\n",
        "    ])\n",
        "    model.compile(optimizer=\"rmsprop\",\n",
        "                  loss=\"sparse_categorical_crossentropy\",\n",
        "                  metrics=[\"accuracy\"])\n",
        "    return model\n",
        "\n",
        "model = get_model()\n",
        "history_noise = model.fit(\n",
        "    train_images_with_noise_channels, train_labels,\n",
        "    epochs=10,\n",
        "    batch_size=128,\n",
        "    validation_split=0.2)\n",
        "\n",
        "model = get_model()\n",
        "history_zeros = model.fit(\n",
        "    train_images_with_zeros_channels, train_labels,\n",
        "    epochs=10,\n",
        "    batch_size=128,\n",
        "    validation_split=0.2)"
      ]
    },
    {
      "cell_type": "markdown",
      "metadata": {
        "id": "mfHflWLSGgbc"
      },
      "source": [
        "**Plotting a validation accuracy comparison**"
      ]
    },
    {
      "cell_type": "code",
      "execution_count": null,
      "metadata": {
        "id": "7h9tOdL-Ggbc",
        "colab": {
          "base_uri": "https://localhost:8080/",
          "height": 490
        },
        "outputId": "fb79d5aa-2d15-4f07-f730-01a438f397ea"
      },
      "outputs": [
        {
          "output_type": "execute_result",
          "data": {
            "text/plain": [
              "<matplotlib.legend.Legend at 0x7d390e96d960>"
            ]
          },
          "metadata": {},
          "execution_count": 4
        },
        {
          "output_type": "display_data",
          "data": {
            "text/plain": [
              "<Figure size 640x480 with 1 Axes>"
            ],
            "image/png": "[encoded data removed]"
          },
          "metadata": {}
        }
      ],
      "source": [
        "import matplotlib.pyplot as plt\n",
        "val_acc_noise = history_noise.history[\"val_accuracy\"]\n",
        "val_acc_zeros = history_zeros.history[\"val_accuracy\"]\n",
        "epochs = range(1, 11)\n",
        "plt.plot(epochs, val_acc_noise, \"b-\",\n",
        "         label=\"Validation accuracy with noise channels\")\n",
        "plt.plot(epochs, val_acc_zeros, \"b--\",\n",
        "         label=\"Validation accuracy with zeros channels\")\n",
        "plt.title(\"Effect of noise channels on validation accuracy\")\n",
        "plt.xlabel(\"Epochs\")\n",
        "plt.ylabel(\"Accuracy\")\n",
        "plt.legend()"
      ]
    },
    {
      "cell_type": "markdown",
      "metadata": {
        "id": "6gWUrALyGgbd"
      },
      "source": [
        "### The nature of generalization in deep learning"
      ]
    },
    {
      "cell_type": "markdown",
      "metadata": {
        "id": "Y-YxT0txGgbe"
      },
      "source": [
        "**Fitting a MNIST model with randomly shuffled labels**\n",
        "\n",
        "\n",
        "여기서는 accuracy보다는 val이 중요함"
      ]
    },
    {
      "cell_type": "code",
      "execution_count": null,
      "metadata": {
        "id": "YE4NevloGgbe",
        "colab": {
          "base_uri": "https://localhost:8080/"
        },
        "outputId": "f3f45cea-5fad-46e9-aab2-36f4abe1b180"
      },
      "outputs": [
        {
          "output_type": "stream",
          "name": "stdout",
          "text": [
            "Epoch 1/100\n",
            "375/375 [==============================] - 2s 4ms/step - loss: 2.3144 - accuracy: 0.1026 - val_loss: 2.3070 - val_accuracy: 0.1030\n",
            "Epoch 2/100\n",
            "375/375 [==============================] - 2s 4ms/step - loss: 2.2988 - accuracy: 0.1172 - val_loss: 2.3085 - val_accuracy: 0.1051\n",
            "Epoch 3/100\n",
            "375/375 [==============================] - 1s 4ms/step - loss: 2.2905 - accuracy: 0.1274 - val_loss: 2.3155 - val_accuracy: 0.0980\n",
            "Epoch 4/100\n",
            "375/375 [==============================] - 1s 3ms/step - loss: 2.2788 - accuracy: 0.1397 - val_loss: 2.3256 - val_accuracy: 0.1002\n",
            "Epoch 5/100\n",
            "375/375 [==============================] - 1s 4ms/step - loss: 2.2637 - accuracy: 0.1497 - val_loss: 2.3386 - val_accuracy: 0.1042\n",
            "Epoch 6/100\n",
            "375/375 [==============================] - 1s 3ms/step - loss: 2.2444 - accuracy: 0.1617 - val_loss: 2.3462 - val_accuracy: 0.0995\n",
            "Epoch 7/100\n",
            "375/375 [==============================] - 1s 3ms/step - loss: 2.2214 - accuracy: 0.1810 - val_loss: 2.3692 - val_accuracy: 0.0988\n",
            "Epoch 8/100\n",
            "375/375 [==============================] - 1s 3ms/step - loss: 2.1956 - accuracy: 0.1943 - val_loss: 2.3805 - val_accuracy: 0.0984\n",
            "Epoch 9/100\n",
            "375/375 [==============================] - 1s 3ms/step - loss: 2.1662 - accuracy: 0.2098 - val_loss: 2.3956 - val_accuracy: 0.1029\n",
            "Epoch 10/100\n",
            "375/375 [==============================] - 1s 3ms/step - loss: 2.1338 - accuracy: 0.2279 - val_loss: 2.4146 - val_accuracy: 0.1042\n",
            "Epoch 11/100\n",
            "375/375 [==============================] - 1s 4ms/step - loss: 2.1000 - accuracy: 0.2449 - val_loss: 2.4441 - val_accuracy: 0.0993\n",
            "Epoch 12/100\n",
            "375/375 [==============================] - 2s 5ms/step - loss: 2.0640 - accuracy: 0.2616 - val_loss: 2.4817 - val_accuracy: 0.1008\n",
            "Epoch 13/100\n",
            "375/375 [==============================] - 1s 3ms/step - loss: 2.0277 - accuracy: 0.2780 - val_loss: 2.5090 - val_accuracy: 0.1029\n",
            "Epoch 14/100\n",
            "375/375 [==============================] - 1s 3ms/step - loss: 1.9892 - accuracy: 0.2941 - val_loss: 2.5207 - val_accuracy: 0.1032\n",
            "Epoch 15/100\n",
            "375/375 [==============================] - 1s 4ms/step - loss: 1.9526 - accuracy: 0.3098 - val_loss: 2.5740 - val_accuracy: 0.1004\n",
            "Epoch 16/100\n",
            "375/375 [==============================] - 1s 3ms/step - loss: 1.9127 - accuracy: 0.3273 - val_loss: 2.6009 - val_accuracy: 0.0978\n",
            "Epoch 17/100\n",
            "375/375 [==============================] - 1s 3ms/step - loss: 1.8761 - accuracy: 0.3429 - val_loss: 2.6262 - val_accuracy: 0.1034\n",
            "Epoch 18/100\n",
            "375/375 [==============================] - 1s 4ms/step - loss: 1.8372 - accuracy: 0.3575 - val_loss: 2.6604 - val_accuracy: 0.1002\n",
            "Epoch 19/100\n",
            "375/375 [==============================] - 2s 5ms/step - loss: 1.7996 - accuracy: 0.3731 - val_loss: 2.7168 - val_accuracy: 0.1002\n",
            "Epoch 20/100\n",
            "375/375 [==============================] - 2s 5ms/step - loss: 1.7630 - accuracy: 0.3892 - val_loss: 2.7311 - val_accuracy: 0.1004\n",
            "Epoch 21/100\n",
            "375/375 [==============================] - 2s 4ms/step - loss: 1.7243 - accuracy: 0.4031 - val_loss: 2.7878 - val_accuracy: 0.0988\n",
            "Epoch 22/100\n",
            "375/375 [==============================] - 1s 3ms/step - loss: 1.6895 - accuracy: 0.4146 - val_loss: 2.8284 - val_accuracy: 0.0962\n",
            "Epoch 23/100\n",
            "375/375 [==============================] - 1s 3ms/step - loss: 1.6523 - accuracy: 0.4325 - val_loss: 2.8837 - val_accuracy: 0.1019\n",
            "Epoch 24/100\n",
            "375/375 [==============================] - 1s 3ms/step - loss: 1.6186 - accuracy: 0.4426 - val_loss: 2.9179 - val_accuracy: 0.0944\n",
            "Epoch 25/100\n",
            "375/375 [==============================] - 1s 3ms/step - loss: 1.5842 - accuracy: 0.4566 - val_loss: 2.9633 - val_accuracy: 0.0969\n",
            "Epoch 26/100\n",
            "375/375 [==============================] - 1s 3ms/step - loss: 1.5486 - accuracy: 0.4699 - val_loss: 3.0338 - val_accuracy: 0.0983\n",
            "Epoch 27/100\n",
            "375/375 [==============================] - 1s 3ms/step - loss: 1.5161 - accuracy: 0.4797 - val_loss: 3.0550 - val_accuracy: 0.0974\n",
            "Epoch 28/100\n",
            "375/375 [==============================] - 2s 5ms/step - loss: 1.4852 - accuracy: 0.4911 - val_loss: 3.1231 - val_accuracy: 0.0972\n",
            "Epoch 29/100\n",
            "375/375 [==============================] - 3s 7ms/step - loss: 1.4523 - accuracy: 0.5045 - val_loss: 3.1464 - val_accuracy: 0.0991\n",
            "Epoch 30/100\n",
            "375/375 [==============================] - 2s 5ms/step - loss: 1.4223 - accuracy: 0.5163 - val_loss: 3.2276 - val_accuracy: 0.0943\n",
            "Epoch 31/100\n",
            "375/375 [==============================] - 2s 4ms/step - loss: 1.3924 - accuracy: 0.5260 - val_loss: 3.2822 - val_accuracy: 0.0938\n",
            "Epoch 32/100\n",
            "375/375 [==============================] - 2s 6ms/step - loss: 1.3617 - accuracy: 0.5401 - val_loss: 3.3124 - val_accuracy: 0.0993\n",
            "Epoch 33/100\n",
            "375/375 [==============================] - 2s 4ms/step - loss: 1.3311 - accuracy: 0.5509 - val_loss: 3.3803 - val_accuracy: 0.0949\n",
            "Epoch 34/100\n",
            "375/375 [==============================] - 1s 3ms/step - loss: 1.3050 - accuracy: 0.5606 - val_loss: 3.4542 - val_accuracy: 0.0954\n",
            "Epoch 35/100\n",
            "375/375 [==============================] - 1s 3ms/step - loss: 1.2770 - accuracy: 0.5709 - val_loss: 3.4823 - val_accuracy: 0.0967\n",
            "Epoch 36/100\n",
            "375/375 [==============================] - 1s 4ms/step - loss: 1.2508 - accuracy: 0.5801 - val_loss: 3.5447 - val_accuracy: 0.0978\n",
            "Epoch 37/100\n",
            "375/375 [==============================] - 2s 5ms/step - loss: 1.2207 - accuracy: 0.5915 - val_loss: 3.6199 - val_accuracy: 0.0983\n",
            "Epoch 38/100\n",
            "375/375 [==============================] - 1s 3ms/step - loss: 1.1977 - accuracy: 0.5981 - val_loss: 3.6429 - val_accuracy: 0.0989\n",
            "Epoch 39/100\n",
            "375/375 [==============================] - 1s 3ms/step - loss: 1.1734 - accuracy: 0.6063 - val_loss: 3.6929 - val_accuracy: 0.0955\n",
            "Epoch 40/100\n",
            "375/375 [==============================] - 1s 3ms/step - loss: 1.1493 - accuracy: 0.6157 - val_loss: 3.7609 - val_accuracy: 0.1009\n",
            "Epoch 41/100\n",
            "375/375 [==============================] - 1s 3ms/step - loss: 1.1245 - accuracy: 0.6256 - val_loss: 3.8038 - val_accuracy: 0.0993\n",
            "Epoch 42/100\n",
            "375/375 [==============================] - 1s 3ms/step - loss: 1.0997 - accuracy: 0.6344 - val_loss: 3.8682 - val_accuracy: 0.1015\n",
            "Epoch 43/100\n",
            "375/375 [==============================] - 1s 3ms/step - loss: 1.0777 - accuracy: 0.6415 - val_loss: 3.9759 - val_accuracy: 0.0974\n",
            "Epoch 44/100\n",
            "375/375 [==============================] - 1s 3ms/step - loss: 1.0577 - accuracy: 0.6501 - val_loss: 3.9786 - val_accuracy: 0.0973\n",
            "Epoch 45/100\n",
            "375/375 [==============================] - 1s 3ms/step - loss: 1.0361 - accuracy: 0.6563 - val_loss: 4.0645 - val_accuracy: 0.0972\n",
            "Epoch 46/100\n",
            "375/375 [==============================] - 2s 4ms/step - loss: 1.0129 - accuracy: 0.6674 - val_loss: 4.1177 - val_accuracy: 0.0997\n",
            "Epoch 47/100\n",
            "375/375 [==============================] - 2s 4ms/step - loss: 0.9936 - accuracy: 0.6711 - val_loss: 4.1801 - val_accuracy: 0.0987\n",
            "Epoch 48/100\n",
            "375/375 [==============================] - 1s 3ms/step - loss: 0.9697 - accuracy: 0.6797 - val_loss: 4.2657 - val_accuracy: 0.0999\n",
            "Epoch 49/100\n",
            "375/375 [==============================] - 1s 3ms/step - loss: 0.9537 - accuracy: 0.6852 - val_loss: 4.2858 - val_accuracy: 0.0990\n",
            "Epoch 50/100\n",
            "375/375 [==============================] - 1s 3ms/step - loss: 0.9332 - accuracy: 0.6930 - val_loss: 4.3664 - val_accuracy: 0.0979\n",
            "Epoch 51/100\n",
            "375/375 [==============================] - 1s 3ms/step - loss: 0.9155 - accuracy: 0.6984 - val_loss: 4.4123 - val_accuracy: 0.1007\n",
            "Epoch 52/100\n",
            "375/375 [==============================] - 1s 3ms/step - loss: 0.8967 - accuracy: 0.7045 - val_loss: 4.5012 - val_accuracy: 0.0993\n",
            "Epoch 53/100\n",
            "375/375 [==============================] - 1s 3ms/step - loss: 0.8796 - accuracy: 0.7114 - val_loss: 4.5623 - val_accuracy: 0.0989\n",
            "Epoch 54/100\n",
            "375/375 [==============================] - 1s 3ms/step - loss: 0.8612 - accuracy: 0.7178 - val_loss: 4.6226 - val_accuracy: 0.0997\n",
            "Epoch 55/100\n",
            "375/375 [==============================] - 2s 5ms/step - loss: 0.8436 - accuracy: 0.7251 - val_loss: 4.6762 - val_accuracy: 0.0983\n",
            "Epoch 56/100\n",
            "375/375 [==============================] - 3s 7ms/step - loss: 0.8260 - accuracy: 0.7300 - val_loss: 4.7658 - val_accuracy: 0.1000\n",
            "Epoch 57/100\n",
            "375/375 [==============================] - 1s 3ms/step - loss: 0.8092 - accuracy: 0.7359 - val_loss: 4.8429 - val_accuracy: 0.1000\n",
            "Epoch 58/100\n",
            "375/375 [==============================] - 1s 3ms/step - loss: 0.7949 - accuracy: 0.7420 - val_loss: 4.9102 - val_accuracy: 0.1007\n",
            "Epoch 59/100\n",
            "375/375 [==============================] - 1s 3ms/step - loss: 0.7795 - accuracy: 0.7453 - val_loss: 4.9558 - val_accuracy: 0.1017\n",
            "Epoch 60/100\n",
            "375/375 [==============================] - 1s 3ms/step - loss: 0.7652 - accuracy: 0.7497 - val_loss: 5.0570 - val_accuracy: 0.0986\n",
            "Epoch 61/100\n",
            "375/375 [==============================] - 2s 4ms/step - loss: 0.7476 - accuracy: 0.7590 - val_loss: 5.1088 - val_accuracy: 0.0980\n",
            "Epoch 62/100\n",
            "375/375 [==============================] - 2s 4ms/step - loss: 0.7344 - accuracy: 0.7609 - val_loss: 5.1379 - val_accuracy: 0.0993\n",
            "Epoch 63/100\n",
            "375/375 [==============================] - 2s 6ms/step - loss: 0.7186 - accuracy: 0.7675 - val_loss: 5.2309 - val_accuracy: 0.1013\n",
            "Epoch 64/100\n",
            "375/375 [==============================] - 2s 6ms/step - loss: 0.7080 - accuracy: 0.7727 - val_loss: 5.2843 - val_accuracy: 0.1010\n",
            "Epoch 65/100\n",
            "375/375 [==============================] - 2s 5ms/step - loss: 0.6930 - accuracy: 0.7761 - val_loss: 5.3493 - val_accuracy: 0.1007\n",
            "Epoch 66/100\n",
            "375/375 [==============================] - 2s 5ms/step - loss: 0.6779 - accuracy: 0.7801 - val_loss: 5.4386 - val_accuracy: 0.1007\n",
            "Epoch 67/100\n",
            "375/375 [==============================] - 2s 4ms/step - loss: 0.6655 - accuracy: 0.7855 - val_loss: 5.4956 - val_accuracy: 0.1020\n",
            "Epoch 68/100\n",
            "375/375 [==============================] - 2s 5ms/step - loss: 0.6518 - accuracy: 0.7906 - val_loss: 5.5837 - val_accuracy: 0.1012\n",
            "Epoch 69/100\n",
            "375/375 [==============================] - 1s 3ms/step - loss: 0.6377 - accuracy: 0.7943 - val_loss: 5.6278 - val_accuracy: 0.0985\n",
            "Epoch 70/100\n",
            "375/375 [==============================] - 2s 4ms/step - loss: 0.6255 - accuracy: 0.8017 - val_loss: 5.7241 - val_accuracy: 0.1033\n",
            "Epoch 71/100\n",
            "375/375 [==============================] - 2s 6ms/step - loss: 0.6149 - accuracy: 0.8024 - val_loss: 5.8286 - val_accuracy: 0.0988\n",
            "Epoch 72/100\n",
            "375/375 [==============================] - 2s 4ms/step - loss: 0.6041 - accuracy: 0.8071 - val_loss: 5.8858 - val_accuracy: 0.1037\n",
            "Epoch 73/100\n",
            "375/375 [==============================] - 2s 5ms/step - loss: 0.5926 - accuracy: 0.8116 - val_loss: 5.9445 - val_accuracy: 0.1011\n",
            "Epoch 74/100\n",
            "375/375 [==============================] - 2s 4ms/step - loss: 0.5811 - accuracy: 0.8160 - val_loss: 5.9831 - val_accuracy: 0.1002\n",
            "Epoch 75/100\n",
            "375/375 [==============================] - 2s 4ms/step - loss: 0.5719 - accuracy: 0.8174 - val_loss: 6.0849 - val_accuracy: 0.0998\n",
            "Epoch 76/100\n",
            "375/375 [==============================] - 2s 5ms/step - loss: 0.5600 - accuracy: 0.8216 - val_loss: 6.1281 - val_accuracy: 0.0984\n",
            "Epoch 77/100\n",
            "375/375 [==============================] - 2s 4ms/step - loss: 0.5506 - accuracy: 0.8243 - val_loss: 6.2275 - val_accuracy: 0.1024\n",
            "Epoch 78/100\n",
            "375/375 [==============================] - 2s 6ms/step - loss: 0.5406 - accuracy: 0.8298 - val_loss: 6.3232 - val_accuracy: 0.1017\n",
            "Epoch 79/100\n",
            "375/375 [==============================] - 1s 4ms/step - loss: 0.5309 - accuracy: 0.8306 - val_loss: 6.3875 - val_accuracy: 0.1007\n",
            "Epoch 80/100\n",
            "375/375 [==============================] - 2s 4ms/step - loss: 0.5185 - accuracy: 0.8365 - val_loss: 6.4505 - val_accuracy: 0.1011\n",
            "Epoch 81/100\n",
            "375/375 [==============================] - 2s 4ms/step - loss: 0.5085 - accuracy: 0.8392 - val_loss: 6.4884 - val_accuracy: 0.1006\n",
            "Epoch 82/100\n",
            "375/375 [==============================] - 1s 3ms/step - loss: 0.4993 - accuracy: 0.8435 - val_loss: 6.6145 - val_accuracy: 0.0990\n",
            "Epoch 83/100\n",
            "375/375 [==============================] - 2s 5ms/step - loss: 0.4908 - accuracy: 0.8450 - val_loss: 6.6485 - val_accuracy: 0.0997\n",
            "Epoch 84/100\n",
            "375/375 [==============================] - 2s 5ms/step - loss: 0.4830 - accuracy: 0.8485 - val_loss: 6.7273 - val_accuracy: 0.1006\n",
            "Epoch 85/100\n",
            "375/375 [==============================] - 2s 5ms/step - loss: 0.4704 - accuracy: 0.8521 - val_loss: 6.7993 - val_accuracy: 0.0996\n",
            "Epoch 86/100\n",
            "375/375 [==============================] - 2s 5ms/step - loss: 0.4645 - accuracy: 0.8537 - val_loss: 6.8775 - val_accuracy: 0.1013\n",
            "Epoch 87/100\n",
            "375/375 [==============================] - 1s 4ms/step - loss: 0.4559 - accuracy: 0.8583 - val_loss: 6.9753 - val_accuracy: 0.1028\n",
            "Epoch 88/100\n",
            "375/375 [==============================] - 2s 5ms/step - loss: 0.4483 - accuracy: 0.8594 - val_loss: 7.0522 - val_accuracy: 0.1049\n",
            "Epoch 89/100\n",
            "375/375 [==============================] - 2s 4ms/step - loss: 0.4392 - accuracy: 0.8631 - val_loss: 7.1571 - val_accuracy: 0.0993\n",
            "Epoch 90/100\n",
            "375/375 [==============================] - 2s 4ms/step - loss: 0.4303 - accuracy: 0.8654 - val_loss: 7.1446 - val_accuracy: 0.1047\n",
            "Epoch 91/100\n",
            "375/375 [==============================] - 2s 4ms/step - loss: 0.4232 - accuracy: 0.8693 - val_loss: 7.2753 - val_accuracy: 0.1032\n",
            "Epoch 92/100\n",
            "375/375 [==============================] - 2s 4ms/step - loss: 0.4176 - accuracy: 0.8693 - val_loss: 7.3309 - val_accuracy: 0.1036\n",
            "Epoch 93/100\n",
            "375/375 [==============================] - 3s 7ms/step - loss: 0.4083 - accuracy: 0.8733 - val_loss: 7.4519 - val_accuracy: 0.1016\n",
            "Epoch 94/100\n",
            "375/375 [==============================] - 2s 4ms/step - loss: 0.4009 - accuracy: 0.8756 - val_loss: 7.4945 - val_accuracy: 0.1029\n",
            "Epoch 95/100\n",
            "375/375 [==============================] - 2s 4ms/step - loss: 0.3962 - accuracy: 0.8764 - val_loss: 7.6500 - val_accuracy: 0.1007\n",
            "Epoch 96/100\n",
            "375/375 [==============================] - 2s 5ms/step - loss: 0.3882 - accuracy: 0.8802 - val_loss: 7.6508 - val_accuracy: 0.1041\n",
            "Epoch 97/100\n",
            "375/375 [==============================] - 1s 4ms/step - loss: 0.3815 - accuracy: 0.8813 - val_loss: 7.6797 - val_accuracy: 0.1053\n",
            "Epoch 98/100\n",
            "375/375 [==============================] - 1s 4ms/step - loss: 0.3733 - accuracy: 0.8851 - val_loss: 7.8266 - val_accuracy: 0.0989\n",
            "Epoch 99/100\n",
            "375/375 [==============================] - 2s 4ms/step - loss: 0.3674 - accuracy: 0.8868 - val_loss: 7.8528 - val_accuracy: 0.1030\n",
            "Epoch 100/100\n",
            "375/375 [==============================] - 2s 6ms/step - loss: 0.3617 - accuracy: 0.8893 - val_loss: 7.9461 - val_accuracy: 0.1011\n"
          ]
        },
        {
          "output_type": "execute_result",
          "data": {
            "text/plain": [
              "<keras.src.callbacks.History at 0x7d38b4ccf820>"
            ]
          },
          "metadata": {},
          "execution_count": 5
        }
      ],
      "source": [
        "(train_images, train_labels), _ = mnist.load_data()\n",
        "train_images = train_images.reshape((60000, 28 * 28))\n",
        "train_images = train_images.astype(\"float32\") / 255\n",
        "\n",
        "random_train_labels = train_labels[:]\n",
        "np.random.shuffle(random_train_labels)\n",
        "\n",
        "model = keras.Sequential([\n",
        "    layers.Dense(512, activation=\"relu\"),\n",
        "    layers.Dense(10, activation=\"softmax\")\n",
        "])\n",
        "model.compile(optimizer=\"rmsprop\",\n",
        "              loss=\"sparse_categorical_crossentropy\",\n",
        "              metrics=[\"accuracy\"])\n",
        "model.fit(train_images, random_train_labels,\n",
        "          epochs=100,\n",
        "          batch_size=128,\n",
        "          validation_split=0.2)"
      ]
    },
    {
      "cell_type": "markdown",
      "metadata": {
        "id": "Bxl04jnwGgbf"
      },
      "source": [
        "#### The manifold hypothesis"
      ]
    },
    {
      "cell_type": "markdown",
      "metadata": {
        "id": "W8ILHTZIGgbf"
      },
      "source": [
        "#### Interpolation as a source of generalization"
      ]
    },
    {
      "cell_type": "markdown",
      "metadata": {
        "id": "rguhUWkEGgbg"
      },
      "source": [
        "#### Why deep learning works"
      ]
    },
    {
      "cell_type": "markdown",
      "metadata": {
        "id": "3uklJ4SzGgbg"
      },
      "source": [
        "#### Training data is paramount"
      ]
    },
    {
      "cell_type": "markdown",
      "metadata": {
        "id": "b1zQLh9uGgbg"
      },
      "source": [
        "## Evaluating machine-learning models"
      ]
    },
    {
      "cell_type": "markdown",
      "metadata": {
        "id": "GLSzXLolGgbg"
      },
      "source": [
        "### Training, validation, and test sets"
      ]
    },
    {
      "cell_type": "markdown",
      "metadata": {
        "id": "rJ38QkhCGgbh"
      },
      "source": [
        "#### Simple hold-out validation"
      ]
    },
    {
      "cell_type": "markdown",
      "metadata": {
        "id": "ZEc_zlNeGgbh"
      },
      "source": [
        "#### K-fold validation"
      ]
    },
    {
      "cell_type": "markdown",
      "metadata": {
        "id": "VOTs0zKWGgbi"
      },
      "source": [
        "#### Iterated K-fold validation with shuffling"
      ]
    },
    {
      "cell_type": "markdown",
      "metadata": {
        "id": "ntvoErYnGgbi"
      },
      "source": [
        "### Beating a common-sense baseline"
      ]
    },
    {
      "cell_type": "markdown",
      "metadata": {
        "id": "iGeRNYhmGgbi"
      },
      "source": [
        "### Things to keep in mind about model evaluation"
      ]
    },
    {
      "cell_type": "markdown",
      "metadata": {
        "id": "RhZZMVadGgbj"
      },
      "source": [
        "## Improving model fit"
      ]
    },
    {
      "cell_type": "markdown",
      "metadata": {
        "id": "gKwwhznOGgbj"
      },
      "source": [
        "### Tuning key gradient descent parameters"
      ]
    },
    {
      "cell_type": "markdown",
      "metadata": {
        "id": "LVpehsjvGgbj"
      },
      "source": [
        "**Training a MNIST model with an incorrectly high learning rate**\n",
        "\n",
        "이건 틀린 코드임. RMSprop(1.) << 이 부분 숫자 너무 크기 때문"
      ]
    },
    {
      "cell_type": "code",
      "execution_count": null,
      "metadata": {
        "id": "ZdAdd3YEGgbj",
        "colab": {
          "base_uri": "https://localhost:8080/"
        },
        "outputId": "69cf5592-e591-4637-b34e-abf86d849100"
      },
      "outputs": [
        {
          "output_type": "stream",
          "name": "stdout",
          "text": [
            "Epoch 1/10\n",
            "375/375 [==============================] - 2s 4ms/step - loss: 775.3257 - accuracy: 0.3906 - val_loss: 2.5630 - val_accuracy: 0.2518\n",
            "Epoch 2/10\n",
            "375/375 [==============================] - 1s 3ms/step - loss: 2.7229 - accuracy: 0.2385 - val_loss: 2.8339 - val_accuracy: 0.2312\n",
            "Epoch 3/10\n",
            "375/375 [==============================] - 1s 3ms/step - loss: 3.4231 - accuracy: 0.1966 - val_loss: 2.1622 - val_accuracy: 0.2052\n",
            "Epoch 4/10\n",
            "375/375 [==============================] - 1s 3ms/step - loss: 2.4362 - accuracy: 0.2018 - val_loss: 2.7069 - val_accuracy: 0.2166\n",
            "Epoch 5/10\n",
            "375/375 [==============================] - 1s 3ms/step - loss: 2.5006 - accuracy: 0.1977 - val_loss: 2.2812 - val_accuracy: 0.1970\n",
            "Epoch 6/10\n",
            "375/375 [==============================] - 2s 4ms/step - loss: 2.4071 - accuracy: 0.1778 - val_loss: 2.2453 - val_accuracy: 0.1568\n",
            "Epoch 7/10\n",
            "375/375 [==============================] - 1s 3ms/step - loss: 2.4680 - accuracy: 0.2146 - val_loss: 2.1192 - val_accuracy: 0.2143\n",
            "Epoch 8/10\n",
            "375/375 [==============================] - 1s 3ms/step - loss: 2.3820 - accuracy: 0.2215 - val_loss: 2.1495 - val_accuracy: 0.2313\n",
            "Epoch 9/10\n",
            "375/375 [==============================] - 1s 3ms/step - loss: 2.2770 - accuracy: 0.2151 - val_loss: 2.1582 - val_accuracy: 0.2000\n",
            "Epoch 10/10\n",
            "375/375 [==============================] - 1s 3ms/step - loss: 2.3583 - accuracy: 0.2252 - val_loss: 2.1952 - val_accuracy: 0.2616\n"
          ]
        },
        {
          "output_type": "execute_result",
          "data": {
            "text/plain": [
              "<keras.src.callbacks.History at 0x7d38b4ca18a0>"
            ]
          },
          "metadata": {},
          "execution_count": 6
        }
      ],
      "source": [
        "(train_images, train_labels), _ = mnist.load_data()\n",
        "train_images = train_images.reshape((60000, 28 * 28))\n",
        "train_images = train_images.astype(\"float32\") / 255\n",
        "\n",
        "model = keras.Sequential([\n",
        "    layers.Dense(512, activation=\"relu\"),\n",
        "    layers.Dense(10, activation=\"softmax\")\n",
        "])\n",
        "model.compile(optimizer=keras.optimizers.RMSprop(1.),\n",
        "              loss=\"sparse_categorical_crossentropy\",\n",
        "              metrics=[\"accuracy\"])\n",
        "model.fit(train_images, train_labels,\n",
        "          epochs=10,\n",
        "          batch_size=128,\n",
        "          validation_split=0.2)"
      ]
    },
    {
      "cell_type": "markdown",
      "metadata": {
        "id": "Ry35HA3qGgbk"
      },
      "source": [
        "**The same model with a more appropriate learning rate**\n",
        "\n",
        "이게 맞는 코드"
      ]
    },
    {
      "cell_type": "code",
      "execution_count": null,
      "metadata": {
        "id": "Vb5sSA1lGgbk",
        "colab": {
          "base_uri": "https://localhost:8080/"
        },
        "outputId": "aa2657c4-b874-4324-adff-421c9298e926"
      },
      "outputs": [
        {
          "output_type": "stream",
          "name": "stdout",
          "text": [
            "Epoch 1/10\n",
            "375/375 [==============================] - 2s 4ms/step - loss: 0.3331 - accuracy: 0.9160 - val_loss: 0.1435 - val_accuracy: 0.9588\n",
            "Epoch 2/10\n",
            "375/375 [==============================] - 1s 3ms/step - loss: 0.1232 - accuracy: 0.9654 - val_loss: 0.1566 - val_accuracy: 0.9638\n",
            "Epoch 3/10\n",
            "375/375 [==============================] - 2s 4ms/step - loss: 0.0947 - accuracy: 0.9748 - val_loss: 0.1332 - val_accuracy: 0.9678\n",
            "Epoch 4/10\n",
            "375/375 [==============================] - 2s 5ms/step - loss: 0.0778 - accuracy: 0.9800 - val_loss: 0.1788 - val_accuracy: 0.9628\n",
            "Epoch 5/10\n",
            "375/375 [==============================] - 2s 6ms/step - loss: 0.0691 - accuracy: 0.9831 - val_loss: 0.1936 - val_accuracy: 0.9660\n",
            "Epoch 6/10\n",
            "375/375 [==============================] - 3s 9ms/step - loss: 0.0591 - accuracy: 0.9851 - val_loss: 0.1774 - val_accuracy: 0.9723\n",
            "Epoch 7/10\n",
            "375/375 [==============================] - 1s 3ms/step - loss: 0.0531 - accuracy: 0.9876 - val_loss: 0.1832 - val_accuracy: 0.9726\n",
            "Epoch 8/10\n",
            "375/375 [==============================] - 1s 3ms/step - loss: 0.0450 - accuracy: 0.9894 - val_loss: 0.1964 - val_accuracy: 0.9753\n",
            "Epoch 9/10\n",
            "375/375 [==============================] - 1s 3ms/step - loss: 0.0451 - accuracy: 0.9901 - val_loss: 0.2478 - val_accuracy: 0.9712\n",
            "Epoch 10/10\n",
            "375/375 [==============================] - 1s 3ms/step - loss: 0.0389 - accuracy: 0.9914 - val_loss: 0.2292 - val_accuracy: 0.9730\n"
          ]
        },
        {
          "output_type": "execute_result",
          "data": {
            "text/plain": [
              "<keras.src.callbacks.History at 0x7d392d173880>"
            ]
          },
          "metadata": {},
          "execution_count": 7
        }
      ],
      "source": [
        "model = keras.Sequential([\n",
        "    layers.Dense(512, activation=\"relu\"),\n",
        "    layers.Dense(10, activation=\"softmax\")\n",
        "])\n",
        "model.compile(optimizer=keras.optimizers.RMSprop(1e-2),\n",
        "              loss=\"sparse_categorical_crossentropy\",\n",
        "              metrics=[\"accuracy\"])\n",
        "model.fit(train_images, train_labels,\n",
        "          epochs=10,\n",
        "          batch_size=128,\n",
        "          validation_split=0.2)"
      ]
    },
    {
      "cell_type": "markdown",
      "metadata": {
        "id": "xV9z_JP0Ggbl"
      },
      "source": [
        "### Leveraging better architecture priors"
      ]
    },
    {
      "cell_type": "markdown",
      "metadata": {
        "id": "f7oOQ8OoGgbl"
      },
      "source": [
        "### Increasing model capacity"
      ]
    },
    {
      "cell_type": "markdown",
      "metadata": {
        "id": "ZxVl6zZ1Ggbl"
      },
      "source": [
        "**A simple logistic regression on MNIST**\n",
        "\n",
        "layer 가 하나뿐임 >> simple, 오버피팅 안 보임"
      ]
    },
    {
      "cell_type": "code",
      "execution_count": null,
      "metadata": {
        "id": "yVPcxN0rGgbl",
        "colab": {
          "base_uri": "https://localhost:8080/"
        },
        "outputId": "c8dc873c-7e0f-4e95-880c-f6153209fe11"
      },
      "outputs": [
        {
          "output_type": "stream",
          "name": "stdout",
          "text": [
            "Epoch 1/20\n",
            "375/375 [==============================] - 2s 3ms/step - loss: 0.6612 - accuracy: 0.8370 - val_loss: 0.3587 - val_accuracy: 0.9047\n",
            "Epoch 2/20\n",
            "375/375 [==============================] - 1s 3ms/step - loss: 0.3530 - accuracy: 0.9030 - val_loss: 0.3104 - val_accuracy: 0.9158\n",
            "Epoch 3/20\n",
            "375/375 [==============================] - 1s 3ms/step - loss: 0.3184 - accuracy: 0.9113 - val_loss: 0.2937 - val_accuracy: 0.9183\n",
            "Epoch 4/20\n",
            "375/375 [==============================] - 1s 3ms/step - loss: 0.3021 - accuracy: 0.9164 - val_loss: 0.2836 - val_accuracy: 0.9204\n",
            "Epoch 5/20\n",
            "375/375 [==============================] - 1s 4ms/step - loss: 0.2925 - accuracy: 0.9185 - val_loss: 0.2787 - val_accuracy: 0.9210\n",
            "Epoch 6/20\n",
            "375/375 [==============================] - 1s 3ms/step - loss: 0.2862 - accuracy: 0.9205 - val_loss: 0.2746 - val_accuracy: 0.9247\n",
            "Epoch 7/20\n",
            "375/375 [==============================] - 1s 3ms/step - loss: 0.2811 - accuracy: 0.9210 - val_loss: 0.2718 - val_accuracy: 0.9255\n",
            "Epoch 8/20\n",
            "375/375 [==============================] - 1s 3ms/step - loss: 0.2770 - accuracy: 0.9233 - val_loss: 0.2699 - val_accuracy: 0.9266\n",
            "Epoch 9/20\n",
            "375/375 [==============================] - 1s 3ms/step - loss: 0.2739 - accuracy: 0.9245 - val_loss: 0.2687 - val_accuracy: 0.9275\n",
            "Epoch 10/20\n",
            "375/375 [==============================] - 1s 3ms/step - loss: 0.2713 - accuracy: 0.9249 - val_loss: 0.2674 - val_accuracy: 0.9279\n",
            "Epoch 11/20\n",
            "375/375 [==============================] - 1s 3ms/step - loss: 0.2688 - accuracy: 0.9256 - val_loss: 0.2661 - val_accuracy: 0.9274\n",
            "Epoch 12/20\n",
            "375/375 [==============================] - 1s 3ms/step - loss: 0.2668 - accuracy: 0.9262 - val_loss: 0.2659 - val_accuracy: 0.9272\n",
            "Epoch 13/20\n",
            "375/375 [==============================] - 1s 3ms/step - loss: 0.2651 - accuracy: 0.9264 - val_loss: 0.2642 - val_accuracy: 0.9271\n",
            "Epoch 14/20\n",
            "375/375 [==============================] - 1s 3ms/step - loss: 0.2635 - accuracy: 0.9267 - val_loss: 0.2648 - val_accuracy: 0.9284\n",
            "Epoch 15/20\n",
            "375/375 [==============================] - 1s 4ms/step - loss: 0.2621 - accuracy: 0.9276 - val_loss: 0.2621 - val_accuracy: 0.9303\n",
            "Epoch 16/20\n",
            "375/375 [==============================] - 1s 3ms/step - loss: 0.2608 - accuracy: 0.9278 - val_loss: 0.2637 - val_accuracy: 0.9294\n",
            "Epoch 17/20\n",
            "375/375 [==============================] - 1s 4ms/step - loss: 0.2597 - accuracy: 0.9282 - val_loss: 0.2635 - val_accuracy: 0.9284\n",
            "Epoch 18/20\n",
            "375/375 [==============================] - 1s 4ms/step - loss: 0.2584 - accuracy: 0.9294 - val_loss: 0.2623 - val_accuracy: 0.9309\n",
            "Epoch 19/20\n",
            "375/375 [==============================] - 1s 3ms/step - loss: 0.2573 - accuracy: 0.9292 - val_loss: 0.2640 - val_accuracy: 0.9288\n",
            "Epoch 20/20\n",
            "375/375 [==============================] - 1s 3ms/step - loss: 0.2565 - accuracy: 0.9300 - val_loss: 0.2641 - val_accuracy: 0.9293\n"
          ]
        }
      ],
      "source": [
        "model = keras.Sequential([layers.Dense(10, activation=\"softmax\")])\n",
        "model.compile(optimizer=\"rmsprop\",\n",
        "              loss=\"sparse_categorical_crossentropy\",\n",
        "              metrics=[\"accuracy\"])\n",
        "history_small_model = model.fit(\n",
        "    train_images, train_labels,\n",
        "    epochs=20,\n",
        "    batch_size=128,\n",
        "    validation_split=0.2)"
      ]
    },
    {
      "cell_type": "code",
      "execution_count": null,
      "metadata": {
        "id": "GkRm1vP8Ggbm",
        "colab": {
          "base_uri": "https://localhost:8080/",
          "height": 490
        },
        "outputId": "476320d3-39e3-4b46-cbf7-b8a87d06af53"
      },
      "outputs": [
        {
          "output_type": "execute_result",
          "data": {
            "text/plain": [
              "<matplotlib.legend.Legend at 0x7d392d86a200>"
            ]
          },
          "metadata": {},
          "execution_count": 9
        },
        {
          "output_type": "display_data",
          "data": {
            "text/plain": [
              "<Figure size 640x480 with 1 Axes>"
            ],
            "image/png": "[encoded data removed]"
          },
          "metadata": {}
        }
      ],
      "source": [
        "import matplotlib.pyplot as plt\n",
        "val_loss = history_small_model.history[\"val_loss\"]\n",
        "epochs = range(1, 21)\n",
        "plt.plot(epochs, val_loss, \"b--\",\n",
        "         label=\"Validation loss\")\n",
        "plt.title(\"Effect of insufficient model capacity on validation loss\")\n",
        "plt.xlabel(\"Epochs\")\n",
        "plt.ylabel(\"Loss\")\n",
        "plt.legend()"
      ]
    },
    {
      "cell_type": "markdown",
      "source": [
        "이게 더 큰 모델임"
      ],
      "metadata": {
        "id": "drRy2-AoaW_s"
      }
    },
    {
      "cell_type": "code",
      "execution_count": null,
      "metadata": {
        "id": "7qrrxeAsGgbm",
        "colab": {
          "base_uri": "https://localhost:8080/"
        },
        "outputId": "d6c0fdcb-58e1-4b67-a2cd-2ec0609a8dfb"
      },
      "outputs": [
        {
          "output_type": "stream",
          "name": "stdout",
          "text": [
            "Epoch 1/20\n",
            "375/375 [==============================] - 3s 4ms/step - loss: 0.3670 - accuracy: 0.8970 - val_loss: 0.1860 - val_accuracy: 0.9472\n",
            "Epoch 2/20\n",
            "375/375 [==============================] - 1s 4ms/step - loss: 0.1628 - accuracy: 0.9513 - val_loss: 0.1382 - val_accuracy: 0.9603\n",
            "Epoch 3/20\n",
            "375/375 [==============================] - 2s 5ms/step - loss: 0.1140 - accuracy: 0.9656 - val_loss: 0.1078 - val_accuracy: 0.9680\n",
            "Epoch 4/20\n",
            "375/375 [==============================] - 2s 4ms/step - loss: 0.0881 - accuracy: 0.9734 - val_loss: 0.1042 - val_accuracy: 0.9683\n",
            "Epoch 5/20\n",
            "375/375 [==============================] - 1s 4ms/step - loss: 0.0714 - accuracy: 0.9778 - val_loss: 0.0980 - val_accuracy: 0.9716\n",
            "Epoch 6/20\n",
            "375/375 [==============================] - 1s 4ms/step - loss: 0.0592 - accuracy: 0.9818 - val_loss: 0.0996 - val_accuracy: 0.9720\n",
            "Epoch 7/20\n",
            "375/375 [==============================] - 1s 3ms/step - loss: 0.0487 - accuracy: 0.9846 - val_loss: 0.0931 - val_accuracy: 0.9737\n",
            "Epoch 8/20\n",
            "375/375 [==============================] - 1s 3ms/step - loss: 0.0421 - accuracy: 0.9872 - val_loss: 0.0893 - val_accuracy: 0.9738\n",
            "Epoch 9/20\n",
            "375/375 [==============================] - 1s 4ms/step - loss: 0.0336 - accuracy: 0.9896 - val_loss: 0.0890 - val_accuracy: 0.9754\n",
            "Epoch 10/20\n",
            "375/375 [==============================] - 1s 3ms/step - loss: 0.0276 - accuracy: 0.9911 - val_loss: 0.1020 - val_accuracy: 0.9716\n",
            "Epoch 11/20\n",
            "375/375 [==============================] - 1s 4ms/step - loss: 0.0241 - accuracy: 0.9924 - val_loss: 0.0886 - val_accuracy: 0.9750\n",
            "Epoch 12/20\n",
            "375/375 [==============================] - 2s 5ms/step - loss: 0.0206 - accuracy: 0.9940 - val_loss: 0.0973 - val_accuracy: 0.9753\n",
            "Epoch 13/20\n",
            "375/375 [==============================] - 1s 3ms/step - loss: 0.0167 - accuracy: 0.9949 - val_loss: 0.1022 - val_accuracy: 0.9762\n",
            "Epoch 14/20\n",
            "375/375 [==============================] - 1s 3ms/step - loss: 0.0147 - accuracy: 0.9954 - val_loss: 0.1038 - val_accuracy: 0.9754\n",
            "Epoch 15/20\n",
            "375/375 [==============================] - 1s 4ms/step - loss: 0.0126 - accuracy: 0.9960 - val_loss: 0.1024 - val_accuracy: 0.9762\n",
            "Epoch 16/20\n",
            "375/375 [==============================] - 1s 3ms/step - loss: 0.0102 - accuracy: 0.9968 - val_loss: 0.1083 - val_accuracy: 0.9764\n",
            "Epoch 17/20\n",
            "375/375 [==============================] - 1s 3ms/step - loss: 0.0090 - accuracy: 0.9971 - val_loss: 0.1100 - val_accuracy: 0.9768\n",
            "Epoch 18/20\n",
            "375/375 [==============================] - 1s 3ms/step - loss: 0.0077 - accuracy: 0.9977 - val_loss: 0.1223 - val_accuracy: 0.9762\n",
            "Epoch 19/20\n",
            "375/375 [==============================] - 1s 3ms/step - loss: 0.0058 - accuracy: 0.9982 - val_loss: 0.1143 - val_accuracy: 0.9763\n",
            "Epoch 20/20\n",
            "375/375 [==============================] - 1s 3ms/step - loss: 0.0060 - accuracy: 0.9981 - val_loss: 0.1320 - val_accuracy: 0.9753\n"
          ]
        }
      ],
      "source": [
        "model = keras.Sequential([\n",
        "    layers.Dense(96, activation=\"relu\"),\n",
        "    layers.Dense(96, activation=\"relu\"),\n",
        "    layers.Dense(10, activation=\"softmax\"),\n",
        "])\n",
        "model.compile(optimizer=\"rmsprop\",\n",
        "              loss=\"sparse_categorical_crossentropy\",\n",
        "              metrics=[\"accuracy\"])\n",
        "history_large_model = model.fit(\n",
        "    train_images, train_labels,\n",
        "    epochs=20,\n",
        "    batch_size=128,\n",
        "    validation_split=0.2)"
      ]
    },
    {
      "cell_type": "markdown",
      "metadata": {
        "id": "fo9jI_FIGgbx"
      },
      "source": [
        "## Improving generalization"
      ]
    },
    {
      "cell_type": "markdown",
      "metadata": {
        "id": "cTdA7pOMGgby"
      },
      "source": [
        "### Dataset curation"
      ]
    },
    {
      "cell_type": "markdown",
      "metadata": {
        "id": "dwG01VmdGgby"
      },
      "source": [
        "### Feature engineering"
      ]
    },
    {
      "cell_type": "markdown",
      "metadata": {
        "id": "FgT4gBwHGgbz"
      },
      "source": [
        "### Using early stopping"
      ]
    },
    {
      "cell_type": "markdown",
      "metadata": {
        "id": "YBtvdNrpGgbz"
      },
      "source": [
        "### Regularizing your model"
      ]
    },
    {
      "cell_type": "markdown",
      "metadata": {
        "id": "6ikAYlDuGgbz"
      },
      "source": [
        "#### Reducing the network's size"
      ]
    },
    {
      "cell_type": "markdown",
      "metadata": {
        "id": "JPqkj7OFGgb0"
      },
      "source": [
        "**Original model**"
      ]
    },
    {
      "cell_type": "code",
      "execution_count": null,
      "metadata": {
        "id": "2BYN-fGXGgb0",
        "colab": {
          "base_uri": "https://localhost:8080/"
        },
        "outputId": "91c63d8f-baf9-473c-a160-e46981106296"
      },
      "outputs": [
        {
          "output_type": "stream",
          "name": "stdout",
          "text": [
            "Downloading data from https://storage.googleapis.com/tensorflow/tf-keras-datasets/imdb.npz\n",
            "17464789/17464789 [==============================] - 1s 0us/step\n",
            "Epoch 1/20\n",
            "30/30 [==============================] - 4s 82ms/step - loss: 0.5556 - accuracy: 0.7617 - val_loss: 0.4399 - val_accuracy: 0.8428\n",
            "Epoch 2/20\n",
            "30/30 [==============================] - 1s 22ms/step - loss: 0.3605 - accuracy: 0.8935 - val_loss: 0.3496 - val_accuracy: 0.8761\n",
            "Epoch 3/20\n",
            "30/30 [==============================] - 1s 23ms/step - loss: 0.2680 - accuracy: 0.9177 - val_loss: 0.2997 - val_accuracy: 0.8868\n",
            "Epoch 4/20\n",
            "30/30 [==============================] - 1s 26ms/step - loss: 0.2137 - accuracy: 0.9307 - val_loss: 0.2763 - val_accuracy: 0.8925\n",
            "Epoch 5/20\n",
            "30/30 [==============================] - 1s 23ms/step - loss: 0.1772 - accuracy: 0.9432 - val_loss: 0.2757 - val_accuracy: 0.8917\n",
            "Epoch 6/20\n",
            "30/30 [==============================] - 1s 25ms/step - loss: 0.1496 - accuracy: 0.9537 - val_loss: 0.3227 - val_accuracy: 0.8728\n",
            "Epoch 7/20\n",
            "30/30 [==============================] - 1s 25ms/step - loss: 0.1300 - accuracy: 0.9596 - val_loss: 0.2934 - val_accuracy: 0.8877\n",
            "Epoch 8/20\n",
            "30/30 [==============================] - 1s 22ms/step - loss: 0.1127 - accuracy: 0.9661 - val_loss: 0.3209 - val_accuracy: 0.8806\n",
            "Epoch 9/20\n",
            "30/30 [==============================] - 1s 22ms/step - loss: 0.0965 - accuracy: 0.9717 - val_loss: 0.3437 - val_accuracy: 0.8777\n",
            "Epoch 10/20\n",
            "30/30 [==============================] - 1s 24ms/step - loss: 0.0845 - accuracy: 0.9761 - val_loss: 0.3736 - val_accuracy: 0.8724\n",
            "Epoch 11/20\n",
            "30/30 [==============================] - 1s 21ms/step - loss: 0.0743 - accuracy: 0.9815 - val_loss: 0.3552 - val_accuracy: 0.8783\n",
            "Epoch 12/20\n",
            "30/30 [==============================] - 1s 24ms/step - loss: 0.0647 - accuracy: 0.9832 - val_loss: 0.3729 - val_accuracy: 0.8781\n",
            "Epoch 13/20\n",
            "30/30 [==============================] - 1s 22ms/step - loss: 0.0545 - accuracy: 0.9879 - val_loss: 0.3953 - val_accuracy: 0.8750\n",
            "Epoch 14/20\n",
            "30/30 [==============================] - 1s 24ms/step - loss: 0.0484 - accuracy: 0.9893 - val_loss: 0.4412 - val_accuracy: 0.8707\n",
            "Epoch 15/20\n",
            "30/30 [==============================] - 1s 24ms/step - loss: 0.0422 - accuracy: 0.9913 - val_loss: 0.4377 - val_accuracy: 0.8732\n",
            "Epoch 16/20\n",
            "30/30 [==============================] - 1s 42ms/step - loss: 0.0353 - accuracy: 0.9935 - val_loss: 0.4718 - val_accuracy: 0.8734\n",
            "Epoch 17/20\n",
            "30/30 [==============================] - 1s 41ms/step - loss: 0.0323 - accuracy: 0.9941 - val_loss: 0.4995 - val_accuracy: 0.8726\n",
            "Epoch 18/20\n",
            "30/30 [==============================] - 1s 23ms/step - loss: 0.0284 - accuracy: 0.9937 - val_loss: 0.5126 - val_accuracy: 0.8712\n",
            "Epoch 19/20\n",
            "30/30 [==============================] - 1s 22ms/step - loss: 0.0232 - accuracy: 0.9960 - val_loss: 0.5424 - val_accuracy: 0.8696\n",
            "Epoch 20/20\n",
            "30/30 [==============================] - 1s 21ms/step - loss: 0.0166 - accuracy: 0.9983 - val_loss: 0.6502 - val_accuracy: 0.8520\n"
          ]
        }
      ],
      "source": [
        "from tensorflow.keras.datasets import imdb\n",
        "(train_data, train_labels), _ = imdb.load_data(num_words=10000)\n",
        "\n",
        "def vectorize_sequences(sequences, dimension=10000):\n",
        "    results = np.zeros((len(sequences), dimension))\n",
        "    for i, sequence in enumerate(sequences):\n",
        "        results[i, sequence] = 1.\n",
        "    return results\n",
        "train_data = vectorize_sequences(train_data)\n",
        "\n",
        "model = keras.Sequential([\n",
        "    layers.Dense(16, activation=\"relu\"),\n",
        "    layers.Dense(16, activation=\"relu\"),\n",
        "    layers.Dense(1, activation=\"sigmoid\")\n",
        "])\n",
        "model.compile(optimizer=\"rmsprop\",\n",
        "              loss=\"binary_crossentropy\",\n",
        "              metrics=[\"accuracy\"])\n",
        "history_original = model.fit(train_data, train_labels,\n",
        "                             epochs=20, batch_size=512, validation_split=0.4)"
      ]
    },
    {
      "cell_type": "markdown",
      "metadata": {
        "id": "Q5AV1SnAGgb1"
      },
      "source": [
        "**Version of the model with lower capacity**"
      ]
    },
    {
      "cell_type": "code",
      "execution_count": null,
      "metadata": {
        "id": "Jsrc4SI0Ggb1",
        "colab": {
          "base_uri": "https://localhost:8080/"
        },
        "outputId": "0d01d9f0-b87b-40b8-f3dc-0ee7b8ca0c0b"
      },
      "outputs": [
        {
          "output_type": "stream",
          "name": "stdout",
          "text": [
            "Epoch 1/20\n",
            "30/30 [==============================] - 3s 67ms/step - loss: 0.6325 - accuracy: 0.6334 - val_loss: 0.5835 - val_accuracy: 0.7754\n",
            "Epoch 2/20\n",
            "30/30 [==============================] - 1s 32ms/step - loss: 0.5395 - accuracy: 0.7939 - val_loss: 0.5251 - val_accuracy: 0.8055\n",
            "Epoch 3/20\n",
            "30/30 [==============================] - 1s 42ms/step - loss: 0.4805 - accuracy: 0.8565 - val_loss: 0.4869 - val_accuracy: 0.8477\n",
            "Epoch 4/20\n",
            "30/30 [==============================] - 1s 22ms/step - loss: 0.4358 - accuracy: 0.8911 - val_loss: 0.4675 - val_accuracy: 0.8347\n",
            "Epoch 5/20\n",
            "30/30 [==============================] - 1s 24ms/step - loss: 0.3993 - accuracy: 0.9101 - val_loss: 0.4394 - val_accuracy: 0.8818\n",
            "Epoch 6/20\n",
            "30/30 [==============================] - 1s 23ms/step - loss: 0.3684 - accuracy: 0.9281 - val_loss: 0.4271 - val_accuracy: 0.8684\n",
            "Epoch 7/20\n",
            "30/30 [==============================] - 1s 25ms/step - loss: 0.3391 - accuracy: 0.9383 - val_loss: 0.4166 - val_accuracy: 0.8707\n",
            "Epoch 8/20\n",
            "30/30 [==============================] - 1s 25ms/step - loss: 0.3120 - accuracy: 0.9482 - val_loss: 0.3969 - val_accuracy: 0.8834\n",
            "Epoch 9/20\n",
            "30/30 [==============================] - 1s 25ms/step - loss: 0.2855 - accuracy: 0.9577 - val_loss: 0.3871 - val_accuracy: 0.8823\n",
            "Epoch 10/20\n",
            "30/30 [==============================] - 1s 23ms/step - loss: 0.2598 - accuracy: 0.9643 - val_loss: 0.3899 - val_accuracy: 0.8748\n",
            "Epoch 11/20\n",
            "30/30 [==============================] - 1s 21ms/step - loss: 0.2321 - accuracy: 0.9701 - val_loss: 0.3631 - val_accuracy: 0.8813\n",
            "Epoch 12/20\n",
            "30/30 [==============================] - 1s 25ms/step - loss: 0.2059 - accuracy: 0.9735 - val_loss: 0.3672 - val_accuracy: 0.8769\n",
            "Epoch 13/20\n",
            "30/30 [==============================] - 1s 22ms/step - loss: 0.1791 - accuracy: 0.9772 - val_loss: 0.3487 - val_accuracy: 0.8780\n",
            "Epoch 14/20\n",
            "30/30 [==============================] - 1s 22ms/step - loss: 0.1534 - accuracy: 0.9786 - val_loss: 0.3330 - val_accuracy: 0.8798\n",
            "Epoch 15/20\n",
            "30/30 [==============================] - 1s 23ms/step - loss: 0.1292 - accuracy: 0.9802 - val_loss: 0.3360 - val_accuracy: 0.8784\n",
            "Epoch 16/20\n",
            "30/30 [==============================] - 1s 25ms/step - loss: 0.1039 - accuracy: 0.9815 - val_loss: 0.3352 - val_accuracy: 0.8770\n",
            "Epoch 17/20\n",
            "30/30 [==============================] - 1s 25ms/step - loss: 0.0875 - accuracy: 0.9825 - val_loss: 0.3338 - val_accuracy: 0.8788\n",
            "Epoch 18/20\n",
            "30/30 [==============================] - 1s 39ms/step - loss: 0.0762 - accuracy: 0.9845 - val_loss: 0.3534 - val_accuracy: 0.8774\n",
            "Epoch 19/20\n",
            "30/30 [==============================] - 1s 30ms/step - loss: 0.0686 - accuracy: 0.9862 - val_loss: 0.3733 - val_accuracy: 0.8757\n",
            "Epoch 20/20\n",
            "30/30 [==============================] - 1s 24ms/step - loss: 0.0616 - accuracy: 0.9877 - val_loss: 0.3787 - val_accuracy: 0.8758\n"
          ]
        }
      ],
      "source": [
        "model = keras.Sequential([\n",
        "    layers.Dense(4, activation=\"relu\"),\n",
        "    layers.Dense(4, activation=\"relu\"),\n",
        "    layers.Dense(1, activation=\"sigmoid\")\n",
        "])\n",
        "model.compile(optimizer=\"rmsprop\",\n",
        "              loss=\"binary_crossentropy\",\n",
        "              metrics=[\"accuracy\"])\n",
        "history_smaller_model = model.fit(\n",
        "    train_data, train_labels,\n",
        "    epochs=20, batch_size=512, validation_split=0.4)"
      ]
    },
    {
      "cell_type": "markdown",
      "metadata": {
        "id": "_H2NS-ouGgb1"
      },
      "source": [
        "**Version of the model with higher capacity**"
      ]
    },
    {
      "cell_type": "code",
      "execution_count": null,
      "metadata": {
        "id": "EawCwCxEGgb2",
        "colab": {
          "base_uri": "https://localhost:8080/"
        },
        "outputId": "56478914-c2d4-4298-8f2e-2bcbde6587a0"
      },
      "outputs": [
        {
          "output_type": "stream",
          "name": "stdout",
          "text": [
            "Epoch 1/20\n",
            "30/30 [==============================] - 3s 71ms/step - loss: 0.5653 - accuracy: 0.7459 - val_loss: 0.5664 - val_accuracy: 0.7244\n",
            "Epoch 2/20\n",
            "30/30 [==============================] - 1s 28ms/step - loss: 0.3402 - accuracy: 0.8590 - val_loss: 0.2840 - val_accuracy: 0.8870\n",
            "Epoch 3/20\n",
            "30/30 [==============================] - 1s 27ms/step - loss: 0.2400 - accuracy: 0.9034 - val_loss: 0.2719 - val_accuracy: 0.8880\n",
            "Epoch 4/20\n",
            "30/30 [==============================] - 1s 27ms/step - loss: 0.1745 - accuracy: 0.9351 - val_loss: 0.3603 - val_accuracy: 0.8586\n",
            "Epoch 5/20\n",
            "30/30 [==============================] - 1s 27ms/step - loss: 0.1432 - accuracy: 0.9456 - val_loss: 0.3366 - val_accuracy: 0.8685\n",
            "Epoch 6/20\n",
            "30/30 [==============================] - 1s 28ms/step - loss: 0.1015 - accuracy: 0.9637 - val_loss: 0.3893 - val_accuracy: 0.8613\n",
            "Epoch 7/20\n",
            "30/30 [==============================] - 1s 43ms/step - loss: 0.0836 - accuracy: 0.9723 - val_loss: 0.3458 - val_accuracy: 0.8875\n",
            "Epoch 8/20\n",
            "30/30 [==============================] - 1s 35ms/step - loss: 0.0879 - accuracy: 0.9759 - val_loss: 0.3140 - val_accuracy: 0.8834\n",
            "Epoch 9/20\n",
            "30/30 [==============================] - 1s 26ms/step - loss: 0.0168 - accuracy: 0.9983 - val_loss: 0.4277 - val_accuracy: 0.8828\n",
            "Epoch 10/20\n",
            "30/30 [==============================] - 1s 28ms/step - loss: 0.0985 - accuracy: 0.9787 - val_loss: 0.3672 - val_accuracy: 0.8837\n",
            "Epoch 11/20\n",
            "30/30 [==============================] - 1s 28ms/step - loss: 0.0075 - accuracy: 0.9997 - val_loss: 0.4673 - val_accuracy: 0.8834\n",
            "Epoch 12/20\n",
            "30/30 [==============================] - 1s 28ms/step - loss: 0.0823 - accuracy: 0.9815 - val_loss: 0.3848 - val_accuracy: 0.8758\n",
            "Epoch 13/20\n",
            "30/30 [==============================] - 1s 27ms/step - loss: 0.0068 - accuracy: 0.9999 - val_loss: 0.4648 - val_accuracy: 0.8839\n",
            "Epoch 14/20\n",
            "30/30 [==============================] - 1s 27ms/step - loss: 0.0023 - accuracy: 0.9999 - val_loss: 0.5438 - val_accuracy: 0.8811\n",
            "Epoch 15/20\n",
            "30/30 [==============================] - 1s 27ms/step - loss: 0.0012 - accuracy: 0.9999 - val_loss: 0.6055 - val_accuracy: 0.8820\n",
            "Epoch 16/20\n",
            "30/30 [==============================] - 1s 26ms/step - loss: 7.0657e-04 - accuracy: 1.0000 - val_loss: 0.7202 - val_accuracy: 0.8677\n",
            "Epoch 17/20\n",
            "30/30 [==============================] - 1s 28ms/step - loss: 0.1013 - accuracy: 0.9816 - val_loss: 0.5101 - val_accuracy: 0.8821\n",
            "Epoch 18/20\n",
            "30/30 [==============================] - 1s 26ms/step - loss: 0.0011 - accuracy: 1.0000 - val_loss: 0.5848 - val_accuracy: 0.8822\n",
            "Epoch 19/20\n",
            "30/30 [==============================] - 1s 26ms/step - loss: 5.7250e-04 - accuracy: 1.0000 - val_loss: 0.6414 - val_accuracy: 0.8829\n",
            "Epoch 20/20\n",
            "30/30 [==============================] - 1s 26ms/step - loss: 3.7113e-04 - accuracy: 1.0000 - val_loss: 0.6806 - val_accuracy: 0.8826\n"
          ]
        }
      ],
      "source": [
        "model = keras.Sequential([\n",
        "    layers.Dense(512, activation=\"relu\"),\n",
        "    layers.Dense(512, activation=\"relu\"),\n",
        "    layers.Dense(1, activation=\"sigmoid\")\n",
        "])\n",
        "model.compile(optimizer=\"rmsprop\",\n",
        "              loss=\"binary_crossentropy\",\n",
        "              metrics=[\"accuracy\"])\n",
        "history_larger_model = model.fit(\n",
        "    train_data, train_labels,\n",
        "    epochs=20, batch_size=512, validation_split=0.4)"
      ]
    },
    {
      "cell_type": "markdown",
      "metadata": {
        "id": "1xZWZqL5Ggb2"
      },
      "source": [
        "#### Adding weight regularization"
      ]
    },
    {
      "cell_type": "markdown",
      "metadata": {
        "id": "uWqF48NHGgb2"
      },
      "source": [
        "**Adding L2 weight regularization to the model**"
      ]
    },
    {
      "cell_type": "code",
      "execution_count": null,
      "metadata": {
        "id": "iVvAMumnGgb3",
        "colab": {
          "base_uri": "https://localhost:8080/"
        },
        "outputId": "323b0da7-0c15-48f1-ad39-f6ec59271e84"
      },
      "outputs": [
        {
          "output_type": "stream",
          "name": "stdout",
          "text": [
            "Epoch 1/20\n",
            "30/30 [==============================] - 3s 66ms/step - loss: 0.6473 - accuracy: 0.7555 - val_loss: 0.5250 - val_accuracy: 0.8572\n",
            "Epoch 2/20\n",
            "30/30 [==============================] - 1s 23ms/step - loss: 0.4450 - accuracy: 0.8852 - val_loss: 0.4312 - val_accuracy: 0.8631\n",
            "Epoch 3/20\n",
            "30/30 [==============================] - 1s 24ms/step - loss: 0.3611 - accuracy: 0.9039 - val_loss: 0.3953 - val_accuracy: 0.8741\n",
            "Epoch 4/20\n",
            "30/30 [==============================] - 1s 22ms/step - loss: 0.3179 - accuracy: 0.9197 - val_loss: 0.3640 - val_accuracy: 0.8848\n",
            "Epoch 5/20\n",
            "30/30 [==============================] - 1s 23ms/step - loss: 0.2898 - accuracy: 0.9283 - val_loss: 0.3650 - val_accuracy: 0.8825\n",
            "Epoch 6/20\n",
            "30/30 [==============================] - 1s 25ms/step - loss: 0.2719 - accuracy: 0.9345 - val_loss: 0.3551 - val_accuracy: 0.8894\n",
            "Epoch 7/20\n",
            "30/30 [==============================] - 1s 24ms/step - loss: 0.2619 - accuracy: 0.9383 - val_loss: 0.3582 - val_accuracy: 0.8875\n",
            "Epoch 8/20\n",
            "30/30 [==============================] - 1s 26ms/step - loss: 0.2514 - accuracy: 0.9411 - val_loss: 0.3608 - val_accuracy: 0.8843\n",
            "Epoch 9/20\n",
            "30/30 [==============================] - 1s 31ms/step - loss: 0.2402 - accuracy: 0.9459 - val_loss: 0.3705 - val_accuracy: 0.8829\n",
            "Epoch 10/20\n",
            "30/30 [==============================] - 1s 41ms/step - loss: 0.2343 - accuracy: 0.9481 - val_loss: 0.3966 - val_accuracy: 0.8744\n",
            "Epoch 11/20\n",
            "30/30 [==============================] - 1s 23ms/step - loss: 0.2297 - accuracy: 0.9493 - val_loss: 0.3738 - val_accuracy: 0.8823\n",
            "Epoch 12/20\n",
            "30/30 [==============================] - 1s 22ms/step - loss: 0.2183 - accuracy: 0.9559 - val_loss: 0.3842 - val_accuracy: 0.8798\n",
            "Epoch 13/20\n",
            "30/30 [==============================] - 1s 23ms/step - loss: 0.2226 - accuracy: 0.9507 - val_loss: 0.4206 - val_accuracy: 0.8680\n",
            "Epoch 14/20\n",
            "30/30 [==============================] - 1s 25ms/step - loss: 0.2098 - accuracy: 0.9589 - val_loss: 0.3855 - val_accuracy: 0.8809\n",
            "Epoch 15/20\n",
            "30/30 [==============================] - 1s 23ms/step - loss: 0.2131 - accuracy: 0.9557 - val_loss: 0.3982 - val_accuracy: 0.8770\n",
            "Epoch 16/20\n",
            "30/30 [==============================] - 1s 23ms/step - loss: 0.2067 - accuracy: 0.9582 - val_loss: 0.3987 - val_accuracy: 0.8765\n",
            "Epoch 17/20\n",
            "30/30 [==============================] - 1s 23ms/step - loss: 0.2058 - accuracy: 0.9588 - val_loss: 0.3961 - val_accuracy: 0.8782\n",
            "Epoch 18/20\n",
            "30/30 [==============================] - 1s 22ms/step - loss: 0.2062 - accuracy: 0.9583 - val_loss: 0.4038 - val_accuracy: 0.8773\n",
            "Epoch 19/20\n",
            "30/30 [==============================] - 1s 25ms/step - loss: 0.1983 - accuracy: 0.9619 - val_loss: 0.4238 - val_accuracy: 0.8713\n",
            "Epoch 20/20\n",
            "30/30 [==============================] - 1s 22ms/step - loss: 0.1997 - accuracy: 0.9609 - val_loss: 0.4140 - val_accuracy: 0.8753\n"
          ]
        }
      ],
      "source": [
        "from tensorflow.keras import regularizers\n",
        "model = keras.Sequential([\n",
        "    layers.Dense(16,\n",
        "                 kernel_regularizer=regularizers.l2(0.002),\n",
        "                 activation=\"relu\"),\n",
        "    layers.Dense(16,\n",
        "                 kernel_regularizer=regularizers.l2(0.002),\n",
        "                 activation=\"relu\"),\n",
        "    layers.Dense(1, activation=\"sigmoid\")\n",
        "])\n",
        "model.compile(optimizer=\"rmsprop\",\n",
        "              loss=\"binary_crossentropy\",\n",
        "              metrics=[\"accuracy\"])\n",
        "history_l2_reg = model.fit(\n",
        "    train_data, train_labels,\n",
        "    epochs=20, batch_size=512, validation_split=0.4)"
      ]
    },
    {
      "cell_type": "markdown",
      "metadata": {
        "id": "9wT68NKfGgb3"
      },
      "source": [
        "**Different weight regularizers available in Keras**"
      ]
    },
    {
      "cell_type": "code",
      "execution_count": null,
      "metadata": {
        "id": "E3qA9ulyGgb3",
        "colab": {
          "base_uri": "https://localhost:8080/"
        },
        "outputId": "e9f7dbe1-8a7f-4c5f-d867-2bc1375dbc85"
      },
      "outputs": [
        {
          "output_type": "execute_result",
          "data": {
            "text/plain": [
              "<keras.src.regularizers.L1L2 at 0x7d3925917ac0>"
            ]
          },
          "metadata": {},
          "execution_count": 15
        }
      ],
      "source": [
        "from tensorflow.keras import regularizers\n",
        "regularizers.l1(0.001)\n",
        "regularizers.l1_l2(l1=0.001, l2=0.001)"
      ]
    },
    {
      "cell_type": "markdown",
      "metadata": {
        "id": "19nsYOQsGgb4"
      },
      "source": [
        "#### Adding dropout"
      ]
    },
    {
      "cell_type": "markdown",
      "metadata": {
        "id": "T4E4QylwGgb4"
      },
      "source": [
        "**Adding dropout to the IMDB model**"
      ]
    },
    {
      "cell_type": "code",
      "execution_count": null,
      "metadata": {
        "id": "qTGkzfzbGgb5",
        "colab": {
          "base_uri": "https://localhost:8080/"
        },
        "outputId": "7512eee5-faee-447e-a5c2-2deda3a054ba"
      },
      "outputs": [
        {
          "output_type": "stream",
          "name": "stdout",
          "text": [
            "Epoch 1/20\n",
            "30/30 [==============================] - 4s 67ms/step - loss: 0.6439 - accuracy: 0.6233 - val_loss: 0.5436 - val_accuracy: 0.8213\n",
            "Epoch 2/20\n",
            "30/30 [==============================] - 1s 22ms/step - loss: 0.5326 - accuracy: 0.7505 - val_loss: 0.4214 - val_accuracy: 0.8715\n",
            "Epoch 3/20\n",
            "30/30 [==============================] - 1s 22ms/step - loss: 0.4495 - accuracy: 0.8135 - val_loss: 0.3591 - val_accuracy: 0.8782\n",
            "Epoch 4/20\n",
            "30/30 [==============================] - 1s 24ms/step - loss: 0.3812 - accuracy: 0.8530 - val_loss: 0.3197 - val_accuracy: 0.8851\n",
            "Epoch 5/20\n",
            "30/30 [==============================] - 1s 25ms/step - loss: 0.3365 - accuracy: 0.8781 - val_loss: 0.2946 - val_accuracy: 0.8855\n",
            "Epoch 6/20\n",
            "30/30 [==============================] - 1s 24ms/step - loss: 0.2915 - accuracy: 0.9013 - val_loss: 0.2803 - val_accuracy: 0.8902\n",
            "Epoch 7/20\n",
            "30/30 [==============================] - 1s 39ms/step - loss: 0.2567 - accuracy: 0.9143 - val_loss: 0.2783 - val_accuracy: 0.8898\n",
            "Epoch 8/20\n",
            "30/30 [==============================] - 1s 29ms/step - loss: 0.2304 - accuracy: 0.9246 - val_loss: 0.2884 - val_accuracy: 0.8898\n",
            "Epoch 9/20\n",
            "30/30 [==============================] - 1s 25ms/step - loss: 0.2088 - accuracy: 0.9339 - val_loss: 0.3249 - val_accuracy: 0.8853\n",
            "Epoch 10/20\n",
            "30/30 [==============================] - 1s 22ms/step - loss: 0.1872 - accuracy: 0.9401 - val_loss: 0.3102 - val_accuracy: 0.8893\n",
            "Epoch 11/20\n",
            "30/30 [==============================] - 1s 22ms/step - loss: 0.1681 - accuracy: 0.9454 - val_loss: 0.3362 - val_accuracy: 0.8888\n",
            "Epoch 12/20\n",
            "30/30 [==============================] - 1s 23ms/step - loss: 0.1515 - accuracy: 0.9516 - val_loss: 0.3418 - val_accuracy: 0.8892\n",
            "Epoch 13/20\n",
            "30/30 [==============================] - 1s 22ms/step - loss: 0.1419 - accuracy: 0.9531 - val_loss: 0.3815 - val_accuracy: 0.8852\n",
            "Epoch 14/20\n",
            "30/30 [==============================] - 1s 24ms/step - loss: 0.1281 - accuracy: 0.9598 - val_loss: 0.3873 - val_accuracy: 0.8857\n",
            "Epoch 15/20\n",
            "30/30 [==============================] - 1s 24ms/step - loss: 0.1215 - accuracy: 0.9619 - val_loss: 0.4175 - val_accuracy: 0.8850\n",
            "Epoch 16/20\n",
            "30/30 [==============================] - 1s 23ms/step - loss: 0.1062 - accuracy: 0.9651 - val_loss: 0.4312 - val_accuracy: 0.8775\n",
            "Epoch 17/20\n",
            "30/30 [==============================] - 1s 24ms/step - loss: 0.1020 - accuracy: 0.9669 - val_loss: 0.4588 - val_accuracy: 0.8840\n",
            "Epoch 18/20\n",
            "30/30 [==============================] - 1s 24ms/step - loss: 0.0972 - accuracy: 0.9673 - val_loss: 0.4953 - val_accuracy: 0.8842\n",
            "Epoch 19/20\n",
            "30/30 [==============================] - 1s 22ms/step - loss: 0.0915 - accuracy: 0.9689 - val_loss: 0.5163 - val_accuracy: 0.8843\n",
            "Epoch 20/20\n",
            "30/30 [==============================] - 1s 24ms/step - loss: 0.0898 - accuracy: 0.9702 - val_loss: 0.4887 - val_accuracy: 0.8781\n"
          ]
        }
      ],
      "source": [
        "model = keras.Sequential([\n",
        "    layers.Dense(16, activation=\"relu\"),\n",
        "    layers.Dropout(0.5),\n",
        "    layers.Dense(16, activation=\"relu\"),\n",
        "    layers.Dropout(0.5),\n",
        "    layers.Dense(1, activation=\"sigmoid\")\n",
        "])\n",
        "model.compile(optimizer=\"rmsprop\",\n",
        "              loss=\"binary_crossentropy\",\n",
        "              metrics=[\"accuracy\"])\n",
        "history_dropout = model.fit(\n",
        "    train_data, train_labels,\n",
        "    epochs=20, batch_size=512, validation_split=0.4)"
      ]
    },
    {
      "cell_type": "markdown",
      "metadata": {
        "id": "R96IwWDlGgb5"
      },
      "source": [
        "## Summary"
      ]
    }
  ],
  "metadata": {
    "colab": {
      "provenance": [],
      "toc_visible": true,
      "gpuType": "T4",
      "include_colab_link": true
    },
    "kernelspec": {
      "display_name": "Python 3",
      "name": "python3"
    },
    "language_info": {
      "codemirror_mode": {
        "name": "ipython",
        "version": 3
      },
      "file_extension": ".py",
      "mimetype": "text/x-python",
      "name": "python",
      "nbconvert_exporter": "python",
      "pygments_lexer": "ipython3",
      "version": "3.7.0"
    },
    "accelerator": "GPU"
  },
  "nbformat": 4,
  "nbformat_minor": 0
}