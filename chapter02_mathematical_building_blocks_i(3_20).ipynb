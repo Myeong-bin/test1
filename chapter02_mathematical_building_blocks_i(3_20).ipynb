{
  "cells": [
    {
      "cell_type": "markdown",
      "metadata": {
        "id": "view-in-github",
        "colab_type": "text"
      },
      "source": [
        "<a href=\"https://colab.research.google.com/github/Myeong-bin/test1/blob/main/chapter02_mathematical_building_blocks_i(3_20).ipynb\" target=\"_parent\"><img src=\"https://colab.research.google.com/assets/colab-badge.svg\" alt=\"Open In Colab\"/></a>"
      ]
    },
    {
      "cell_type": "markdown",
      "metadata": {
        "id": "k1PYrmTcJcTS"
      },
      "source": [
        "### ???\n",
        "\n",
        "Some questions\n",
        "\n",
        "-How many samples in Mnisttest dataset?  \n",
        "\n",
        "-What is a dimension for minstdata?  \n",
        "\n",
        "-Try to create a 3D tensor object. (with any values you like)\n",
        "\n",
        "-Try to visualize the 1stdigit from mnisttest dataset (1stdigit data = test_images[0])\n",
        "\n",
        "-Try to manipulate and visualize the 1stdigit data\n",
        "\n",
        "\n",
        "\\\\\n",
        "Some questions\n",
        "\n",
        "-Try to use naïve version of reluand add functions.\n",
        "\n",
        "-Why we use x.copy() ?\n",
        "\n",
        "-Why the naïve version of the code slower?\n",
        "\n",
        "-Try to use broadcasting with your own example.\n",
        "\n",
        "-Explain your broadcasting example to your teammates\n",
        "\n",
        "-Try reshaping code and explain it to teammates.\n",
        "\n",
        "\\\\\n",
        "Some questions-Say x, y are scalar, find derivatives of with respect to x and y. (Set x = 2, y = 1 for the calculation)\n",
        "\n",
        "-Set x, W and b asx=tf.constant(np.array([1.,4.,3.]).reshape(1,3),dtype=tf.float32)W=tf.Variable(tf.random.uniform((3,2)),dtype=tf.float32)b=tf.Variable(tf.zeros((2,)),dtype=tf.float32)\n",
        "\n",
        "-Find derivatives of                                 with respect to W and b. (Hint: search for tf.pow() )\n",
        "\n",
        "-Find derivatives of                                 with respect to W and b.\n",
        "\n",
        "\n",
        "\\\\\n",
        "Some questions\n",
        "\n",
        "-Check weights from defined models.\n",
        "\n",
        "-Try running Naïve version of model and check weights."
      ]
    },
    {
      "cell_type": "markdown",
      "metadata": {
        "id": "af9jWmTzJcTa"
      },
      "source": [
        "## The mathematical building blocks of neural networks"
      ]
    },
    {
      "cell_type": "markdown",
      "metadata": {
        "id": "WKlsP13tJcTb"
      },
      "source": [
        "## 1. A first look at a neural network"
      ]
    },
    {
      "cell_type": "markdown",
      "metadata": {
        "id": "CM9He609JcTb"
      },
      "source": [
        "**Loading the MNIST dataset in Keras**"
      ]
    },
    {
      "cell_type": "code",
      "execution_count": null,
      "metadata": {
        "id": "Q-dbJFxYJcTc",
        "colab": {
          "base_uri": "https://localhost:8080/"
        },
        "outputId": "b1abdd6c-ff66-4f5c-a874-ea5281c9e9d4"
      },
      "outputs": [
        {
          "output_type": "stream",
          "name": "stdout",
          "text": [
            "Downloading data from https://storage.googleapis.com/tensorflow/tf-keras-datasets/mnist.npz\n",
            "11490434/11490434 [==============================] - 0s 0us/step\n"
          ]
        }
      ],
      "source": [
        "# MNIST 데이터셋을 불러오고, 훈련 데이터와 레이블, 테스트 데이터와 레이블을 로드\n",
        "\n",
        "from tensorflow.keras.datasets import mnist\n",
        "(train_images, train_labels), (test_images, test_labels) = mnist.load_data()"
      ]
    },
    {
      "cell_type": "code",
      "execution_count": null,
      "metadata": {
        "id": "bEskaHqKJcTf",
        "colab": {
          "base_uri": "https://localhost:8080/"
        },
        "outputId": "8d48b635-9dcf-4b2d-8387-617b75fbe629"
      },
      "outputs": [
        {
          "output_type": "execute_result",
          "data": {
            "text/plain": [
              "(60000, 28, 28)"
            ]
          },
          "metadata": {},
          "execution_count": 2
        }
      ],
      "source": [
        "train_images.shape"
      ]
    },
    {
      "cell_type": "code",
      "source": [
        "train_images[0]"
      ],
      "metadata": {
        "colab": {
          "base_uri": "https://localhost:8080/",
          "height": 67
        },
        "id": "eRVEsNuiGfmT",
        "outputId": "479e85a4-e7d8-4b05-97f5-90072f54ce0e"
      },
      "execution_count": null,
      "outputs": [
        {
          "output_type": "execute_result",
          "data": {
            "text/plain": [
              "array([[  0,   0,   0,   0,   0,   0,   0,   0,   0,   0,   0,   0,   0,\n",
              "          0,   0,   0,   0,   0,   0,   0,   0,   0,   0,   0,   0,   0,\n",
              "          0,   0],\n",
              "       [  0,   0,   0,   0,   0,   0,   0,   0,   0,   0,   0,   0,   0,\n",
              "          0,   0,   0,   0,   0,   0,   0,   0,   0,   0,   0,   0,   0,\n",
              "          0,   0],\n",
              "       [  0,   0,   0,   0,   0,   0,   0,   0,   0,   0,   0,   0,   0,\n",
              "          0,   0,   0,   0,   0,   0,   0,   0,   0,   0,   0,   0,   0,\n",
              "          0,   0],\n",
              "       [  0,   0,   0,   0,   0,   0,   0,   0,   0,   0,   0,   0,   0,\n",
              "          0,   0,   0,   0,   0,   0,   0,   0,   0,   0,   0,   0,   0,\n",
              "          0,   0],\n",
              "       [  0,   0,   0,   0,   0,   0,   0,   0,   0,   0,   0,   0,   0,\n",
              "          0,   0,   0,   0,   0,   0,   0,   0,   0,   0,   0,   0,   0,\n",
              "          0,   0],\n",
              "       [  0,   0,   0,   0,   0,   0,   0,   0,   0,   0,   0,   0,   3,\n",
              "         18,  18,  18, 126, 136, 175,  26, 166, 255, 247, 127,   0,   0,\n",
              "          0,   0],\n",
              "       [  0,   0,   0,   0,   0,   0,   0,   0,  30,  36,  94, 154, 170,\n",
              "        253, 253, 253, 253, 253, 225, 172, 253, 242, 195,  64,   0,   0,\n",
              "          0,   0],\n",
              "       [  0,   0,   0,   0,   0,   0,   0,  49, 238, 253, 253, 253, 253,\n",
              "        253, 253, 253, 253, 251,  93,  82,  82,  56,  39,   0,   0,   0,\n",
              "          0,   0],\n",
              "       [  0,   0,   0,   0,   0,   0,   0,  18, 219, 253, 253, 253, 253,\n",
              "        253, 198, 182, 247, 241,   0,   0,   0,   0,   0,   0,   0,   0,\n",
              "          0,   0],\n",
              "       [  0,   0,   0,   0,   0,   0,   0,   0,  80, 156, 107, 253, 253,\n",
              "        205,  11,   0,  43, 154,   0,   0,   0,   0,   0,   0,   0,   0,\n",
              "          0,   0],\n",
              "       [  0,   0,   0,   0,   0,   0,   0,   0,   0,  14,   1, 154, 253,\n",
              "         90,   0,   0,   0,   0,   0,   0,   0,   0,   0,   0,   0,   0,\n",
              "          0,   0],\n",
              "       [  0,   0,   0,   0,   0,   0,   0,   0,   0,   0,   0, 139, 253,\n",
              "        190,   2,   0,   0,   0,   0,   0,   0,   0,   0,   0,   0,   0,\n",
              "          0,   0],\n",
              "       [  0,   0,   0,   0,   0,   0,   0,   0,   0,   0,   0,  11, 190,\n",
              "        253,  70,   0,   0,   0,   0,   0,   0,   0,   0,   0,   0,   0,\n",
              "          0,   0],\n",
              "       [  0,   0,   0,   0,   0,   0,   0,   0,   0,   0,   0,   0,  35,\n",
              "        241, 225, 160, 108,   1,   0,   0,   0,   0,   0,   0,   0,   0,\n",
              "          0,   0],\n",
              "       [  0,   0,   0,   0,   0,   0,   0,   0,   0,   0,   0,   0,   0,\n",
              "         81, 240, 253, 253, 119,  25,   0,   0,   0,   0,   0,   0,   0,\n",
              "          0,   0],\n",
              "       [  0,   0,   0,   0,   0,   0,   0,   0,   0,   0,   0,   0,   0,\n",
              "          0,  45, 186, 253, 253, 150,  27,   0,   0,   0,   0,   0,   0,\n",
              "          0,   0],\n",
              "       [  0,   0,   0,   0,   0,   0,   0,   0,   0,   0,   0,   0,   0,\n",
              "          0,   0,  16,  93, 252, 253, 187,   0,   0,   0,   0,   0,   0,\n",
              "          0,   0],\n",
              "       [  0,   0,   0,   0,   0,   0,   0,   0,   0,   0,   0,   0,   0,\n",
              "          0,   0,   0,   0, 249, 253, 249,  64,   0,   0,   0,   0,   0,\n",
              "          0,   0],\n",
              "       [  0,   0,   0,   0,   0,   0,   0,   0,   0,   0,   0,   0,   0,\n",
              "          0,  46, 130, 183, 253, 253, 207,   2,   0,   0,   0,   0,   0,\n",
              "          0,   0],\n",
              "       [  0,   0,   0,   0,   0,   0,   0,   0,   0,   0,   0,   0,  39,\n",
              "        148, 229, 253, 253, 253, 250, 182,   0,   0,   0,   0,   0,   0,\n",
              "          0,   0],\n",
              "       [  0,   0,   0,   0,   0,   0,   0,   0,   0,   0,  24, 114, 221,\n",
              "        253, 253, 253, 253, 201,  78,   0,   0,   0,   0,   0,   0,   0,\n",
              "          0,   0],\n",
              "       [  0,   0,   0,   0,   0,   0,   0,   0,  23,  66, 213, 253, 253,\n",
              "        253, 253, 198,  81,   2,   0,   0,   0,   0,   0,   0,   0,   0,\n",
              "          0,   0],\n",
              "       [  0,   0,   0,   0,   0,   0,  18, 171, 219, 253, 253, 253, 253,\n",
              "        195,  80,   9,   0,   0,   0,   0,   0,   0,   0,   0,   0,   0,\n",
              "          0,   0],\n",
              "       [  0,   0,   0,   0,  55, 172, 226, 253, 253, 253, 253, 244, 133,\n",
              "         11,   0,   0,   0,   0,   0,   0,   0,   0,   0,   0,   0,   0,\n",
              "          0,   0],\n",
              "       [  0,   0,   0,   0, 136, 253, 253, 253, 212, 135, 132,  16,   0,\n",
              "          0,   0,   0,   0,   0,   0,   0,   0,   0,   0,   0,   0,   0,\n",
              "          0,   0],\n",
              "       [  0,   0,   0,   0,   0,   0,   0,   0,   0,   0,   0,   0,   0,\n",
              "          0,   0,   0,   0,   0,   0,   0,   0,   0,   0,   0,   0,   0,\n",
              "          0,   0],\n",
              "       [  0,   0,   0,   0,   0,   0,   0,   0,   0,   0,   0,   0,   0,\n",
              "          0,   0,   0,   0,   0,   0,   0,   0,   0,   0,   0,   0,   0,\n",
              "          0,   0],\n",
              "       [  0,   0,   0,   0,   0,   0,   0,   0,   0,   0,   0,   0,   0,\n",
              "          0,   0,   0,   0,   0,   0,   0,   0,   0,   0,   0,   0,   0,\n",
              "          0,   0]], dtype=uint8)"
            ],
            "text/html": [
              "<style>\n",
              "      .ndarray_repr .ndarray_raw_data {\n",
              "        display: none;\n",
              "      }\n",
              "      .ndarray_repr.show_array .ndarray_raw_data {\n",
              "        display: block;\n",
              "      }\n",
              "      .ndarray_repr.show_array .ndarray_image_preview {\n",
              "        display: none;\n",
              "      }\n",
              "      </style>\n",
              "      <div id=\"id-1678aa98-6e1e-4872-8dfc-74aae7f183a7\" class=\"ndarray_repr\"><pre>ndarray (28, 28) <button style=\"padding: 0 2px;\">show data</button></pre><img src=\"data:image/png;base64,iVBORw0KGgoAAAANSUhEUgAAABwAAAAcCAAAAABXZoBIAAABAElEQVR4nGNgGMyAWUhIqK5jvdSy/9/rGRgYGFhgEnJsVjYCwQwMDAxPJgV+vniQgYGBgREqZ7iXH8r6l/SV4dn7m8gmCt3++/fv37/Htn3/iMW+gDnZf/+e5WbQnoXNNXyMs/5GoQoxwVmf/n9kSGFiwAW49/11wynJoPzx4YIcRlyygR/+/i2XxCWru+vv32nSuGQFYv/83Y3b4p9/fzpAmSyoMnohpiwM1w5h06Q+5enfv39/bcMiJVF09+/fv39P+mFKiTtd/fv3799jgZiBJLT69t+/f/8eDuDEkDJf8+jv379/v7Ryo4qzMDAwMAQGMjBc3/y35wM2V1IfAABFF16Aa0wAOwAAAABJRU5ErkJggg==\" class=\"ndarray_image_preview\" /><pre class=\"ndarray_raw_data\">array([[  0,   0,   0,   0,   0,   0,   0,   0,   0,   0,   0,   0,   0,\n",
              "          0,   0,   0,   0,   0,   0,   0,   0,   0,   0,   0,   0,   0,\n",
              "          0,   0],\n",
              "       [  0,   0,   0,   0,   0,   0,   0,   0,   0,   0,   0,   0,   0,\n",
              "          0,   0,   0,   0,   0,   0,   0,   0,   0,   0,   0,   0,   0,\n",
              "          0,   0],\n",
              "       [  0,   0,   0,   0,   0,   0,   0,   0,   0,   0,   0,   0,   0,\n",
              "          0,   0,   0,   0,   0,   0,   0,   0,   0,   0,   0,   0,   0,\n",
              "          0,   0],\n",
              "       [  0,   0,   0,   0,   0,   0,   0,   0,   0,   0,   0,   0,   0,\n",
              "          0,   0,   0,   0,   0,   0,   0,   0,   0,   0,   0,   0,   0,\n",
              "          0,   0],\n",
              "       [  0,   0,   0,   0,   0,   0,   0,   0,   0,   0,   0,   0,   0,\n",
              "          0,   0,   0,   0,   0,   0,   0,   0,   0,   0,   0,   0,   0,\n",
              "          0,   0],\n",
              "       [  0,   0,   0,   0,   0,   0,   0,   0,   0,   0,   0,   0,   3,\n",
              "         18,  18,  18, 126, 136, 175,  26, 166, 255, 247, 127,   0,   0,\n",
              "          0,   0],\n",
              "       [  0,   0,   0,   0,   0,   0,   0,   0,  30,  36,  94, 154, 170,\n",
              "        253, 253, 253, 253, 253, 225, 172, 253, 242, 195,  64,   0,   0,\n",
              "          0,   0],\n",
              "       [  0,   0,   0,   0,   0,   0,   0,  49, 238, 253, 253, 253, 253,\n",
              "        253, 253, 253, 253, 251,  93,  82,  82,  56,  39,   0,   0,   0,\n",
              "          0,   0],\n",
              "       [  0,   0,   0,   0,   0,   0,   0,  18, 219, 253, 253, 253, 253,\n",
              "        253, 198, 182, 247, 241,   0,   0,   0,   0,   0,   0,   0,   0,\n",
              "          0,   0],\n",
              "       [  0,   0,   0,   0,   0,   0,   0,   0,  80, 156, 107, 253, 253,\n",
              "        205,  11,   0,  43, 154,   0,   0,   0,   0,   0,   0,   0,   0,\n",
              "          0,   0],\n",
              "       [  0,   0,   0,   0,   0,   0,   0,   0,   0,  14,   1, 154, 253,\n",
              "         90,   0,   0,   0,   0,   0,   0,   0,   0,   0,   0,   0,   0,\n",
              "          0,   0],\n",
              "       [  0,   0,   0,   0,   0,   0,   0,   0,   0,   0,   0, 139, 253,\n",
              "        190,   2,   0,   0,   0,   0,   0,   0,   0,   0,   0,   0,   0,\n",
              "          0,   0],\n",
              "       [  0,   0,   0,   0,   0,   0,   0,   0,   0,   0,   0,  11, 190,\n",
              "        253,  70,   0,   0,   0,   0,   0,   0,   0,   0,   0,   0,   0,\n",
              "          0,   0],\n",
              "       [  0,   0,   0,   0,   0,   0,   0,   0,   0,   0,   0,   0,  35,\n",
              "        241, 225, 160, 108,   1,   0,   0,   0,   0,   0,   0,   0,   0,\n",
              "          0,   0],\n",
              "       [  0,   0,   0,   0,   0,   0,   0,   0,   0,   0,   0,   0,   0,\n",
              "         81, 240, 253, 253, 119,  25,   0,   0,   0,   0,   0,   0,   0,\n",
              "          0,   0],\n",
              "       [  0,   0,   0,   0,   0,   0,   0,   0,   0,   0,   0,   0,   0,\n",
              "          0,  45, 186, 253, 253, 150,  27,   0,   0,   0,   0,   0,   0,\n",
              "          0,   0],\n",
              "       [  0,   0,   0,   0,   0,   0,   0,   0,   0,   0,   0,   0,   0,\n",
              "          0,   0,  16,  93, 252, 253, 187,   0,   0,   0,   0,   0,   0,\n",
              "          0,   0],\n",
              "       [  0,   0,   0,   0,   0,   0,   0,   0,   0,   0,   0,   0,   0,\n",
              "          0,   0,   0,   0, 249, 253, 249,  64,   0,   0,   0,   0,   0,\n",
              "          0,   0],\n",
              "       [  0,   0,   0,   0,   0,   0,   0,   0,   0,   0,   0,   0,   0,\n",
              "          0,  46, 130, 183, 253, 253, 207,   2,   0,   0,   0,   0,   0,\n",
              "          0,   0],\n",
              "       [  0,   0,   0,   0,   0,   0,   0,   0,   0,   0,   0,   0,  39,\n",
              "        148, 229, 253, 253, 253, 250, 182,   0,   0,   0,   0,   0,   0,\n",
              "          0,   0],\n",
              "       [  0,   0,   0,   0,   0,   0,   0,   0,   0,   0,  24, 114, 221,\n",
              "        253, 253, 253, 253, 201,  78,   0,   0,   0,   0,   0,   0,   0,\n",
              "          0,   0],\n",
              "       [  0,   0,   0,   0,   0,   0,   0,   0,  23,  66, 213, 253, 253,\n",
              "        253, 253, 198,  81,   2,   0,   0,   0,   0,   0,   0,   0,   0,\n",
              "          0,   0],\n",
              "       [  0,   0,   0,   0,   0,   0,  18, 171, 219, 253, 253, 253, 253,\n",
              "        195,  80,   9,   0,   0,   0,   0,   0,   0,   0,   0,   0,   0,\n",
              "          0,   0],\n",
              "       [  0,   0,   0,   0,  55, 172, 226, 253, 253, 253, 253, 244, 133,\n",
              "         11,   0,   0,   0,   0,   0,   0,   0,   0,   0,   0,   0,   0,\n",
              "          0,   0],\n",
              "       [  0,   0,   0,   0, 136, 253, 253, 253, 212, 135, 132,  16,   0,\n",
              "          0,   0,   0,   0,   0,   0,   0,   0,   0,   0,   0,   0,   0,\n",
              "          0,   0],\n",
              "       [  0,   0,   0,   0,   0,   0,   0,   0,   0,   0,   0,   0,   0,\n",
              "          0,   0,   0,   0,   0,   0,   0,   0,   0,   0,   0,   0,   0,\n",
              "          0,   0],\n",
              "       [  0,   0,   0,   0,   0,   0,   0,   0,   0,   0,   0,   0,   0,\n",
              "          0,   0,   0,   0,   0,   0,   0,   0,   0,   0,   0,   0,   0,\n",
              "          0,   0],\n",
              "       [  0,   0,   0,   0,   0,   0,   0,   0,   0,   0,   0,   0,   0,\n",
              "          0,   0,   0,   0,   0,   0,   0,   0,   0,   0,   0,   0,   0,\n",
              "          0,   0]], dtype=uint8)</pre></div><script>\n",
              "      (() => {\n",
              "      const titles = ['show data', 'hide data'];\n",
              "      let index = 0\n",
              "      document.querySelector('#id-1678aa98-6e1e-4872-8dfc-74aae7f183a7 button').onclick = (e) => {\n",
              "        document.querySelector('#id-1678aa98-6e1e-4872-8dfc-74aae7f183a7').classList.toggle('show_array');\n",
              "        index = (++index) % 2;\n",
              "        document.querySelector('#id-1678aa98-6e1e-4872-8dfc-74aae7f183a7 button').textContent = titles[index];\n",
              "        e.preventDefault();\n",
              "        e.stopPropagation();\n",
              "      }\n",
              "      })();\n",
              "    </script>"
            ]
          },
          "metadata": {},
          "execution_count": 3
        }
      ]
    },
    {
      "cell_type": "code",
      "execution_count": null,
      "metadata": {
        "id": "jIiwTYI0JcTg",
        "colab": {
          "base_uri": "https://localhost:8080/"
        },
        "outputId": "49e605fe-833b-4714-fb2b-e740bcfa1372"
      },
      "outputs": [
        {
          "output_type": "execute_result",
          "data": {
            "text/plain": [
              "60000"
            ]
          },
          "metadata": {},
          "execution_count": 4
        }
      ],
      "source": [
        "len(train_labels)"
      ]
    },
    {
      "cell_type": "code",
      "execution_count": null,
      "metadata": {
        "id": "qfX0CuLXJcTh",
        "colab": {
          "base_uri": "https://localhost:8080/"
        },
        "outputId": "fdaeeadc-349a-40b1-d7c2-00bfcfadb03c"
      },
      "outputs": [
        {
          "output_type": "execute_result",
          "data": {
            "text/plain": [
              "array([5, 0, 4, ..., 5, 6, 8], dtype=uint8)"
            ]
          },
          "metadata": {},
          "execution_count": 5
        }
      ],
      "source": [
        "train_labels"
      ]
    },
    {
      "cell_type": "code",
      "execution_count": null,
      "metadata": {
        "id": "4egSu0CjJcTi",
        "colab": {
          "base_uri": "https://localhost:8080/"
        },
        "outputId": "9197c84f-8879-419f-8c3d-a87bf0167f3f"
      },
      "outputs": [
        {
          "output_type": "execute_result",
          "data": {
            "text/plain": [
              "(10000, 28, 28)"
            ]
          },
          "metadata": {},
          "execution_count": 6
        }
      ],
      "source": [
        "test_images.shape"
      ]
    },
    {
      "cell_type": "code",
      "execution_count": null,
      "metadata": {
        "id": "D_IzfcKrJcTj",
        "colab": {
          "base_uri": "https://localhost:8080/"
        },
        "outputId": "a9afdde7-3478-4197-9b72-51bdc16798a0"
      },
      "outputs": [
        {
          "output_type": "execute_result",
          "data": {
            "text/plain": [
              "10000"
            ]
          },
          "metadata": {},
          "execution_count": 7
        }
      ],
      "source": [
        "len(test_labels)"
      ]
    },
    {
      "cell_type": "code",
      "execution_count": null,
      "metadata": {
        "id": "g3LcGrF6JcTk",
        "colab": {
          "base_uri": "https://localhost:8080/"
        },
        "outputId": "12fbe6cd-8853-40f6-c342-37bea21a7f37"
      },
      "outputs": [
        {
          "output_type": "execute_result",
          "data": {
            "text/plain": [
              "array([7, 2, 1, ..., 4, 5, 6], dtype=uint8)"
            ]
          },
          "metadata": {},
          "execution_count": 8
        }
      ],
      "source": [
        "test_labels"
      ]
    },
    {
      "cell_type": "markdown",
      "metadata": {
        "id": "fTs6UGtjJcTk"
      },
      "source": [
        "**The network architecture**"
      ]
    },
    {
      "cell_type": "code",
      "execution_count": null,
      "metadata": {
        "id": "hL4HPy1mJcTl"
      },
      "outputs": [],
      "source": [
        "# Sequential 모델을 생성하고, 이 모델에 두 개의 Dense 레이어를 추가합니다.\n",
        "# 첫 번째 Dense 레이어는 512개의 뉴런과 ReLU 활성화 함수를 사용하고, 두 번째 레이어는 10개의 뉴런과 softmax 활성화 함수를 사용\n",
        "\n",
        "from tensorflow import keras\n",
        "from tensorflow.keras import layers\n",
        "model = keras.Sequential([\n",
        "    layers.Dense(512, activation=\"relu\"),\n",
        "    layers.Dense(10, activation=\"softmax\")\n",
        "])"
      ]
    },
    {
      "cell_type": "markdown",
      "metadata": {
        "id": "uLjgVmrZJcTl"
      },
      "source": [
        "**The compilation step**"
      ]
    },
    {
      "cell_type": "code",
      "execution_count": null,
      "metadata": {
        "id": "npGGEv5AJcTm"
      },
      "outputs": [],
      "source": [
        "# rmsprop 대신 adam 쓰기도 함\n",
        "# 모델을 컴파일합니다.\n",
        "# 여기서는 'rmsprop' 옵티마이저를 사용하고, 손실 함수로 'sparse_categorical_crossentropy'를 사용합니다.\n",
        "# 또한 모델의 성능 지표(metrics)로 정확도('accuracy')를 사용\n",
        "\n",
        "model.compile(optimizer=\"rmsprop\",\n",
        "              loss=\"sparse_categorical_crossentropy\",\n",
        "              metrics=[\"accuracy\"])"
      ]
    },
    {
      "cell_type": "markdown",
      "metadata": {
        "id": "NGvPHQLDJcTm"
      },
      "source": [
        "**Preparing the image data**"
      ]
    },
    {
      "cell_type": "code",
      "execution_count": null,
      "metadata": {
        "id": "Ex2i-kcnJcTn"
      },
      "outputs": [],
      "source": [
        "# 이미지 데이터를 모델에 적합한 형태로 reshape하고, 픽셀 값의 범위를 0과 1 사이로 정규화합니다.\n",
        "\n",
        "train_images = train_images.reshape((60000, 28 * 28))\n",
        "train_images = train_images.astype(\"float32\") / 255\n",
        "test_images = test_images.reshape((10000, 28 * 28))\n",
        "test_images = test_images.astype(\"float32\") / 255"
      ]
    },
    {
      "cell_type": "markdown",
      "metadata": {
        "id": "M7igpCdQJcTn"
      },
      "source": [
        "**\"Fitting\" the model**"
      ]
    },
    {
      "cell_type": "code",
      "execution_count": null,
      "metadata": {
        "id": "_L5JfNwgJcTn",
        "colab": {
          "base_uri": "https://localhost:8080/"
        },
        "outputId": "f959ebc3-88df-4fc6-831c-5ae5ff909bf6"
      },
      "outputs": [
        {
          "output_type": "stream",
          "name": "stdout",
          "text": [
            "Epoch 1/5\n",
            "469/469 [==============================] - 3s 3ms/step - loss: 0.2625 - accuracy: 0.9243\n",
            "Epoch 2/5\n",
            "469/469 [==============================] - 1s 3ms/step - loss: 0.1066 - accuracy: 0.9690\n",
            "Epoch 3/5\n",
            "469/469 [==============================] - 1s 3ms/step - loss: 0.0703 - accuracy: 0.9793\n",
            "Epoch 4/5\n",
            "469/469 [==============================] - 1s 3ms/step - loss: 0.0500 - accuracy: 0.9846\n",
            "Epoch 5/5\n",
            "469/469 [==============================] - 1s 3ms/step - loss: 0.0376 - accuracy: 0.9892\n"
          ]
        },
        {
          "output_type": "execute_result",
          "data": {
            "text/plain": [
              "<keras.src.callbacks.History at 0x7852d02ff550>"
            ]
          },
          "metadata": {},
          "execution_count": 12
        }
      ],
      "source": [
        "# 모델을 훈련합니다. 훈련 이미지와 레이블을 사용하여 모델을 학습하고, 5번의 epoch 동안 학습을 진행\n",
        "\n",
        "model.fit(train_images, train_labels, epochs=5, batch_size=128)"
      ]
    },
    {
      "cell_type": "markdown",
      "metadata": {
        "id": "FeQo_4ONJcTo"
      },
      "source": [
        "**Using the model to make predictions**"
      ]
    },
    {
      "cell_type": "code",
      "execution_count": null,
      "metadata": {
        "id": "GMtcUn2FJcTo",
        "colab": {
          "base_uri": "https://localhost:8080/"
        },
        "outputId": "2fe92587-8acf-44dd-9e53-ea7f944d7861"
      },
      "outputs": [
        {
          "output_type": "stream",
          "name": "stdout",
          "text": [
            "1/1 [==============================] - 0s 69ms/step\n"
          ]
        },
        {
          "output_type": "execute_result",
          "data": {
            "text/plain": [
              "array([2.8630678e-08, 1.4859067e-08, 5.0678018e-06, 1.5953682e-04,\n",
              "       9.8298543e-11, 2.1272131e-08, 4.2316060e-12, 9.9983478e-01,\n",
              "       2.8577526e-07, 3.1551181e-07], dtype=float32)"
            ]
          },
          "metadata": {},
          "execution_count": 13
        }
      ],
      "source": [
        "# 테스트 데이터에서 일부 이미지에 대한 예측을 수행합니다. 모델의 predict 메서드를 사용하여 예측값을 계산\n",
        "\n",
        "test_digits = test_images[0:10]\n",
        "predictions = model.predict(test_digits)\n",
        "predictions[0]"
      ]
    },
    {
      "cell_type": "code",
      "execution_count": null,
      "metadata": {
        "id": "ACRrQeAMJcTo",
        "colab": {
          "base_uri": "https://localhost:8080/"
        },
        "outputId": "4b045f91-107a-40de-fbe2-169875af958c"
      },
      "outputs": [
        {
          "output_type": "execute_result",
          "data": {
            "text/plain": [
              "7"
            ]
          },
          "metadata": {},
          "execution_count": 14
        }
      ],
      "source": [
        "predictions[0].argmax()"
      ]
    },
    {
      "cell_type": "code",
      "execution_count": null,
      "metadata": {
        "id": "NST4BgHAJcTp",
        "colab": {
          "base_uri": "https://localhost:8080/"
        },
        "outputId": "54d3f165-4383-41ef-b76a-1b5f872bbaa8"
      },
      "outputs": [
        {
          "output_type": "execute_result",
          "data": {
            "text/plain": [
              "0.9998348"
            ]
          },
          "metadata": {},
          "execution_count": 15
        }
      ],
      "source": [
        "predictions[0][7]"
      ]
    },
    {
      "cell_type": "code",
      "execution_count": null,
      "metadata": {
        "id": "mavD_jmyJcTp",
        "colab": {
          "base_uri": "https://localhost:8080/"
        },
        "outputId": "ac2f863e-853b-4230-c3d6-4d32d4332291"
      },
      "outputs": [
        {
          "output_type": "execute_result",
          "data": {
            "text/plain": [
              "7"
            ]
          },
          "metadata": {},
          "execution_count": 16
        }
      ],
      "source": [
        "test_labels[0]"
      ]
    },
    {
      "cell_type": "markdown",
      "metadata": {
        "id": "90d2W15uJcTp"
      },
      "source": [
        "**Evaluating the model on new data**"
      ]
    },
    {
      "cell_type": "code",
      "execution_count": null,
      "metadata": {
        "id": "G529nLu5JcTp",
        "colab": {
          "base_uri": "https://localhost:8080/"
        },
        "outputId": "beb87331-4a87-4ac8-d74b-10e5bad84555"
      },
      "outputs": [
        {
          "output_type": "stream",
          "name": "stdout",
          "text": [
            "313/313 [==============================] - 1s 2ms/step - loss: 0.0654 - accuracy: 0.9805\n",
            "test_acc: 0.9804999828338623\n"
          ]
        }
      ],
      "source": [
        "# 테스트 이미지를 사용하여 모델의 성능을 평가합니다.\n",
        "# evaluate 함수를 사용하여 테스트 데이터에 대한 손실(loss)과 정확도(accuracy)를 계산하고 출력\n",
        "\n",
        "test_loss, test_acc = model.evaluate(test_images, test_labels)\n",
        "print(f\"test_acc: {test_acc}\")"
      ]
    },
    {
      "cell_type": "markdown",
      "metadata": {
        "id": "V7huNXgbJcTq"
      },
      "source": [
        "## 2. Data representations for neural networks"
      ]
    },
    {
      "cell_type": "code",
      "source": [
        "# 코드 총합본\n",
        "\n",
        "import numpy as np\n",
        "x = np.array(12)\n",
        "x\n",
        "x.ndim\n",
        "\n",
        "x = np.array([12, 3, 6, 14, 7])\n",
        "x\n",
        "x.ndim\n",
        "\n",
        "x = np.array([[5, 78, 2, 34, 0],\n",
        "              [6, 79, 3, 35, 1],\n",
        "              [7, 80, 4, 36, 2]])\n",
        "x.ndim\n",
        "\n",
        "x = np.array([[[5, 78, 2, 34, 0],\n",
        "               [6, 79, 3, 35, 1],\n",
        "               [7, 80, 4, 36, 2]],\n",
        "              [[5, 78, 2, 34, 0],\n",
        "               [6, 79, 3, 35, 1],\n",
        "               [7, 80, 4, 36, 2]],\n",
        "              [[5, 78, 2, 34, 0],\n",
        "               [6, 79, 3, 35, 1],\n",
        "               [7, 80, 4, 36, 2]]])\n",
        "x.ndim\n",
        "\n",
        "from tensorflow.keras.datasets import mnist\n",
        "(train_images, train_labels), (test_images, test_labels) = mnist.load_data()\n",
        "\n",
        "train_images.ndim\n",
        "\n",
        "train_images.shape\n",
        "\n",
        "import matplotlib.pyplot as plt\n",
        "digit = train_images[4]\n",
        "plt.imshow(digit, cmap=plt.cm.binary)\n",
        "plt.show()\n",
        "\n",
        "train_labels[4]\n",
        "\n",
        "train_images.shape\n",
        "\n",
        "my_slice = train_images[10:100]\n",
        "my_slice.shape\n",
        "\n",
        "my_slice = train_images[10:100, :, :] # 데이터 전체 선택\n",
        "my_slice.shape\n",
        "\n",
        "my_slice = train_images[10:100, 0:28, 0:28]\n",
        "my_slice.shape\n",
        "\n",
        "my_slice = train_images[:, 14:, 14:]\n",
        "\n",
        "my_slice = train_images[:, 7:-7, 7:-7]\n",
        "\n",
        "digit = train_images[4]\n",
        "plt.imshow(digit, cmap=plt.cm.binary)\n",
        "plt.show()\n",
        "\n",
        "batch = train_images[:128]\n",
        "batch = train_images[128:256]\n",
        "n = 3\n",
        "batch = train_images[128 * n:128 * (n + 1)]"
      ],
      "metadata": {
        "id": "tACB5aNEjsdy"
      },
      "execution_count": null,
      "outputs": []
    },
    {
      "cell_type": "markdown",
      "metadata": {
        "id": "Q797cdCpJcTq"
      },
      "source": [
        "### Scalars (rank-0 tensors)"
      ]
    },
    {
      "cell_type": "code",
      "execution_count": null,
      "metadata": {
        "id": "eCOK6-RoJcTq",
        "colab": {
          "base_uri": "https://localhost:8080/"
        },
        "outputId": "da0805b7-9895-40a1-fc1c-8d7e40b932c9"
      },
      "outputs": [
        {
          "output_type": "execute_result",
          "data": {
            "text/plain": [
              "array(12)"
            ]
          },
          "metadata": {},
          "execution_count": 18
        }
      ],
      "source": [
        "import numpy as np\n",
        "x = np.array(12)\n",
        "x"
      ]
    },
    {
      "cell_type": "code",
      "execution_count": null,
      "metadata": {
        "id": "73NyZ9oNJcTr",
        "colab": {
          "base_uri": "https://localhost:8080/"
        },
        "outputId": "aaf25818-9baa-4b7f-e190-03bc55edb8e3"
      },
      "outputs": [
        {
          "output_type": "execute_result",
          "data": {
            "text/plain": [
              "0"
            ]
          },
          "metadata": {},
          "execution_count": 19
        }
      ],
      "source": [
        "x.ndim"
      ]
    },
    {
      "cell_type": "markdown",
      "metadata": {
        "id": "zP_gNPDmJcTr"
      },
      "source": [
        "### Vectors (rank-1 tensors)"
      ]
    },
    {
      "cell_type": "code",
      "execution_count": null,
      "metadata": {
        "id": "CjkharsLJcTr",
        "colab": {
          "base_uri": "https://localhost:8080/"
        },
        "outputId": "e7d9d1ba-ff29-4d6d-87ed-adfd970457c5"
      },
      "outputs": [
        {
          "output_type": "execute_result",
          "data": {
            "text/plain": [
              "array([12,  3,  6, 14,  7])"
            ]
          },
          "metadata": {},
          "execution_count": 20
        }
      ],
      "source": [
        "x = np.array([12, 3, 6, 14, 7])\n",
        "x"
      ]
    },
    {
      "cell_type": "code",
      "execution_count": null,
      "metadata": {
        "id": "7ejVfpQRJcTs",
        "colab": {
          "base_uri": "https://localhost:8080/"
        },
        "outputId": "4dcedf7f-f221-47a7-a59b-fb7552aac53a"
      },
      "outputs": [
        {
          "output_type": "execute_result",
          "data": {
            "text/plain": [
              "1"
            ]
          },
          "metadata": {},
          "execution_count": 21
        }
      ],
      "source": [
        "x.ndim"
      ]
    },
    {
      "cell_type": "markdown",
      "metadata": {
        "id": "h7P-Og1_JcTs"
      },
      "source": [
        "### Matrices (rank-2 tensors)"
      ]
    },
    {
      "cell_type": "code",
      "execution_count": null,
      "metadata": {
        "id": "a_QUGoKFJcTs",
        "colab": {
          "base_uri": "https://localhost:8080/"
        },
        "outputId": "7ca974a6-07c9-47d3-cf5d-c2f5221d94b7"
      },
      "outputs": [
        {
          "output_type": "execute_result",
          "data": {
            "text/plain": [
              "2"
            ]
          },
          "metadata": {},
          "execution_count": 22
        }
      ],
      "source": [
        "x = np.array([[5, 78, 2, 34, 0],\n",
        "              [6, 79, 3, 35, 1],\n",
        "              [7, 80, 4, 36, 2]])\n",
        "x.ndim"
      ]
    },
    {
      "cell_type": "markdown",
      "metadata": {
        "id": "JMrQk7zDJcTs"
      },
      "source": [
        "### Rank-3 and higher-rank tensors"
      ]
    },
    {
      "cell_type": "code",
      "execution_count": null,
      "metadata": {
        "id": "dSMEtcRwJcTt",
        "colab": {
          "base_uri": "https://localhost:8080/"
        },
        "outputId": "85c1b4a7-8acc-42a9-ada5-490d456bd187"
      },
      "outputs": [
        {
          "output_type": "execute_result",
          "data": {
            "text/plain": [
              "3"
            ]
          },
          "metadata": {},
          "execution_count": 23
        }
      ],
      "source": [
        "x = np.array([[[5, 78, 2, 34, 0],\n",
        "               [6, 79, 3, 35, 1],\n",
        "               [7, 80, 4, 36, 2]],\n",
        "              [[5, 78, 2, 34, 0],\n",
        "               [6, 79, 3, 35, 1],\n",
        "               [7, 80, 4, 36, 2]],\n",
        "              [[5, 78, 2, 34, 0],\n",
        "               [6, 79, 3, 35, 1],\n",
        "               [7, 80, 4, 36, 2]]])\n",
        "x.ndim"
      ]
    },
    {
      "cell_type": "markdown",
      "metadata": {
        "id": "g7DhLM41JcTt"
      },
      "source": [
        "### Key attributes"
      ]
    },
    {
      "cell_type": "code",
      "execution_count": null,
      "metadata": {
        "id": "_QIYfwqoJcTt"
      },
      "outputs": [],
      "source": [
        "# MNIST 데이터셋을 불러오고,\n",
        "\n",
        "from tensorflow.keras.datasets import mnist\n",
        "(train_images, train_labels), (test_images, test_labels) = mnist.load_data()"
      ]
    },
    {
      "cell_type": "code",
      "execution_count": null,
      "metadata": {
        "id": "36KXOhmqJcTv",
        "colab": {
          "base_uri": "https://localhost:8080/"
        },
        "outputId": "44602180-bdd7-4039-e7e6-c9df851ff607"
      },
      "outputs": [
        {
          "output_type": "execute_result",
          "data": {
            "text/plain": [
              "3"
            ]
          },
          "metadata": {},
          "execution_count": 25
        }
      ],
      "source": [
        "# 훈련 이미지의 차원과 모양을 확인\n",
        "\n",
        "train_images.ndim"
      ]
    },
    {
      "cell_type": "code",
      "execution_count": null,
      "metadata": {
        "id": "4BxNho8LJcTw",
        "colab": {
          "base_uri": "https://localhost:8080/"
        },
        "outputId": "fff11de0-32e4-4552-8633-a289bdb15909"
      },
      "outputs": [
        {
          "output_type": "execute_result",
          "data": {
            "text/plain": [
              "(60000, 28, 28)"
            ]
          },
          "metadata": {},
          "execution_count": 26
        }
      ],
      "source": [
        "train_images.shape"
      ]
    },
    {
      "cell_type": "code",
      "execution_count": null,
      "metadata": {
        "id": "YHlw3pGZJcTw",
        "colab": {
          "base_uri": "https://localhost:8080/"
        },
        "outputId": "f676c8f0-8b2b-4b61-e3f8-bf057d3497ed"
      },
      "outputs": [
        {
          "output_type": "execute_result",
          "data": {
            "text/plain": [
              "dtype('uint8')"
            ]
          },
          "metadata": {},
          "execution_count": 27
        }
      ],
      "source": [
        "train_images.dtype"
      ]
    },
    {
      "cell_type": "markdown",
      "metadata": {
        "id": "4nvrMjl6JcTw"
      },
      "source": [
        "**Displaying the fourth digit**"
      ]
    },
    {
      "cell_type": "code",
      "execution_count": null,
      "metadata": {
        "id": "07SaygMXJcTx",
        "colab": {
          "base_uri": "https://localhost:8080/",
          "height": 430
        },
        "outputId": "a9e7bb3b-6a82-492c-bf95-f856ce5cb12f"
      },
      "outputs": [
        {
          "output_type": "display_data",
          "data": {
            "text/plain": [
              "<Figure size 640x480 with 1 Axes>"
            ],
            "image/png": "[encoded data removed]"
          },
          "metadata": {}
        }
      ],
      "source": [
        "# matplotlib를 사용하여 이미지를 시각화하고, 해당 이미지에 대한 레이블을 확인\n",
        "\n",
        "import matplotlib.pyplot as plt\n",
        "digit = train_images[4]\n",
        "plt.imshow(digit, cmap=plt.cm.binary)\n",
        "plt.show()"
      ]
    },
    {
      "cell_type": "code",
      "execution_count": null,
      "metadata": {
        "id": "XP7Yq2xrJcTx",
        "colab": {
          "base_uri": "https://localhost:8080/"
        },
        "outputId": "aba58f05-02b4-46e4-caf0-1ab22ccfefa0"
      },
      "outputs": [
        {
          "output_type": "execute_result",
          "data": {
            "text/plain": [
              "9"
            ]
          },
          "metadata": {},
          "execution_count": 29
        }
      ],
      "source": [
        "train_labels[4]"
      ]
    },
    {
      "cell_type": "markdown",
      "metadata": {
        "id": "yn1DN4c7JcTx"
      },
      "source": [
        "### Manipulating tensors in NumPy\n",
        "\n",
        "이미지 데이터에서 일부 영역을 슬라이싱하여 추출\n"
      ]
    },
    {
      "cell_type": "code",
      "source": [
        "train_images.shape"
      ],
      "metadata": {
        "colab": {
          "base_uri": "https://localhost:8080/"
        },
        "id": "81lZZSLCP7Dj",
        "outputId": "8b6bc4ac-a089-47b7-e4e1-bcf549ccb0a4"
      },
      "execution_count": null,
      "outputs": [
        {
          "output_type": "execute_result",
          "data": {
            "text/plain": [
              "(60000, 28, 28)"
            ]
          },
          "metadata": {},
          "execution_count": 30
        }
      ]
    },
    {
      "cell_type": "code",
      "execution_count": null,
      "metadata": {
        "id": "67zixlBbJcTy",
        "colab": {
          "base_uri": "https://localhost:8080/"
        },
        "outputId": "ae360851-3f25-49d1-e0d8-9761acc2ad54"
      },
      "outputs": [
        {
          "output_type": "execute_result",
          "data": {
            "text/plain": [
              "(90, 28, 28)"
            ]
          },
          "metadata": {},
          "execution_count": 31
        }
      ],
      "source": [
        "my_slice = train_images[10:100]\n",
        "my_slice.shape"
      ]
    },
    {
      "cell_type": "code",
      "execution_count": null,
      "metadata": {
        "id": "V_Cp_lByJcTy",
        "colab": {
          "base_uri": "https://localhost:8080/"
        },
        "outputId": "59634794-b376-46ed-bb3e-0ad6f878a7b9"
      },
      "outputs": [
        {
          "output_type": "execute_result",
          "data": {
            "text/plain": [
              "(90, 28, 28)"
            ]
          },
          "metadata": {},
          "execution_count": 32
        }
      ],
      "source": [
        "my_slice = train_images[10:100, :, :] # 데이터 전체 선택\n",
        "my_slice.shape"
      ]
    },
    {
      "cell_type": "code",
      "execution_count": null,
      "metadata": {
        "id": "fsnD5R68JcTy",
        "colab": {
          "base_uri": "https://localhost:8080/"
        },
        "outputId": "11624028-e48d-409a-beda-1a3627e56530"
      },
      "outputs": [
        {
          "output_type": "execute_result",
          "data": {
            "text/plain": [
              "(90, 28, 28)"
            ]
          },
          "metadata": {},
          "execution_count": 33
        }
      ],
      "source": [
        "my_slice = train_images[10:100, 0:28, 0:28]\n",
        "my_slice.shape"
      ]
    },
    {
      "cell_type": "code",
      "execution_count": null,
      "metadata": {
        "id": "NHdb1WMpJcTz"
      },
      "outputs": [],
      "source": [
        "my_slice = train_images[:, 14:, 14:]"
      ]
    },
    {
      "cell_type": "code",
      "execution_count": null,
      "metadata": {
        "id": "FyZGv60tJcTz"
      },
      "outputs": [],
      "source": [
        "my_slice = train_images[:, 7:-7, 7:-7]"
      ]
    },
    {
      "cell_type": "code",
      "source": [
        "digit = train_images[4]\n",
        "plt.imshow(digit, cmap=plt.cm.binary)\n",
        "plt.show()"
      ],
      "metadata": {
        "colab": {
          "base_uri": "https://localhost:8080/",
          "height": 430
        },
        "id": "Y1Q9lhWsQZsp",
        "outputId": "7fbfff21-8059-4e5a-8979-d82b622db701"
      },
      "execution_count": null,
      "outputs": [
        {
          "output_type": "display_data",
          "data": {
            "text/plain": [
              "<Figure size 640x480 with 1 Axes>"
            ],
            "image/png": "[encoded data removed]"
          },
          "metadata": {}
        }
      ]
    },
    {
      "cell_type": "markdown",
      "source": [
        "- How many samples in Mnisttest dataset?\n",
        "\n",
        ": 60000\n",
        "\n",
        "- What is a dimension for minstdata(try ndim method on mnist training data)?\n",
        "\n",
        ": 3\n",
        "\n",
        "- Try to create a 3D tensor object. (with any values you like)\n",
        "\n",
        ": slice 숫자를 바꿔서\n",
        "\n",
        "- Try to visualize the 1st digit from mnisttest dataset (1stdigit data = test_images[0])\n",
        "\n",
        ":\n",
        "\n",
        "- Try to manipulate and visualize the 1stdigit data"
      ],
      "metadata": {
        "id": "8PSZNZjDRiHh"
      }
    },
    {
      "cell_type": "markdown",
      "metadata": {
        "id": "BukRb8sCJcT0"
      },
      "source": [
        "### The notion of data batches\n",
        "\n",
        "이미지 데이터에서 배치를 추출하는 방법"
      ]
    },
    {
      "cell_type": "code",
      "execution_count": null,
      "metadata": {
        "id": "DzRle1fkJcT0"
      },
      "outputs": [],
      "source": [
        "batch = train_images[:128]"
      ]
    },
    {
      "cell_type": "code",
      "execution_count": null,
      "metadata": {
        "id": "Cjm5eJpKJcT0"
      },
      "outputs": [],
      "source": [
        "batch = train_images[128:256]"
      ]
    },
    {
      "cell_type": "code",
      "execution_count": null,
      "metadata": {
        "id": "2dAFLosgJcT1"
      },
      "outputs": [],
      "source": [
        "n = 3\n",
        "batch = train_images[128 * n:128 * (n + 1)]"
      ]
    },
    {
      "cell_type": "markdown",
      "metadata": {
        "id": "z_y3h5Y-JcT1"
      },
      "source": [
        "### Real-world examples of data tensors"
      ]
    },
    {
      "cell_type": "markdown",
      "metadata": {
        "id": "2Zmxarg7JcT1"
      },
      "source": [
        "### Vector data"
      ]
    },
    {
      "cell_type": "markdown",
      "metadata": {
        "id": "4rK7PhWRJcT2"
      },
      "source": [
        "### Timeseries data or sequence data"
      ]
    },
    {
      "cell_type": "markdown",
      "metadata": {
        "id": "hWGleaL-JcT2"
      },
      "source": [
        "### Image data"
      ]
    },
    {
      "cell_type": "markdown",
      "metadata": {
        "id": "2XULPHLlJcT2"
      },
      "source": [
        "### Video data"
      ]
    },
    {
      "cell_type": "markdown",
      "metadata": {
        "id": "e7X9aAzqJcT3"
      },
      "source": [
        "## 3. The gears of neural networks: tensor operations"
      ]
    },
    {
      "cell_type": "markdown",
      "source": [
        "수업 중 퀴즈\n",
        "\n",
        "Try to naive version of relu and add functions\n",
        "\n",
        "why we use x.copy()? >> overwrite\n",
        "\n",
        "why the naive version of the code slower?\n",
        "\n",
        "try to use broadcasting with your own example\n",
        "\n",
        "explain your broadcasting example"
      ],
      "metadata": {
        "id": "7mQcDQnGLFQj"
      }
    },
    {
      "cell_type": "markdown",
      "metadata": {
        "id": "N45Ht7syJcT3"
      },
      "source": [
        "### Element-wise operations"
      ]
    },
    {
      "cell_type": "code",
      "execution_count": null,
      "metadata": {
        "id": "NDctLgqpJcT3"
      },
      "outputs": [],
      "source": [
        "# ReLU(Rectified Linear Unit) 활성화 함수를 수행하는 함수\n",
        "\n",
        "def naive_relu(x):\n",
        "    assert len(x.shape) == 2\n",
        "    x = x.copy()\n",
        "    for i in range(x.shape[0]):\n",
        "        for j in range(x.shape[1]):\n",
        "            x[i, j] = max(x[i, j], 0)\n",
        "    return x"
      ]
    },
    {
      "cell_type": "code",
      "execution_count": null,
      "metadata": {
        "id": "SPrC0YK_JcT4"
      },
      "outputs": [],
      "source": [
        "# 두 개의 행렬을 더하는 함수입니다. 주어진 두 행렬의 각 원소를 더한 결과를 반환\n",
        "\n",
        "def naive_add(x, y):\n",
        "    assert len(x.shape) == 2\n",
        "    assert x.shape == y.shape\n",
        "    x = x.copy()\n",
        "    for i in range(x.shape[0]):\n",
        "        for j in range(x.shape[1]):\n",
        "            x[i, j] += y[i, j]\n",
        "    return x"
      ]
    },
    {
      "cell_type": "code",
      "execution_count": null,
      "metadata": {
        "id": "ZXzssiFIJcT4",
        "colab": {
          "base_uri": "https://localhost:8080/"
        },
        "outputId": "e5fbe96e-80aa-49a9-b5d0-b8afa3ed8624"
      },
      "outputs": [
        {
          "output_type": "stream",
          "name": "stdout",
          "text": [
            "Took: 0.01 s\n"
          ]
        }
      ],
      "source": [
        "import time\n",
        "\n",
        "x = np.random.random((20, 100))\n",
        "y = np.random.random((20, 100))\n",
        "\n",
        "t0 = time.time()\n",
        "for _ in range(1000):\n",
        "    z = x + y\n",
        "    z = np.maximum(z, 0.)\n",
        "print(\"Took: {0:.2f} s\".format(time.time() - t0))"
      ]
    },
    {
      "cell_type": "code",
      "execution_count": null,
      "metadata": {
        "id": "WBtk1_RyJcT4",
        "colab": {
          "base_uri": "https://localhost:8080/"
        },
        "outputId": "b6834eae-9bc4-4ff4-be7f-2654da91010f"
      },
      "outputs": [
        {
          "output_type": "stream",
          "name": "stdout",
          "text": [
            "Took: 1.92 s\n"
          ]
        }
      ],
      "source": [
        "t0 = time.time()\n",
        "for _ in range(1000):\n",
        "    z = naive_add(x, y)\n",
        "    z = naive_relu(z)\n",
        "print(\"Took: {0:.2f} s\".format(time.time() - t0))"
      ]
    },
    {
      "cell_type": "markdown",
      "source": [
        "시간이 차이가 나는 이유 : 아래의 경우는 naive_add에서 for 루프를 돌리기 때문"
      ],
      "metadata": {
        "id": "Xc3rh_YIKfAp"
      }
    },
    {
      "cell_type": "markdown",
      "metadata": {
        "id": "r6JQMIuRJcT5"
      },
      "source": [
        "### Broadcasting"
      ]
    },
    {
      "cell_type": "code",
      "execution_count": null,
      "metadata": {
        "id": "eW1Zjo2oJcT5"
      },
      "outputs": [],
      "source": [
        "import numpy as np\n",
        "X = np.random.random((32, 10)) # 2차원, 32개의 벡터 with 10개 원소\n",
        "y = np.random.random((10,)) # 1차원, 10개의 벡터"
      ]
    },
    {
      "cell_type": "code",
      "execution_count": null,
      "metadata": {
        "id": "mW8GH5T3JcT5",
        "colab": {
          "base_uri": "https://localhost:8080/"
        },
        "outputId": "35f9bd8d-7f49-4f55-e56b-f0902c17ac0d"
      },
      "outputs": [
        {
          "output_type": "execute_result",
          "data": {
            "text/plain": [
              "array([[[[0.12025154, 0.74779174, 0.76440884, 0.72761554, 0.93065789,\n",
              "          0.78068536, 0.20585644, 0.16249032, 0.91900506, 0.35798022]]]])"
            ]
          },
          "metadata": {},
          "execution_count": 108
        }
      ],
      "source": [
        "y = np.expand_dims(y, axis=0) # 3차원으로 확장\n",
        "y"
      ]
    },
    {
      "cell_type": "code",
      "execution_count": null,
      "metadata": {
        "id": "hGO1SLkzJcT6"
      },
      "outputs": [],
      "source": [
        "Y = np.concatenate([y] * 32, axis=0) # 3차원, 32개로 복제"
      ]
    },
    {
      "cell_type": "code",
      "execution_count": null,
      "metadata": {
        "id": "J6t0ePTQJcT6"
      },
      "outputs": [],
      "source": [
        "# 행렬 x와 벡터 y를 더하는 함수(x의 차원이 2이고, y의 차원이 1)\n",
        "\n",
        "def naive_add_matrix_and_vector(x, y):\n",
        "    assert len(x.shape) == 2\n",
        "    assert len(y.shape) == 1\n",
        "    assert x.shape[1] == y.shape[0]\n",
        "    x = x.copy()\n",
        "    for i in range(x.shape[0]):\n",
        "        for j in range(x.shape[1]):\n",
        "            x[i, j] += y[j]\n",
        "    return x"
      ]
    },
    {
      "cell_type": "code",
      "execution_count": null,
      "metadata": {
        "id": "A8AzRKLBJcT6"
      },
      "outputs": [],
      "source": [
        "import numpy as np\n",
        "x = np.random.random((64, 3, 32, 10)) # 64개의 행렬 / 각 행렬은 3차원 배열로 구성되며 / 이 배열은 32개의 행과 10개의 열로 이루어져 있습니다\n",
        "y = np.random.random((32, 10)) # 32개의 행과 10개의 열로 이루어진 2차원 배열\n",
        "z = np.maximum(x, y) # 브로드캐스팅을 사용하여 두 배열 x와 y 간의 요소별 최대값을 계산"
      ]
    },
    {
      "cell_type": "markdown",
      "source": [
        "\"브로드캐스팅\"을 활용하여 텐서의 크기를 맞추고, 해당 위치의 요소들끼리 연산을 수행합니다. 따라서 x와 y의 크기가 서로 다르더라도 브로드캐스팅을 통해 적절히 확장되어 연산이 이루어집니다.\n",
        "\n",
        "x와 y 배열 각 요소들을 비교하고, 더 큰 값을 가진 요소를 새로운 배열 z의 해당 위치에 할당합니다. 이 과정은 브로드캐스팅을 통해 이루어지므로, x와 y의 크기가 다르더라도 올바른 결과를 산출합니다.\n",
        "\n",
        "두 개의 배열 x와 y를 생성합니다. x는 크기가 (64, 3, 32, 10)인 4차원 배열이고, y는 크기가 (32, 10)인 2차원 배열입니다.\n",
        "\n",
        "그런 다음, np.maximum(x, y)를 사용하여 요소별 최대값을 계산합니다. 이 함수는 주어진 두 배열에서 동일한 위치에 있는 요소들을 비교하고, 더 큰 값을 가진 요소를 결과 배열에 저장합니다. 이때, 브로드캐스팅이 사용되어 y 배열이 (64, 3, 32, 10)으로 확장되어 x와 동일한 형태로 되고, 그 후에 요소별로 비교하여 최대값을 계산합니다.\n",
        "\n",
        "결과적으로 z 배열은 x와 y의 각 위치에 있는 요소 중에서 최대값으로 이루어진 배열이 됩니다. 이렇게 함으로써 x 배열의 각 요소와 y 배열의 동일한 위치에 있는 요소를 비교하여 더 큰 값을 유지하는 연산이 수행됩니다.\n",
        "\n",
        "첨언으로, 주어진 두 개의 배열 x와 y가 다른 차원을 갖고 있습니다. x는 4차원 배열이고 y는 2차원 배열입니다. 이러한 경우 NumPy는 브로드캐스팅 규칙에 따라 차원을 맞추어 요소별 연산을 수행합니다. 브로드캐스팅은 두 배열을 자동으로 확장하여 동일한 형태로 만든 후에 요소별 연산을 수행하는 메커니즘입니다. 따라서 y 배열이 (64, 3, 32, 10)으로 확장되어 x와 동일한 형태가 되고, 그 후에 요소별로 비교하여 최대값을 계산합니다."
      ],
      "metadata": {
        "id": "POxN2uMTpWRH"
      }
    },
    {
      "cell_type": "markdown",
      "metadata": {
        "id": "ryP67yQJJcT7"
      },
      "source": [
        "### Tensor product"
      ]
    },
    {
      "cell_type": "code",
      "execution_count": null,
      "metadata": {
        "id": "E-B9Ms8YJcT7"
      },
      "outputs": [],
      "source": [
        "x = np.random.random((32,))\n",
        "y = np.random.random((32,))\n",
        "z = np.dot(x, y)"
      ]
    },
    {
      "cell_type": "code",
      "execution_count": null,
      "metadata": {
        "id": "fFYI5XT3JcT7"
      },
      "outputs": [],
      "source": [
        "# x와 y의 내적(dot product)을 계산\n",
        "\n",
        "def naive_vector_dot(x, y):\n",
        "    assert len(x.shape) == 1\n",
        "    assert len(y.shape) == 1\n",
        "    assert x.shape[0] == y.shape[0]\n",
        "    z = 0.\n",
        "    for i in range(x.shape[0]):\n",
        "        z += x[i] * y[i]\n",
        "    return z"
      ]
    },
    {
      "cell_type": "code",
      "execution_count": null,
      "metadata": {
        "id": "RczAk-HxJcT8"
      },
      "outputs": [],
      "source": [
        "# 행렬 x와 벡터 y 사이의 행렬-벡터 곱셈을 계산\n",
        "\n",
        "def naive_matrix_vector_dot(x, y):\n",
        "    assert len(x.shape) == 2\n",
        "    assert len(y.shape) == 1\n",
        "    assert x.shape[1] == y.shape[0]\n",
        "    z = np.zeros(x.shape[0])\n",
        "    for i in range(x.shape[0]):\n",
        "        for j in range(x.shape[1]):\n",
        "            z[i] += x[i, j] * y[j]\n",
        "    return z"
      ]
    },
    {
      "cell_type": "code",
      "execution_count": null,
      "metadata": {
        "id": "HilU-tdpJcT8"
      },
      "outputs": [],
      "source": [
        "# 행렬 x와 벡터 y 사이의 행렬-벡터 곱셈을 계산\n",
        "\n",
        "def naive_matrix_vector_dot(x, y):\n",
        "    z = np.zeros(x.shape[0])\n",
        "    for i in range(x.shape[0]):\n",
        "        z[i] = naive_vector_dot(x[i, :], y)\n",
        "    return z"
      ]
    },
    {
      "cell_type": "code",
      "execution_count": null,
      "metadata": {
        "id": "R_OgfkBZJcT9"
      },
      "outputs": [],
      "source": [
        "# 두 개의 행렬 x와 y의 행렬-행렬 곱셈을 계산\n",
        "\n",
        "def naive_matrix_dot(x, y):\n",
        "    assert len(x.shape) == 2\n",
        "    assert len(y.shape) == 2\n",
        "    assert x.shape[1] == y.shape[0]\n",
        "    z = np.zeros((x.shape[0], y.shape[1]))\n",
        "    for i in range(x.shape[0]):\n",
        "        for j in range(y.shape[1]):\n",
        "            row_x = x[i, :]\n",
        "            column_y = y[:, j]\n",
        "            z[i, j] = naive_vector_dot(row_x, column_y)\n",
        "    return z"
      ]
    },
    {
      "cell_type": "markdown",
      "metadata": {
        "id": "49t7d5VmJcT9"
      },
      "source": [
        "### Tensor reshaping"
      ]
    },
    {
      "cell_type": "code",
      "execution_count": null,
      "metadata": {
        "id": "2bv0npyXJcT9"
      },
      "outputs": [],
      "source": [
        "train_images = train_images.reshape((60000, 28 * 28))"
      ]
    },
    {
      "cell_type": "code",
      "execution_count": null,
      "metadata": {
        "id": "TjmKJZWxJcT-",
        "colab": {
          "base_uri": "https://localhost:8080/"
        },
        "outputId": "00ae655e-be8d-48bb-fc3a-55365e02c9cd"
      },
      "outputs": [
        {
          "output_type": "execute_result",
          "data": {
            "text/plain": [
              "(3, 2)"
            ]
          },
          "metadata": {},
          "execution_count": 54
        }
      ],
      "source": [
        "x = np.array([[0., 1.],\n",
        "             [2., 3.],\n",
        "             [4., 5.]])\n",
        "x.shape"
      ]
    },
    {
      "cell_type": "code",
      "source": [
        "x = np.array([[0,1],[1,2]])\n",
        "x.reshape((4,1))"
      ],
      "metadata": {
        "colab": {
          "base_uri": "https://localhost:8080/"
        },
        "id": "t5WdilQ9NwKE",
        "outputId": "89775878-7722-48ed-9821-42c82e286c5a"
      },
      "execution_count": null,
      "outputs": [
        {
          "output_type": "execute_result",
          "data": {
            "text/plain": [
              "array([[0],\n",
              "       [1],\n",
              "       [1],\n",
              "       [2]])"
            ]
          },
          "metadata": {},
          "execution_count": 71
        }
      ]
    },
    {
      "cell_type": "code",
      "execution_count": null,
      "metadata": {
        "id": "ZjDHY7_IJcT-",
        "colab": {
          "base_uri": "https://localhost:8080/"
        },
        "outputId": "6303f2d6-a28f-4268-8738-19eff7fee73f"
      },
      "outputs": [
        {
          "output_type": "execute_result",
          "data": {
            "text/plain": [
              "array([[0.],\n",
              "       [1.],\n",
              "       [2.],\n",
              "       [3.],\n",
              "       [4.],\n",
              "       [5.]])"
            ]
          },
          "metadata": {},
          "execution_count": 55
        }
      ],
      "source": [
        "x = x.reshape((6, 1))\n",
        "x"
      ]
    },
    {
      "cell_type": "code",
      "execution_count": null,
      "metadata": {
        "id": "rowugIWLJcT_",
        "colab": {
          "base_uri": "https://localhost:8080/"
        },
        "outputId": "21aacaba-8d68-4b14-bf06-11e4ac0c0a7c"
      },
      "outputs": [
        {
          "output_type": "execute_result",
          "data": {
            "text/plain": [
              "(20, 300)"
            ]
          },
          "metadata": {},
          "execution_count": 72
        }
      ],
      "source": [
        "x = np.zeros((300, 20))\n",
        "x = np.transpose(x)\n",
        "x.shape"
      ]
    },
    {
      "cell_type": "markdown",
      "metadata": {
        "id": "OL4zKOsaJcT_"
      },
      "source": [
        "### Geometric interpretation of tensor operations"
      ]
    },
    {
      "cell_type": "markdown",
      "metadata": {
        "id": "dhCFvlJvJcT_"
      },
      "source": [
        "### A geometric interpretation of deep learning"
      ]
    },
    {
      "cell_type": "markdown",
      "metadata": {
        "id": "NUQ3T5r1JcUA"
      },
      "source": [
        "## 4. The engine of neural networks: gradient-based optimization"
      ]
    },
    {
      "cell_type": "markdown",
      "metadata": {
        "id": "s-HQfGbkJcUA"
      },
      "source": [
        "### What's a derivative?"
      ]
    },
    {
      "cell_type": "markdown",
      "metadata": {
        "id": "uQFuwD4UJcUA"
      },
      "source": [
        "### Derivative of a tensor operation: the gradient"
      ]
    },
    {
      "cell_type": "markdown",
      "metadata": {
        "id": "8315EupCJcUA"
      },
      "source": [
        "### Stochastic gradient descent"
      ]
    },
    {
      "cell_type": "markdown",
      "metadata": {
        "id": "6uw-9nW0JcUB"
      },
      "source": [
        "### Chaining derivatives: The Backpropagation algorithm"
      ]
    },
    {
      "cell_type": "markdown",
      "metadata": {
        "id": "U-5LyD7PJcUB"
      },
      "source": [
        "#### The chain rule"
      ]
    },
    {
      "cell_type": "markdown",
      "metadata": {
        "id": "LQDtgDUvJcUB"
      },
      "source": [
        "#### Automatic differentiation with computation graphs"
      ]
    },
    {
      "cell_type": "markdown",
      "metadata": {
        "id": "rL_ZXxtxJcUC"
      },
      "source": [
        "#### (**문제풀이**)The gradient tape in TensorFlow : find derivatives"
      ]
    },
    {
      "cell_type": "markdown",
      "source": [
        "**답안은 사진 확인**\n",
        "\n",
        "say x,y are scalar, find derivatives of f(x,y)=x^2y+xy+3y with respect to x and y.\n",
        "\n",
        "set x=2 , y=1 for the calculation\n",
        "\n",
        "\\\n",
        "set x,W and b as\n",
        "\n",
        "x=tf.constant(np.array([1.,4.,3.]).reshape(1,3), dtype=tf.float32)\n",
        "\n",
        "W=tf.Variable(tf.random.uniform((3,2)), dtype=tf.float32)\n",
        "\n",
        "b=tf.Variable(tf.zeros((2,)), dtype=tf.float32)\n",
        "\n",
        "\\\n",
        "find derivatives of f(W,b)=(xW+b) with respect to W and b\n",
        "\n",
        "search ftn tf.pow()"
      ],
      "metadata": {
        "id": "4TF4QK8JQxWs"
      }
    },
    {
      "cell_type": "code",
      "execution_count": null,
      "metadata": {
        "id": "yRRjD67yJcUC"
      },
      "outputs": [],
      "source": [
        "# TensorFlow를 사용하여 변수에 대한 그래디언트(기울기)를 계산하는 방법\n",
        "\n",
        "import tensorflow as tf\n",
        "x = tf.Variable(2.) # Variable을 사용하여 변수 x와 y를 생성\n",
        "y = tf.Variable(1.) # 0이 아닌 0.으로 써야 함! 즉 float 으로 서야 함\n",
        "\n",
        "#  z를 x와 y에 대해 계산한 함수로 정의하고, tape.gradient()를 사용하여 z에 대한 x와 y의 그래디언트를 계산\n",
        "with tf.GradientTape() as tape:\n",
        "    z = x*x*y + x*y + 3*y\n",
        "\n",
        "grad_of_z_wrt_xy = tape.gradient(z, [y, x])"
      ]
    },
    {
      "cell_type": "code",
      "source": [
        "grad_of_z_wrt_xy"
      ],
      "metadata": {
        "colab": {
          "base_uri": "https://localhost:8080/"
        },
        "id": "FwshlB2CQZ2L",
        "outputId": "c9425433-981a-4583-ae90-5963109d646b"
      },
      "execution_count": null,
      "outputs": [
        {
          "output_type": "execute_result",
          "data": {
            "text/plain": [
              "[<tf.Tensor: shape=(), dtype=float32, numpy=9.0>,\n",
              " <tf.Tensor: shape=(), dtype=float32, numpy=5.0>]"
            ]
          },
          "metadata": {},
          "execution_count": 91
        }
      ]
    },
    {
      "cell_type": "code",
      "source": [
        "##### 과제 문제 풀이\n",
        "\n",
        "# tf.constant를 사용하여 상수 텐서 x를 생성\n",
        "x=tf.constant(np.array([1.,4.,3.]).reshape(1,3), dtype=tf.float32)\n",
        "\n",
        "# Variable을 사용하여 가중치 행렬 W와 편향 벡터 b를 생성\n",
        "W=tf.Variable(tf.random.uniform((3,2)), dtype=tf.float32)\n",
        "b=tf.Variable(tf.zeros((2,)), dtype=tf.float32)\n",
        "\n",
        "# tf.GradientTape()를 사용하여 그래디언트를 계산할 연산을 기록\n",
        "with tf.GradientTape() as tape:\n",
        "    z = tf.matmul(x, W) + b\n",
        "\n",
        "# tape.gradient()를 사용하여 z에 대한 W와 b의 그래디언트를 계산\n",
        "grad_of_y_wrt_W_and_b = tape.gradient(z, [W, b])"
      ],
      "metadata": {
        "id": "pzepTneoRtLy"
      },
      "execution_count": null,
      "outputs": []
    },
    {
      "cell_type": "markdown",
      "metadata": {
        "id": "VkEWljeFJcUD"
      },
      "source": [
        "## 5. Looking back at our first example"
      ]
    },
    {
      "cell_type": "markdown",
      "source": [
        "이미지 픽셀 값을 0에서 255 사이의 정수에서 0과 1 사이의 부동 소수점 수로 정규화 >> 픽셀 값이 0에서 1 사이의 값을 갖도록\n",
        "\n",
        "여기서 (60000, 28 * 28)는 훈련 이미지 데이터의 모양(shape)을 의미합니다. 총 60,000개의 이미지가 있고, 각 이미지는 28x28 크기의 배열로 표현되며, 이를 1D 배열로 재구성하여 각 이미지가 784개의 요소를 가진 벡터로 변환합니다."
      ],
      "metadata": {
        "id": "25ICE5Rvs113"
      }
    },
    {
      "cell_type": "code",
      "execution_count": null,
      "metadata": {
        "id": "ccq85DOUJcUD"
      },
      "outputs": [],
      "source": [
        "(train_images, train_labels), (test_images, test_labels) = mnist.load_data() # MNIST 데이터셋을 로드\n",
        "train_images = train_images.reshape((60000, 28 * 28))\n",
        "train_images = train_images.astype(\"float32\") / 255\n",
        "test_images = test_images.reshape((10000, 28 * 28))\n",
        "test_images = test_images.astype(\"float32\") / 255"
      ]
    },
    {
      "cell_type": "code",
      "execution_count": null,
      "metadata": {
        "id": "aIWZbgIDJcUE"
      },
      "outputs": [],
      "source": [
        "model = keras.Sequential([\n",
        "    layers.Dense(512, activation=\"relu\"),\n",
        "    layers.Dense(10, activation=\"softmax\")\n",
        "])"
      ]
    },
    {
      "cell_type": "markdown",
      "source": [
        "Sequential 모델은 층을 선형으로 연결하여 구성되며, 입력은 첫 번째 층에서 출력되고, 그 출력은 다음 층의 입력으로 전달됩니다. 따라서 각 층은 이전 층의 출력에 대한 함수입니다.\n",
        "\n",
        "이 모델은 주어진 이미지를 입력으로 받아, 512개의 뉴런을 가진 은닉층을 거쳐 10개의 클래스에 대한 확률을 출력합니다.\n",
        "\n",
        "첫 번째 층 (layers.Dense(512, activation=\"relu\")): 512개의 뉴런으로 이루어진 fully connected 층입니다. 활성화 함수로는 ReLU(Rectified Linear Unit) 함수가 사용됩니다. 이 층은 입력 데이터의 선형 변환을 수행하고 비선형성을 추가합니다.\n",
        "\n",
        "두 번째 층 (layers.Dense(10, activation=\"softmax\")): 10개의 뉴런으로 이루어진 fully connected 층입니다. 활성화 함수로는 소프트맥스(softmax) 함수가 사용됩니다. 이 층은 클래스별 확률을 출력하며, 다중 클래스 분류 문제에서 사용됩니다."
      ],
      "metadata": {
        "id": "z4NS9kTttZ7a"
      }
    },
    {
      "cell_type": "code",
      "execution_count": null,
      "metadata": {
        "id": "TU68jyOMJcUE"
      },
      "outputs": [],
      "source": [
        "# 모델을 컴파일하는 단계 >> 학습 프로세스를 설정\n",
        "\n",
        "model.compile(optimizer=\"rmsprop\",\n",
        "              loss=\"sparse_categorical_crossentropy\",\n",
        "              metrics=[\"accuracy\"])"
      ]
    },
    {
      "cell_type": "code",
      "execution_count": null,
      "metadata": {
        "id": "npxoQIaRJcUE",
        "colab": {
          "base_uri": "https://localhost:8080/"
        },
        "outputId": "b14cac24-725f-4bf6-ad9d-56c9104f9e19"
      },
      "outputs": [
        {
          "output_type": "stream",
          "name": "stdout",
          "text": [
            "Epoch 1/5\n",
            "469/469 [==============================] - 2s 3ms/step - loss: 0.2675 - accuracy: 0.9232\n",
            "Epoch 2/5\n",
            "469/469 [==============================] - 1s 3ms/step - loss: 0.1099 - accuracy: 0.9682\n",
            "Epoch 3/5\n",
            "469/469 [==============================] - 1s 3ms/step - loss: 0.0724 - accuracy: 0.9788\n",
            "Epoch 4/5\n",
            "469/469 [==============================] - 1s 3ms/step - loss: 0.0525 - accuracy: 0.9843\n",
            "Epoch 5/5\n",
            "469/469 [==============================] - 1s 3ms/step - loss: 0.0394 - accuracy: 0.9887\n"
          ]
        },
        {
          "output_type": "execute_result",
          "data": {
            "text/plain": [
              "<keras.src.callbacks.History at 0x7a3abdff31f0>"
            ]
          },
          "metadata": {},
          "execution_count": 63
        }
      ],
      "source": [
        "model.fit(train_images, train_labels, epochs=5, batch_size=128)\n",
        "\n",
        "# 훈련 데이터셋을 5번 반복, 한 번의 반복에서 128개의 이미지와 레이블을 사용하여 모델을 업데이트"
      ]
    },
    {
      "cell_type": "markdown",
      "metadata": {
        "id": "JV8K3Sd4JcUF"
      },
      "source": [
        "### Reimplementing our first example from scratch in TensorFlow"
      ]
    },
    {
      "cell_type": "markdown",
      "metadata": {
        "id": "p056U-iNJcUF"
      },
      "source": [
        "#### A simple Dense class"
      ]
    },
    {
      "cell_type": "code",
      "execution_count": null,
      "metadata": {
        "id": "tejJ6myXJcUF"
      },
      "outputs": [],
      "source": [
        "import tensorflow as tf\n",
        "\n",
        "class NaiveDense:\n",
        "    def __init__(self, input_size, output_size, activation):\n",
        "        self.activation = activation\n",
        "\n",
        "        w_shape = (input_size, output_size)\n",
        "        w_initial_value = tf.random.uniform(w_shape, minval=0, maxval=1e-1)\n",
        "        self.W = tf.Variable(w_initial_value)\n",
        "\n",
        "        b_shape = (output_size,)\n",
        "        b_initial_value = tf.zeros(b_shape)\n",
        "        self.b = tf.Variable(b_initial_value)\n",
        "\n",
        "    def __call__(self, inputs):\n",
        "        return self.activation(tf.matmul(inputs, self.W) + self.b)\n",
        "\n",
        "    @property\n",
        "    def weights(self):\n",
        "        return [self.W, self.b]"
      ]
    },
    {
      "cell_type": "code",
      "source": [
        "NaiveDense(input_size=228, output)"
      ],
      "metadata": {
        "id": "Nn15sDPeZeUT"
      },
      "execution_count": null,
      "outputs": []
    },
    {
      "cell_type": "markdown",
      "metadata": {
        "id": "Zsv1baQfJcUG"
      },
      "source": [
        "#### A simple Sequential class"
      ]
    },
    {
      "cell_type": "code",
      "execution_count": null,
      "metadata": {
        "id": "mCCdAqNaJcUG"
      },
      "outputs": [],
      "source": [
        "class NaiveSequential:\n",
        "    def __init__(self, layers):\n",
        "        self.layers = layers\n",
        "\n",
        "    def __call__(self, inputs):\n",
        "        x = inputs\n",
        "        for layer in self.layers:\n",
        "           x = layer(x)\n",
        "        return x\n",
        "\n",
        "    @property\n",
        "    def weights(self):\n",
        "       weights = []\n",
        "       for layer in self.layers:\n",
        "           weights += layer.weights\n",
        "       return weights"
      ]
    },
    {
      "cell_type": "code",
      "execution_count": null,
      "metadata": {
        "id": "e3sRrP_JJcUG"
      },
      "outputs": [],
      "source": [
        "# 모델 생성\n",
        "\n",
        "model = NaiveSequential([\n",
        "    NaiveDense(input_size=28 * 28, output_size=512, activation=tf.nn.relu),\n",
        "    NaiveDense(input_size=512, output_size=10, activation=tf.nn.softmax)\n",
        "])\n",
        "assert len(model.weights) == 4"
      ]
    },
    {
      "cell_type": "markdown",
      "metadata": {
        "id": "LSZHRNooJcUH"
      },
      "source": [
        "#### A batch generator"
      ]
    },
    {
      "cell_type": "code",
      "execution_count": null,
      "metadata": {
        "id": "6rwhpr-HJcUH"
      },
      "outputs": [],
      "source": [
        "import math\n",
        "\n",
        "class BatchGenerator:\n",
        "    def __init__(self, images, labels, batch_size=128):\n",
        "        assert len(images) == len(labels)\n",
        "        self.index = 0\n",
        "        self.images = images\n",
        "        self.labels = labels\n",
        "        self.batch_size = batch_size\n",
        "        self.num_batches = math.ceil(len(images) / batch_size)\n",
        "\n",
        "    def next(self):\n",
        "        images = self.images[self.index : self.index + self.batch_size]\n",
        "        labels = self.labels[self.index : self.index + self.batch_size]\n",
        "        self.index += self.batch_size\n",
        "        return images, labels"
      ]
    },
    {
      "cell_type": "markdown",
      "metadata": {
        "id": "78fJZ0swJcUH"
      },
      "source": [
        "### Running one training step"
      ]
    },
    {
      "cell_type": "code",
      "execution_count": null,
      "metadata": {
        "id": "l51_Lw5eJcUI"
      },
      "outputs": [],
      "source": [
        "# 학습 함수 정의\n",
        "\n",
        "def one_training_step(model, images_batch, labels_batch):\n",
        "    with tf.GradientTape() as tape:\n",
        "        predictions = model(images_batch)\n",
        "        per_sample_losses = tf.keras.losses.sparse_categorical_crossentropy(\n",
        "            labels_batch, predictions)\n",
        "        average_loss = tf.reduce_mean(per_sample_losses)\n",
        "    gradients = tape.gradient(average_loss, model.weights)\n",
        "    update_weights(gradients, model.weights)\n",
        "    return average_loss"
      ]
    },
    {
      "cell_type": "code",
      "execution_count": null,
      "metadata": {
        "id": "On__xvtpJcUI"
      },
      "outputs": [],
      "source": [
        "learning_rate = 1e-3\n",
        "\n",
        "def update_weights(gradients, weights):\n",
        "    for g, w in zip(gradients, weights):\n",
        "        w.assign_sub(g * learning_rate)"
      ]
    },
    {
      "cell_type": "code",
      "execution_count": null,
      "metadata": {
        "id": "BM9MvV8LJcUI"
      },
      "outputs": [],
      "source": [
        "from tensorflow.keras import optimizers\n",
        "\n",
        "optimizer = optimizers.SGD(learning_rate=1e-3)\n",
        "\n",
        "def update_weights(gradients, weights):\n",
        "    optimizer.apply_gradients(zip(gradients, weights))"
      ]
    },
    {
      "cell_type": "markdown",
      "metadata": {
        "id": "0PYB96krJcUI"
      },
      "source": [
        "### The full training loop"
      ]
    },
    {
      "cell_type": "code",
      "execution_count": null,
      "metadata": {
        "id": "hl7UJhtZJcUJ"
      },
      "outputs": [],
      "source": [
        "def fit(model, images, labels, epochs, batch_size=128):\n",
        "    for epoch_counter in range(epochs):\n",
        "        print(f\"Epoch {epoch_counter}\")\n",
        "        batch_generator = BatchGenerator(images, labels)\n",
        "        for batch_counter in range(batch_generator.num_batches):\n",
        "            images_batch, labels_batch = batch_generator.next()\n",
        "            loss = one_training_step(model, images_batch, labels_batch)\n",
        "            if batch_counter % 100 == 0:\n",
        "                print(f\"loss at batch {batch_counter}: {loss:.2f}\")"
      ]
    },
    {
      "cell_type": "code",
      "execution_count": null,
      "metadata": {
        "id": "YTSuhRkyJcUJ"
      },
      "outputs": [],
      "source": [
        "from tensorflow.keras.datasets import mnist\n",
        "(train_images, train_labels), (test_images, test_labels) = mnist.load_data()\n",
        "\n",
        "train_images = train_images.reshape((60000, 28 * 28))\n",
        "train_images = train_images.astype(\"float32\") / 255\n",
        "test_images = test_images.reshape((10000, 28 * 28))\n",
        "test_images = test_images.astype(\"float32\") / 255\n",
        "\n",
        "# 학습\n",
        "fit(model, train_images, train_labels, epochs=10, batch_size=128)"
      ]
    },
    {
      "cell_type": "markdown",
      "metadata": {
        "id": "zOgthdYjJcUJ"
      },
      "source": [
        "### Evaluating the model"
      ]
    },
    {
      "cell_type": "code",
      "source": [
        "model.weights"
      ],
      "metadata": {
        "id": "9Igs94lQZRrj"
      },
      "execution_count": null,
      "outputs": []
    },
    {
      "cell_type": "code",
      "execution_count": null,
      "metadata": {
        "id": "RBFVUN56JcUK",
        "colab": {
          "base_uri": "https://localhost:8080/"
        },
        "outputId": "7d9d0dab-2bab-4247-f67a-3e5825ff85a2"
      },
      "outputs": [
        {
          "output_type": "stream",
          "name": "stdout",
          "text": [
            "accuracy: 0.82\n"
          ]
        }
      ],
      "source": [
        "# 예측 및 평가\n",
        "\n",
        "predictions = model(test_images)\n",
        "predictions = predictions.numpy()\n",
        "predicted_labels = np.argmax(predictions, axis=1)\n",
        "matches = predicted_labels == test_labels\n",
        "print(f\"accuracy: {matches.mean():.2f}\")"
      ]
    },
    {
      "cell_type": "markdown",
      "metadata": {
        "id": "CzzarnGRJcUK"
      },
      "source": [
        "## Summary"
      ]
    }
  ],
  "metadata": {
    "colab": {
      "provenance": [],
      "toc_visible": true,
      "gpuType": "T4",
      "collapsed_sections": [
        "Q797cdCpJcTq",
        "zP_gNPDmJcTr",
        "h7P-Og1_JcTs",
        "JMrQk7zDJcTs",
        "yn1DN4c7JcTx",
        "BukRb8sCJcT0"
      ],
      "include_colab_link": true
    },
    "kernelspec": {
      "display_name": "Python 3",
      "name": "python3"
    },
    "language_info": {
      "codemirror_mode": {
        "name": "ipython",
        "version": 3
      },
      "file_extension": ".py",
      "mimetype": "text/x-python",
      "name": "python",
      "nbconvert_exporter": "python",
      "pygments_lexer": "ipython3",
      "version": "3.7.0"
    },
    "accelerator": "GPU"
  },
  "nbformat": 4,
  "nbformat_minor": 0
}