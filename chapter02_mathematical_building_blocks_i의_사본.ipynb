{
  "cells": [
    {
      "cell_type": "markdown",
      "metadata": {
        "id": "view-in-github",
        "colab_type": "text"
      },
      "source": [
        "<a href=\"https://colab.research.google.com/github/Myeong-bin/test1/blob/main/chapter02_mathematical_building_blocks_i%EC%9D%98_%EC%82%AC%EB%B3%B8.ipynb\" target=\"_parent\"><img src=\"https://colab.research.google.com/assets/colab-badge.svg\" alt=\"Open In Colab\"/></a>"
      ]
    },
    {
      "cell_type": "markdown",
      "metadata": {
        "id": "k1PYrmTcJcTS"
      },
      "source": [
        "This is a companion notebook for the book [Deep Learning with Python, Second Edition](https://www.manning.com/books/deep-learning-with-python-second-edition?a_aid=keras&a_bid=76564dff). For readability, it only contains runnable code blocks and section titles, and omits everything else in the book: text paragraphs, figures, and pseudocode.\n",
        "\n",
        "**If you want to be able to follow what's going on, I recommend reading the notebook side by side with your copy of the book.**\n",
        "\n",
        "This notebook was generated for TensorFlow 2.6."
      ]
    },
    {
      "cell_type": "markdown",
      "metadata": {
        "id": "af9jWmTzJcTa"
      },
      "source": [
        "# The mathematical building blocks of neural networks"
      ]
    },
    {
      "cell_type": "markdown",
      "metadata": {
        "id": "WKlsP13tJcTb"
      },
      "source": [
        "## A first look at a neural network"
      ]
    },
    {
      "cell_type": "markdown",
      "metadata": {
        "id": "CM9He609JcTb"
      },
      "source": [
        "**Loading the MNIST dataset in Keras**"
      ]
    },
    {
      "cell_type": "code",
      "execution_count": null,
      "metadata": {
        "id": "Q-dbJFxYJcTc",
        "colab": {
          "base_uri": "https://localhost:8080/"
        },
        "outputId": "e32b93e7-b540-48de-ccc4-ab694d6ed729"
      },
      "outputs": [
        {
          "output_type": "stream",
          "name": "stdout",
          "text": [
            "Downloading data from https://storage.googleapis.com/tensorflow/tf-keras-datasets/mnist.npz\n",
            "11490434/11490434 [==============================] - 2s 0us/step\n"
          ]
        }
      ],
      "source": [
        "from tensorflow.keras.datasets import mnist\n",
        "(train_images, train_labels), (test_images, test_labels) = mnist.load_data()"
      ]
    },
    {
      "cell_type": "code",
      "execution_count": null,
      "metadata": {
        "id": "bEskaHqKJcTf",
        "colab": {
          "base_uri": "https://localhost:8080/"
        },
        "outputId": "27e20a41-1269-4599-8d68-5e3fad102978"
      },
      "outputs": [
        {
          "output_type": "execute_result",
          "data": {
            "text/plain": [
              "(60000, 28, 28)"
            ]
          },
          "metadata": {},
          "execution_count": 2
        }
      ],
      "source": [
        "train_images.shape"
      ]
    },
    {
      "cell_type": "code",
      "source": [
        "train_images[0]"
      ],
      "metadata": {
        "colab": {
          "base_uri": "https://localhost:8080/",
          "height": 67
        },
        "id": "eRVEsNuiGfmT",
        "outputId": "f763bfb3-feea-43ba-a3d8-6946eb1964f5"
      },
      "execution_count": null,
      "outputs": [
        {
          "output_type": "execute_result",
          "data": {
            "text/plain": [
              "array([[  0,   0,   0,   0,   0,   0,   0,   0,   0,   0,   0,   0,   0,\n",
              "          0,   0,   0,   0,   0,   0,   0,   0,   0,   0,   0,   0,   0,\n",
              "          0,   0],\n",
              "       [  0,   0,   0,   0,   0,   0,   0,   0,   0,   0,   0,   0,   0,\n",
              "          0,   0,   0,   0,   0,   0,   0,   0,   0,   0,   0,   0,   0,\n",
              "          0,   0],\n",
              "       [  0,   0,   0,   0,   0,   0,   0,   0,   0,   0,   0,   0,   0,\n",
              "          0,   0,   0,   0,   0,   0,   0,   0,   0,   0,   0,   0,   0,\n",
              "          0,   0],\n",
              "       [  0,   0,   0,   0,   0,   0,   0,   0,   0,   0,   0,   0,   0,\n",
              "          0,   0,   0,   0,   0,   0,   0,   0,   0,   0,   0,   0,   0,\n",
              "          0,   0],\n",
              "       [  0,   0,   0,   0,   0,   0,   0,   0,   0,   0,   0,   0,   0,\n",
              "          0,   0,   0,   0,   0,   0,   0,   0,   0,   0,   0,   0,   0,\n",
              "          0,   0],\n",
              "       [  0,   0,   0,   0,   0,   0,   0,   0,   0,   0,   0,   0,   3,\n",
              "         18,  18,  18, 126, 136, 175,  26, 166, 255, 247, 127,   0,   0,\n",
              "          0,   0],\n",
              "       [  0,   0,   0,   0,   0,   0,   0,   0,  30,  36,  94, 154, 170,\n",
              "        253, 253, 253, 253, 253, 225, 172, 253, 242, 195,  64,   0,   0,\n",
              "          0,   0],\n",
              "       [  0,   0,   0,   0,   0,   0,   0,  49, 238, 253, 253, 253, 253,\n",
              "        253, 253, 253, 253, 251,  93,  82,  82,  56,  39,   0,   0,   0,\n",
              "          0,   0],\n",
              "       [  0,   0,   0,   0,   0,   0,   0,  18, 219, 253, 253, 253, 253,\n",
              "        253, 198, 182, 247, 241,   0,   0,   0,   0,   0,   0,   0,   0,\n",
              "          0,   0],\n",
              "       [  0,   0,   0,   0,   0,   0,   0,   0,  80, 156, 107, 253, 253,\n",
              "        205,  11,   0,  43, 154,   0,   0,   0,   0,   0,   0,   0,   0,\n",
              "          0,   0],\n",
              "       [  0,   0,   0,   0,   0,   0,   0,   0,   0,  14,   1, 154, 253,\n",
              "         90,   0,   0,   0,   0,   0,   0,   0,   0,   0,   0,   0,   0,\n",
              "          0,   0],\n",
              "       [  0,   0,   0,   0,   0,   0,   0,   0,   0,   0,   0, 139, 253,\n",
              "        190,   2,   0,   0,   0,   0,   0,   0,   0,   0,   0,   0,   0,\n",
              "          0,   0],\n",
              "       [  0,   0,   0,   0,   0,   0,   0,   0,   0,   0,   0,  11, 190,\n",
              "        253,  70,   0,   0,   0,   0,   0,   0,   0,   0,   0,   0,   0,\n",
              "          0,   0],\n",
              "       [  0,   0,   0,   0,   0,   0,   0,   0,   0,   0,   0,   0,  35,\n",
              "        241, 225, 160, 108,   1,   0,   0,   0,   0,   0,   0,   0,   0,\n",
              "          0,   0],\n",
              "       [  0,   0,   0,   0,   0,   0,   0,   0,   0,   0,   0,   0,   0,\n",
              "         81, 240, 253, 253, 119,  25,   0,   0,   0,   0,   0,   0,   0,\n",
              "          0,   0],\n",
              "       [  0,   0,   0,   0,   0,   0,   0,   0,   0,   0,   0,   0,   0,\n",
              "          0,  45, 186, 253, 253, 150,  27,   0,   0,   0,   0,   0,   0,\n",
              "          0,   0],\n",
              "       [  0,   0,   0,   0,   0,   0,   0,   0,   0,   0,   0,   0,   0,\n",
              "          0,   0,  16,  93, 252, 253, 187,   0,   0,   0,   0,   0,   0,\n",
              "          0,   0],\n",
              "       [  0,   0,   0,   0,   0,   0,   0,   0,   0,   0,   0,   0,   0,\n",
              "          0,   0,   0,   0, 249, 253, 249,  64,   0,   0,   0,   0,   0,\n",
              "          0,   0],\n",
              "       [  0,   0,   0,   0,   0,   0,   0,   0,   0,   0,   0,   0,   0,\n",
              "          0,  46, 130, 183, 253, 253, 207,   2,   0,   0,   0,   0,   0,\n",
              "          0,   0],\n",
              "       [  0,   0,   0,   0,   0,   0,   0,   0,   0,   0,   0,   0,  39,\n",
              "        148, 229, 253, 253, 253, 250, 182,   0,   0,   0,   0,   0,   0,\n",
              "          0,   0],\n",
              "       [  0,   0,   0,   0,   0,   0,   0,   0,   0,   0,  24, 114, 221,\n",
              "        253, 253, 253, 253, 201,  78,   0,   0,   0,   0,   0,   0,   0,\n",
              "          0,   0],\n",
              "       [  0,   0,   0,   0,   0,   0,   0,   0,  23,  66, 213, 253, 253,\n",
              "        253, 253, 198,  81,   2,   0,   0,   0,   0,   0,   0,   0,   0,\n",
              "          0,   0],\n",
              "       [  0,   0,   0,   0,   0,   0,  18, 171, 219, 253, 253, 253, 253,\n",
              "        195,  80,   9,   0,   0,   0,   0,   0,   0,   0,   0,   0,   0,\n",
              "          0,   0],\n",
              "       [  0,   0,   0,   0,  55, 172, 226, 253, 253, 253, 253, 244, 133,\n",
              "         11,   0,   0,   0,   0,   0,   0,   0,   0,   0,   0,   0,   0,\n",
              "          0,   0],\n",
              "       [  0,   0,   0,   0, 136, 253, 253, 253, 212, 135, 132,  16,   0,\n",
              "          0,   0,   0,   0,   0,   0,   0,   0,   0,   0,   0,   0,   0,\n",
              "          0,   0],\n",
              "       [  0,   0,   0,   0,   0,   0,   0,   0,   0,   0,   0,   0,   0,\n",
              "          0,   0,   0,   0,   0,   0,   0,   0,   0,   0,   0,   0,   0,\n",
              "          0,   0],\n",
              "       [  0,   0,   0,   0,   0,   0,   0,   0,   0,   0,   0,   0,   0,\n",
              "          0,   0,   0,   0,   0,   0,   0,   0,   0,   0,   0,   0,   0,\n",
              "          0,   0],\n",
              "       [  0,   0,   0,   0,   0,   0,   0,   0,   0,   0,   0,   0,   0,\n",
              "          0,   0,   0,   0,   0,   0,   0,   0,   0,   0,   0,   0,   0,\n",
              "          0,   0]], dtype=uint8)"
            ],
            "text/html": [
              "<style>\n",
              "      .ndarray_repr .ndarray_raw_data {\n",
              "        display: none;\n",
              "      }\n",
              "      .ndarray_repr.show_array .ndarray_raw_data {\n",
              "        display: block;\n",
              "      }\n",
              "      .ndarray_repr.show_array .ndarray_image_preview {\n",
              "        display: none;\n",
              "      }\n",
              "      </style>\n",
              "      <div id=\"id-15b01b73-d81a-4d9c-a987-7789c9f52a6c\" class=\"ndarray_repr\"><pre>ndarray (28, 28) <button style=\"padding: 0 2px;\">show data</button></pre><img src=\"data:image/png;base64,iVBORw0KGgoAAAANSUhEUgAAABwAAAAcCAAAAABXZoBIAAABAElEQVR4nGNgGMyAWUhIqK5jvdSy/9/rGRgYGFhgEnJsVjYCwQwMDAxPJgV+vniQgYGBgREqZ7iXH8r6l/SV4dn7m8gmCt3++/fv37/Htn3/iMW+gDnZf/+e5WbQnoXNNXyMs/5GoQoxwVmf/n9kSGFiwAW49/11wynJoPzx4YIcRlyygR/+/i2XxCWru+vv32nSuGQFYv/83Y3b4p9/fzpAmSyoMnohpiwM1w5h06Q+5enfv39/bcMiJVF09+/fv39P+mFKiTtd/fv3799jgZiBJLT69t+/f/8eDuDEkDJf8+jv379/v7Ryo4qzMDAwMAQGMjBc3/y35wM2V1IfAABFF16Aa0wAOwAAAABJRU5ErkJggg==\" class=\"ndarray_image_preview\" /><pre class=\"ndarray_raw_data\">array([[  0,   0,   0,   0,   0,   0,   0,   0,   0,   0,   0,   0,   0,\n",
              "          0,   0,   0,   0,   0,   0,   0,   0,   0,   0,   0,   0,   0,\n",
              "          0,   0],\n",
              "       [  0,   0,   0,   0,   0,   0,   0,   0,   0,   0,   0,   0,   0,\n",
              "          0,   0,   0,   0,   0,   0,   0,   0,   0,   0,   0,   0,   0,\n",
              "          0,   0],\n",
              "       [  0,   0,   0,   0,   0,   0,   0,   0,   0,   0,   0,   0,   0,\n",
              "          0,   0,   0,   0,   0,   0,   0,   0,   0,   0,   0,   0,   0,\n",
              "          0,   0],\n",
              "       [  0,   0,   0,   0,   0,   0,   0,   0,   0,   0,   0,   0,   0,\n",
              "          0,   0,   0,   0,   0,   0,   0,   0,   0,   0,   0,   0,   0,\n",
              "          0,   0],\n",
              "       [  0,   0,   0,   0,   0,   0,   0,   0,   0,   0,   0,   0,   0,\n",
              "          0,   0,   0,   0,   0,   0,   0,   0,   0,   0,   0,   0,   0,\n",
              "          0,   0],\n",
              "       [  0,   0,   0,   0,   0,   0,   0,   0,   0,   0,   0,   0,   3,\n",
              "         18,  18,  18, 126, 136, 175,  26, 166, 255, 247, 127,   0,   0,\n",
              "          0,   0],\n",
              "       [  0,   0,   0,   0,   0,   0,   0,   0,  30,  36,  94, 154, 170,\n",
              "        253, 253, 253, 253, 253, 225, 172, 253, 242, 195,  64,   0,   0,\n",
              "          0,   0],\n",
              "       [  0,   0,   0,   0,   0,   0,   0,  49, 238, 253, 253, 253, 253,\n",
              "        253, 253, 253, 253, 251,  93,  82,  82,  56,  39,   0,   0,   0,\n",
              "          0,   0],\n",
              "       [  0,   0,   0,   0,   0,   0,   0,  18, 219, 253, 253, 253, 253,\n",
              "        253, 198, 182, 247, 241,   0,   0,   0,   0,   0,   0,   0,   0,\n",
              "          0,   0],\n",
              "       [  0,   0,   0,   0,   0,   0,   0,   0,  80, 156, 107, 253, 253,\n",
              "        205,  11,   0,  43, 154,   0,   0,   0,   0,   0,   0,   0,   0,\n",
              "          0,   0],\n",
              "       [  0,   0,   0,   0,   0,   0,   0,   0,   0,  14,   1, 154, 253,\n",
              "         90,   0,   0,   0,   0,   0,   0,   0,   0,   0,   0,   0,   0,\n",
              "          0,   0],\n",
              "       [  0,   0,   0,   0,   0,   0,   0,   0,   0,   0,   0, 139, 253,\n",
              "        190,   2,   0,   0,   0,   0,   0,   0,   0,   0,   0,   0,   0,\n",
              "          0,   0],\n",
              "       [  0,   0,   0,   0,   0,   0,   0,   0,   0,   0,   0,  11, 190,\n",
              "        253,  70,   0,   0,   0,   0,   0,   0,   0,   0,   0,   0,   0,\n",
              "          0,   0],\n",
              "       [  0,   0,   0,   0,   0,   0,   0,   0,   0,   0,   0,   0,  35,\n",
              "        241, 225, 160, 108,   1,   0,   0,   0,   0,   0,   0,   0,   0,\n",
              "          0,   0],\n",
              "       [  0,   0,   0,   0,   0,   0,   0,   0,   0,   0,   0,   0,   0,\n",
              "         81, 240, 253, 253, 119,  25,   0,   0,   0,   0,   0,   0,   0,\n",
              "          0,   0],\n",
              "       [  0,   0,   0,   0,   0,   0,   0,   0,   0,   0,   0,   0,   0,\n",
              "          0,  45, 186, 253, 253, 150,  27,   0,   0,   0,   0,   0,   0,\n",
              "          0,   0],\n",
              "       [  0,   0,   0,   0,   0,   0,   0,   0,   0,   0,   0,   0,   0,\n",
              "          0,   0,  16,  93, 252, 253, 187,   0,   0,   0,   0,   0,   0,\n",
              "          0,   0],\n",
              "       [  0,   0,   0,   0,   0,   0,   0,   0,   0,   0,   0,   0,   0,\n",
              "          0,   0,   0,   0, 249, 253, 249,  64,   0,   0,   0,   0,   0,\n",
              "          0,   0],\n",
              "       [  0,   0,   0,   0,   0,   0,   0,   0,   0,   0,   0,   0,   0,\n",
              "          0,  46, 130, 183, 253, 253, 207,   2,   0,   0,   0,   0,   0,\n",
              "          0,   0],\n",
              "       [  0,   0,   0,   0,   0,   0,   0,   0,   0,   0,   0,   0,  39,\n",
              "        148, 229, 253, 253, 253, 250, 182,   0,   0,   0,   0,   0,   0,\n",
              "          0,   0],\n",
              "       [  0,   0,   0,   0,   0,   0,   0,   0,   0,   0,  24, 114, 221,\n",
              "        253, 253, 253, 253, 201,  78,   0,   0,   0,   0,   0,   0,   0,\n",
              "          0,   0],\n",
              "       [  0,   0,   0,   0,   0,   0,   0,   0,  23,  66, 213, 253, 253,\n",
              "        253, 253, 198,  81,   2,   0,   0,   0,   0,   0,   0,   0,   0,\n",
              "          0,   0],\n",
              "       [  0,   0,   0,   0,   0,   0,  18, 171, 219, 253, 253, 253, 253,\n",
              "        195,  80,   9,   0,   0,   0,   0,   0,   0,   0,   0,   0,   0,\n",
              "          0,   0],\n",
              "       [  0,   0,   0,   0,  55, 172, 226, 253, 253, 253, 253, 244, 133,\n",
              "         11,   0,   0,   0,   0,   0,   0,   0,   0,   0,   0,   0,   0,\n",
              "          0,   0],\n",
              "       [  0,   0,   0,   0, 136, 253, 253, 253, 212, 135, 132,  16,   0,\n",
              "          0,   0,   0,   0,   0,   0,   0,   0,   0,   0,   0,   0,   0,\n",
              "          0,   0],\n",
              "       [  0,   0,   0,   0,   0,   0,   0,   0,   0,   0,   0,   0,   0,\n",
              "          0,   0,   0,   0,   0,   0,   0,   0,   0,   0,   0,   0,   0,\n",
              "          0,   0],\n",
              "       [  0,   0,   0,   0,   0,   0,   0,   0,   0,   0,   0,   0,   0,\n",
              "          0,   0,   0,   0,   0,   0,   0,   0,   0,   0,   0,   0,   0,\n",
              "          0,   0],\n",
              "       [  0,   0,   0,   0,   0,   0,   0,   0,   0,   0,   0,   0,   0,\n",
              "          0,   0,   0,   0,   0,   0,   0,   0,   0,   0,   0,   0,   0,\n",
              "          0,   0]], dtype=uint8)</pre></div><script>\n",
              "      (() => {\n",
              "      const titles = ['show data', 'hide data'];\n",
              "      let index = 0\n",
              "      document.querySelector('#id-15b01b73-d81a-4d9c-a987-7789c9f52a6c button').onclick = (e) => {\n",
              "        document.querySelector('#id-15b01b73-d81a-4d9c-a987-7789c9f52a6c').classList.toggle('show_array');\n",
              "        index = (++index) % 2;\n",
              "        document.querySelector('#id-15b01b73-d81a-4d9c-a987-7789c9f52a6c button').textContent = titles[index];\n",
              "        e.preventDefault();\n",
              "        e.stopPropagation();\n",
              "      }\n",
              "      })();\n",
              "    </script>"
            ]
          },
          "metadata": {},
          "execution_count": 9
        }
      ]
    },
    {
      "cell_type": "code",
      "execution_count": null,
      "metadata": {
        "id": "jIiwTYI0JcTg",
        "colab": {
          "base_uri": "https://localhost:8080/"
        },
        "outputId": "003de44c-9795-40c4-bd25-c6d5ebdd3669"
      },
      "outputs": [
        {
          "output_type": "execute_result",
          "data": {
            "text/plain": [
              "60000"
            ]
          },
          "metadata": {},
          "execution_count": 3
        }
      ],
      "source": [
        "len(train_labels)"
      ]
    },
    {
      "cell_type": "code",
      "execution_count": null,
      "metadata": {
        "id": "qfX0CuLXJcTh",
        "colab": {
          "base_uri": "https://localhost:8080/"
        },
        "outputId": "7046c5f0-e34b-4563-e1b3-59e75133e3ad"
      },
      "outputs": [
        {
          "output_type": "execute_result",
          "data": {
            "text/plain": [
              "array([5, 0, 4, ..., 5, 6, 8], dtype=uint8)"
            ]
          },
          "metadata": {},
          "execution_count": 4
        }
      ],
      "source": [
        "train_labels"
      ]
    },
    {
      "cell_type": "code",
      "execution_count": null,
      "metadata": {
        "id": "4egSu0CjJcTi",
        "colab": {
          "base_uri": "https://localhost:8080/"
        },
        "outputId": "9e2f6468-790f-483f-d75b-759898c5337b"
      },
      "outputs": [
        {
          "output_type": "execute_result",
          "data": {
            "text/plain": [
              "(10000, 28, 28)"
            ]
          },
          "metadata": {},
          "execution_count": 5
        }
      ],
      "source": [
        "test_images.shape"
      ]
    },
    {
      "cell_type": "code",
      "execution_count": null,
      "metadata": {
        "id": "D_IzfcKrJcTj",
        "colab": {
          "base_uri": "https://localhost:8080/"
        },
        "outputId": "79d2657a-4183-40c8-c06c-f3d41e34f763"
      },
      "outputs": [
        {
          "output_type": "execute_result",
          "data": {
            "text/plain": [
              "10000"
            ]
          },
          "metadata": {},
          "execution_count": 6
        }
      ],
      "source": [
        "len(test_labels)"
      ]
    },
    {
      "cell_type": "code",
      "execution_count": null,
      "metadata": {
        "id": "g3LcGrF6JcTk",
        "colab": {
          "base_uri": "https://localhost:8080/"
        },
        "outputId": "3e4228e8-ab22-46e5-de98-0837512e3726"
      },
      "outputs": [
        {
          "output_type": "execute_result",
          "data": {
            "text/plain": [
              "array([7, 2, 1, ..., 4, 5, 6], dtype=uint8)"
            ]
          },
          "metadata": {},
          "execution_count": 7
        }
      ],
      "source": [
        "test_labels"
      ]
    },
    {
      "cell_type": "markdown",
      "metadata": {
        "id": "fTs6UGtjJcTk"
      },
      "source": [
        "**The network architecture**"
      ]
    },
    {
      "cell_type": "code",
      "execution_count": null,
      "metadata": {
        "id": "hL4HPy1mJcTl"
      },
      "outputs": [],
      "source": [
        "from tensorflow import keras\n",
        "from tensorflow.keras import layers\n",
        "model = keras.Sequential([\n",
        "    layers.Dense(512, activation=\"relu\"),\n",
        "    layers.Dense(10, activation=\"softmax\")\n",
        "])"
      ]
    },
    {
      "cell_type": "markdown",
      "metadata": {
        "id": "uLjgVmrZJcTl"
      },
      "source": [
        "**The compilation step**"
      ]
    },
    {
      "cell_type": "code",
      "execution_count": null,
      "metadata": {
        "id": "npGGEv5AJcTm"
      },
      "outputs": [],
      "source": [
        "model.compile(optimizer=\"rmsprop\",\n",
        "              loss=\"sparse_categorical_crossentropy\",\n",
        "              metrics=[\"accuracy\"])"
      ]
    },
    {
      "cell_type": "markdown",
      "metadata": {
        "id": "NGvPHQLDJcTm"
      },
      "source": [
        "**Preparing the image data**"
      ]
    },
    {
      "cell_type": "code",
      "execution_count": null,
      "metadata": {
        "id": "Ex2i-kcnJcTn"
      },
      "outputs": [],
      "source": [
        "train_images = train_images.reshape((60000, 28 * 28))\n",
        "train_images = train_images.astype(\"float32\") / 255\n",
        "test_images = test_images.reshape((10000, 28 * 28))\n",
        "test_images = test_images.astype(\"float32\") / 255"
      ]
    },
    {
      "cell_type": "markdown",
      "metadata": {
        "id": "M7igpCdQJcTn"
      },
      "source": [
        "**\"Fitting\" the model**"
      ]
    },
    {
      "cell_type": "code",
      "execution_count": null,
      "metadata": {
        "id": "_L5JfNwgJcTn",
        "colab": {
          "base_uri": "https://localhost:8080/"
        },
        "outputId": "d11b5c36-c299-48fc-cd88-b4fe5a83c46d"
      },
      "outputs": [
        {
          "output_type": "stream",
          "name": "stdout",
          "text": [
            "Epoch 1/5\n",
            "469/469 [==============================] - 1s 3ms/step - loss: 0.5180 - accuracy: 0.8605\n",
            "Epoch 2/5\n",
            "469/469 [==============================] - 2s 4ms/step - loss: 0.4695 - accuracy: 0.8713\n",
            "Epoch 3/5\n",
            "469/469 [==============================] - 1s 3ms/step - loss: 0.4366 - accuracy: 0.8789\n",
            "Epoch 4/5\n",
            "469/469 [==============================] - 1s 3ms/step - loss: 0.4122 - accuracy: 0.8852\n",
            "Epoch 5/5\n",
            "469/469 [==============================] - 1s 3ms/step - loss: 0.3944 - accuracy: 0.8892\n"
          ]
        },
        {
          "output_type": "execute_result",
          "data": {
            "text/plain": [
              "<keras.src.callbacks.History at 0x7a3abdc8d2a0>"
            ]
          },
          "metadata": {},
          "execution_count": 82
        }
      ],
      "source": [
        "model.fit(train_images, train_labels, epochs=5, batch_size=128)"
      ]
    },
    {
      "cell_type": "markdown",
      "source": [
        "epoch mean?\n",
        ">> 훈련 데이터 세트를 학습하는 횟수\n",
        "\n",
        "예시\n",
        "전체 2000의 데이터 개수, batch size를 200으로, epoch를 2로 할 경우\n",
        "> 10개의 batch가 생성(2000/200 = 10이니까), 이 10개의 batch를 2번 학습\n",
        "\n",
        "![image.png](data:image/png;base64,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)"
      ],
      "metadata": {
        "id": "wYdl1uZfNATp"
      }
    },
    {
      "cell_type": "markdown",
      "metadata": {
        "id": "FeQo_4ONJcTo"
      },
      "source": [
        "**Using the model to make predictions**"
      ]
    },
    {
      "cell_type": "code",
      "execution_count": null,
      "metadata": {
        "id": "GMtcUn2FJcTo",
        "colab": {
          "base_uri": "https://localhost:8080/"
        },
        "outputId": "d312d431-1495-4d36-92f5-d3f95c043499"
      },
      "outputs": [
        {
          "output_type": "stream",
          "name": "stdout",
          "text": [
            "1/1 [==============================] - 0s 41ms/step\n"
          ]
        },
        {
          "output_type": "execute_result",
          "data": {
            "text/plain": [
              "array([4.6139551e-04, 9.3754723e-05, 1.2022328e-04, 1.4174050e-03,\n",
              "       1.2255684e-03, 2.4131895e-03, 6.8611225e-06, 9.6097308e-01,\n",
              "       3.9846078e-04, 3.2890115e-02], dtype=float32)"
            ]
          },
          "metadata": {},
          "execution_count": 81
        }
      ],
      "source": [
        "test_digits = test_images[0:10]\n",
        "predictions = model.predict(test_digits)\n",
        "predictions[0]"
      ]
    },
    {
      "cell_type": "code",
      "execution_count": null,
      "metadata": {
        "id": "ACRrQeAMJcTo",
        "colab": {
          "base_uri": "https://localhost:8080/"
        },
        "outputId": "639fe7f7-7551-4855-beb2-1594b8be6ddf"
      },
      "outputs": [
        {
          "output_type": "execute_result",
          "data": {
            "text/plain": [
              "7"
            ]
          },
          "metadata": {},
          "execution_count": 15
        }
      ],
      "source": [
        "predictions[0].argmax()"
      ]
    },
    {
      "cell_type": "code",
      "execution_count": null,
      "metadata": {
        "id": "NST4BgHAJcTp",
        "colab": {
          "base_uri": "https://localhost:8080/"
        },
        "outputId": "a3c06daa-eba9-4dae-89f5-7585e27bbec1"
      },
      "outputs": [
        {
          "output_type": "execute_result",
          "data": {
            "text/plain": [
              "0.99991345"
            ]
          },
          "metadata": {},
          "execution_count": 16
        }
      ],
      "source": [
        "predictions[0][7]"
      ]
    },
    {
      "cell_type": "code",
      "execution_count": null,
      "metadata": {
        "id": "mavD_jmyJcTp",
        "colab": {
          "base_uri": "https://localhost:8080/"
        },
        "outputId": "059ea040-5acc-45cd-a51c-1a3cb389b1c4"
      },
      "outputs": [
        {
          "output_type": "execute_result",
          "data": {
            "text/plain": [
              "7"
            ]
          },
          "metadata": {},
          "execution_count": 17
        }
      ],
      "source": [
        "test_labels[0]"
      ]
    },
    {
      "cell_type": "markdown",
      "metadata": {
        "id": "90d2W15uJcTp"
      },
      "source": [
        "**Evaluating the model on new data**"
      ]
    },
    {
      "cell_type": "code",
      "execution_count": null,
      "metadata": {
        "id": "G529nLu5JcTp",
        "colab": {
          "base_uri": "https://localhost:8080/"
        },
        "outputId": "ae7ba83e-affe-42fc-d27e-3216be7fbb5d"
      },
      "outputs": [
        {
          "output_type": "stream",
          "name": "stdout",
          "text": [
            "313/313 [==============================] - 1s 2ms/step - loss: 0.3707 - accuracy: 0.8958\n",
            "test_acc: 0.895799994468689\n"
          ]
        }
      ],
      "source": [
        "test_loss, test_acc = model.evaluate(test_images, test_labels)\n",
        "print(f\"test_acc: {test_acc}\")"
      ]
    },
    {
      "cell_type": "markdown",
      "metadata": {
        "id": "V7huNXgbJcTq"
      },
      "source": [
        "## Data representations for neural networks"
      ]
    },
    {
      "cell_type": "markdown",
      "metadata": {
        "id": "Q797cdCpJcTq"
      },
      "source": [
        "### Scalars (rank-0 tensors)"
      ]
    },
    {
      "cell_type": "code",
      "execution_count": null,
      "metadata": {
        "id": "eCOK6-RoJcTq",
        "colab": {
          "base_uri": "https://localhost:8080/"
        },
        "outputId": "267a4d19-170c-4de8-823b-4c2864080331"
      },
      "outputs": [
        {
          "output_type": "execute_result",
          "data": {
            "text/plain": [
              "array(12)"
            ]
          },
          "metadata": {},
          "execution_count": 19
        }
      ],
      "source": [
        "import numpy as np\n",
        "x = np.array(12)\n",
        "x"
      ]
    },
    {
      "cell_type": "code",
      "execution_count": null,
      "metadata": {
        "id": "73NyZ9oNJcTr",
        "colab": {
          "base_uri": "https://localhost:8080/"
        },
        "outputId": "7574471b-3a84-46df-f288-2af66dd6ab7e"
      },
      "outputs": [
        {
          "output_type": "execute_result",
          "data": {
            "text/plain": [
              "0"
            ]
          },
          "metadata": {},
          "execution_count": 20
        }
      ],
      "source": [
        "x.ndim"
      ]
    },
    {
      "cell_type": "markdown",
      "metadata": {
        "id": "zP_gNPDmJcTr"
      },
      "source": [
        "### Vectors (rank-1 tensors)"
      ]
    },
    {
      "cell_type": "code",
      "execution_count": null,
      "metadata": {
        "id": "CjkharsLJcTr",
        "colab": {
          "base_uri": "https://localhost:8080/"
        },
        "outputId": "534e9a90-97ba-4a81-efc8-69f2c3e6047f"
      },
      "outputs": [
        {
          "output_type": "execute_result",
          "data": {
            "text/plain": [
              "array([12,  3,  6, 14,  7])"
            ]
          },
          "metadata": {},
          "execution_count": 21
        }
      ],
      "source": [
        "x = np.array([12, 3, 6, 14, 7])\n",
        "x"
      ]
    },
    {
      "cell_type": "code",
      "execution_count": null,
      "metadata": {
        "id": "7ejVfpQRJcTs",
        "colab": {
          "base_uri": "https://localhost:8080/"
        },
        "outputId": "28152a60-9435-4408-8b22-7a7411961ca4"
      },
      "outputs": [
        {
          "output_type": "execute_result",
          "data": {
            "text/plain": [
              "1"
            ]
          },
          "metadata": {},
          "execution_count": 22
        }
      ],
      "source": [
        "x.ndim"
      ]
    },
    {
      "cell_type": "markdown",
      "metadata": {
        "id": "h7P-Og1_JcTs"
      },
      "source": [
        "### Matrices (rank-2 tensors)"
      ]
    },
    {
      "cell_type": "code",
      "execution_count": null,
      "metadata": {
        "id": "a_QUGoKFJcTs",
        "colab": {
          "base_uri": "https://localhost:8080/"
        },
        "outputId": "d3857a2f-0df2-49ee-ebbc-b96cd7541458"
      },
      "outputs": [
        {
          "output_type": "execute_result",
          "data": {
            "text/plain": [
              "2"
            ]
          },
          "metadata": {},
          "execution_count": 23
        }
      ],
      "source": [
        "x = np.array([[5, 78, 2, 34, 0],\n",
        "              [6, 79, 3, 35, 1],\n",
        "              [7, 80, 4, 36, 2]])\n",
        "x.ndim"
      ]
    },
    {
      "cell_type": "markdown",
      "metadata": {
        "id": "JMrQk7zDJcTs"
      },
      "source": [
        "### Rank-3 and higher-rank tensors"
      ]
    },
    {
      "cell_type": "code",
      "execution_count": null,
      "metadata": {
        "id": "dSMEtcRwJcTt",
        "colab": {
          "base_uri": "https://localhost:8080/"
        },
        "outputId": "a5eb9796-b105-44de-9f3c-ea4ca234462e"
      },
      "outputs": [
        {
          "output_type": "execute_result",
          "data": {
            "text/plain": [
              "3"
            ]
          },
          "metadata": {},
          "execution_count": 24
        }
      ],
      "source": [
        "x = np.array([[[5, 78, 2, 34, 0],\n",
        "               [6, 79, 3, 35, 1],\n",
        "               [7, 80, 4, 36, 2]],\n",
        "              [[5, 78, 2, 34, 0],\n",
        "               [6, 79, 3, 35, 1],\n",
        "               [7, 80, 4, 36, 2]],\n",
        "              [[5, 78, 2, 34, 0],\n",
        "               [6, 79, 3, 35, 1],\n",
        "               [7, 80, 4, 36, 2]]])\n",
        "x.ndim"
      ]
    },
    {
      "cell_type": "markdown",
      "metadata": {
        "id": "g7DhLM41JcTt"
      },
      "source": [
        "### Key attributes"
      ]
    },
    {
      "cell_type": "code",
      "execution_count": null,
      "metadata": {
        "id": "_QIYfwqoJcTt"
      },
      "outputs": [],
      "source": [
        "from tensorflow.keras.datasets import mnist\n",
        "(train_images, train_labels), (test_images, test_labels) = mnist.load_data()"
      ]
    },
    {
      "cell_type": "code",
      "execution_count": null,
      "metadata": {
        "id": "36KXOhmqJcTv",
        "colab": {
          "base_uri": "https://localhost:8080/"
        },
        "outputId": "8f467503-dcbe-44ae-ad0c-5b4c81464699"
      },
      "outputs": [
        {
          "output_type": "execute_result",
          "data": {
            "text/plain": [
              "3"
            ]
          },
          "metadata": {},
          "execution_count": 26
        }
      ],
      "source": [
        "train_images.ndim"
      ]
    },
    {
      "cell_type": "code",
      "execution_count": null,
      "metadata": {
        "id": "4BxNho8LJcTw",
        "colab": {
          "base_uri": "https://localhost:8080/"
        },
        "outputId": "205be387-ffb1-4f08-f265-439866c311c1"
      },
      "outputs": [
        {
          "output_type": "execute_result",
          "data": {
            "text/plain": [
              "(60000, 28, 28)"
            ]
          },
          "metadata": {},
          "execution_count": 27
        }
      ],
      "source": [
        "train_images.shape"
      ]
    },
    {
      "cell_type": "code",
      "execution_count": null,
      "metadata": {
        "id": "YHlw3pGZJcTw",
        "colab": {
          "base_uri": "https://localhost:8080/"
        },
        "outputId": "742fe639-4dc5-447c-b748-19e5316e35c4"
      },
      "outputs": [
        {
          "output_type": "execute_result",
          "data": {
            "text/plain": [
              "dtype('uint8')"
            ]
          },
          "metadata": {},
          "execution_count": 28
        }
      ],
      "source": [
        "train_images.dtype"
      ]
    },
    {
      "cell_type": "markdown",
      "metadata": {
        "id": "4nvrMjl6JcTw"
      },
      "source": [
        "**Displaying the fourth digit**"
      ]
    },
    {
      "cell_type": "code",
      "execution_count": null,
      "metadata": {
        "id": "07SaygMXJcTx",
        "colab": {
          "base_uri": "https://localhost:8080/",
          "height": 430
        },
        "outputId": "33781849-b95d-447c-b1ba-d26f0375ca01"
      },
      "outputs": [
        {
          "output_type": "display_data",
          "data": {
            "text/plain": [
              "<Figure size 640x480 with 1 Axes>"
            ],
            "image/png": "[encoded data removed]"
          },
          "metadata": {}
        }
      ],
      "source": [
        "import matplotlib.pyplot as plt\n",
        "digit = train_images[4]\n",
        "plt.imshow(digit, cmap=plt.cm.binary)\n",
        "plt.show()"
      ]
    },
    {
      "cell_type": "code",
      "execution_count": null,
      "metadata": {
        "id": "XP7Yq2xrJcTx",
        "colab": {
          "base_uri": "https://localhost:8080/"
        },
        "outputId": "68084fdf-7cc0-420b-fb8e-520c7b24bb74"
      },
      "outputs": [
        {
          "output_type": "execute_result",
          "data": {
            "text/plain": [
              "9"
            ]
          },
          "metadata": {},
          "execution_count": 30
        }
      ],
      "source": [
        "train_labels[4]"
      ]
    },
    {
      "cell_type": "markdown",
      "metadata": {
        "id": "yn1DN4c7JcTx"
      },
      "source": [
        "### Manipulating tensors in NumPy"
      ]
    },
    {
      "cell_type": "code",
      "source": [
        "train_images.shape"
      ],
      "metadata": {
        "colab": {
          "base_uri": "https://localhost:8080/"
        },
        "id": "81lZZSLCP7Dj",
        "outputId": "0ae034b7-f0e0-485b-e6b6-c9d6fa521764"
      },
      "execution_count": null,
      "outputs": [
        {
          "output_type": "execute_result",
          "data": {
            "text/plain": [
              "(60000, 28, 28)"
            ]
          },
          "metadata": {},
          "execution_count": 87
        }
      ]
    },
    {
      "cell_type": "code",
      "execution_count": null,
      "metadata": {
        "id": "67zixlBbJcTy",
        "colab": {
          "base_uri": "https://localhost:8080/"
        },
        "outputId": "eba4f634-4a2c-43f5-fcdf-72da63e1d618"
      },
      "outputs": [
        {
          "output_type": "execute_result",
          "data": {
            "text/plain": [
              "(90, 28, 28)"
            ]
          },
          "metadata": {},
          "execution_count": 88
        }
      ],
      "source": [
        "my_slice = train_images[10:100]\n",
        "my_slice.shape"
      ]
    },
    {
      "cell_type": "code",
      "execution_count": null,
      "metadata": {
        "id": "V_Cp_lByJcTy",
        "colab": {
          "base_uri": "https://localhost:8080/"
        },
        "outputId": "16d68a02-8eb3-4737-b862-7798a1e3fd0a"
      },
      "outputs": [
        {
          "output_type": "execute_result",
          "data": {
            "text/plain": [
              "(90, 28, 28)"
            ]
          },
          "metadata": {},
          "execution_count": 96
        }
      ],
      "source": [
        "my_slice = train_images[10:100, :, :] # 데이터 전체 선택\n",
        "my_slice.shape"
      ]
    },
    {
      "cell_type": "code",
      "execution_count": null,
      "metadata": {
        "id": "fsnD5R68JcTy",
        "colab": {
          "base_uri": "https://localhost:8080/"
        },
        "outputId": "2f643ea5-92f1-4e58-ad65-243e89394773"
      },
      "outputs": [
        {
          "output_type": "execute_result",
          "data": {
            "text/plain": [
              "(90, 28, 28)"
            ]
          },
          "metadata": {},
          "execution_count": 97
        }
      ],
      "source": [
        "my_slice = train_images[10:100, 0:28, 0:28]\n",
        "my_slice.shape"
      ]
    },
    {
      "cell_type": "code",
      "execution_count": null,
      "metadata": {
        "id": "NHdb1WMpJcTz"
      },
      "outputs": [],
      "source": [
        "my_slice = train_images[:, 14:, 14:]"
      ]
    },
    {
      "cell_type": "code",
      "execution_count": null,
      "metadata": {
        "id": "FyZGv60tJcTz"
      },
      "outputs": [],
      "source": [
        "my_slice = train_images[:, 7:-7, 7:-7]"
      ]
    },
    {
      "cell_type": "code",
      "source": [
        "digit = train_images[4]\n",
        "plt.imshow(digit, cmap=plt.cm.binary)\n",
        "plt.show()"
      ],
      "metadata": {
        "colab": {
          "base_uri": "https://localhost:8080/",
          "height": 430
        },
        "id": "Y1Q9lhWsQZsp",
        "outputId": "b467ecf8-4a47-4189-b232-a40dab41fac2"
      },
      "execution_count": null,
      "outputs": [
        {
          "output_type": "display_data",
          "data": {
            "text/plain": [
              "<Figure size 640x480 with 1 Axes>"
            ],
            "image/png": "[encoded data removed]"
          },
          "metadata": {}
        }
      ]
    },
    {
      "cell_type": "markdown",
      "source": [
        "- How many samples in Mnisttest dataset?\n",
        "\n",
        ": 60000\n",
        "\n",
        "- What is a dimension for minstdata(try ndim method on mnist training data)?\n",
        "\n",
        ": 3\n",
        "\n",
        "- Try to create a 3D tensor object. (with any values you like)\n",
        "\n",
        ": slice 숫자를 바꿔서\n",
        "\n",
        "- Try to visualize the 1st digit from mnisttest dataset (1stdigit data = test_images[0])\n",
        "\n",
        ":\n",
        "\n",
        "- Try to manipulate and visualize the 1stdigit data"
      ],
      "metadata": {
        "id": "8PSZNZjDRiHh"
      }
    },
    {
      "cell_type": "markdown",
      "metadata": {
        "id": "BukRb8sCJcT0"
      },
      "source": [
        "### The notion of data batches"
      ]
    },
    {
      "cell_type": "code",
      "execution_count": null,
      "metadata": {
        "id": "DzRle1fkJcT0"
      },
      "outputs": [],
      "source": [
        "batch = train_images[:128]"
      ]
    },
    {
      "cell_type": "code",
      "execution_count": null,
      "metadata": {
        "id": "Cjm5eJpKJcT0"
      },
      "outputs": [],
      "source": [
        "batch = train_images[128:256]"
      ]
    },
    {
      "cell_type": "code",
      "execution_count": null,
      "metadata": {
        "id": "2dAFLosgJcT1"
      },
      "outputs": [],
      "source": [
        "n = 3\n",
        "batch = train_images[128 * n:128 * (n + 1)]"
      ]
    },
    {
      "cell_type": "markdown",
      "metadata": {
        "id": "z_y3h5Y-JcT1"
      },
      "source": [
        "### Real-world examples of data tensors"
      ]
    },
    {
      "cell_type": "markdown",
      "metadata": {
        "id": "2Zmxarg7JcT1"
      },
      "source": [
        "### Vector data"
      ]
    },
    {
      "cell_type": "markdown",
      "metadata": {
        "id": "4rK7PhWRJcT2"
      },
      "source": [
        "### Timeseries data or sequence data"
      ]
    },
    {
      "cell_type": "markdown",
      "metadata": {
        "id": "hWGleaL-JcT2"
      },
      "source": [
        "### Image data"
      ]
    },
    {
      "cell_type": "markdown",
      "metadata": {
        "id": "2XULPHLlJcT2"
      },
      "source": [
        "### Video data"
      ]
    },
    {
      "cell_type": "markdown",
      "metadata": {
        "id": "e7X9aAzqJcT3"
      },
      "source": [
        "## The gears of neural networks: tensor operations"
      ]
    },
    {
      "cell_type": "markdown",
      "metadata": {
        "id": "N45Ht7syJcT3"
      },
      "source": [
        "### Element-wise operations"
      ]
    },
    {
      "cell_type": "code",
      "execution_count": null,
      "metadata": {
        "id": "NDctLgqpJcT3"
      },
      "outputs": [],
      "source": [
        "def naive_relu(x):\n",
        "    assert len(x.shape) == 2\n",
        "    x = x.copy()\n",
        "    for i in range(x.shape[0]):\n",
        "        for j in range(x.shape[1]):\n",
        "            x[i, j] = max(x[i, j], 0)\n",
        "    return x"
      ]
    },
    {
      "cell_type": "code",
      "execution_count": null,
      "metadata": {
        "id": "SPrC0YK_JcT4"
      },
      "outputs": [],
      "source": [
        "def naive_add(x, y):\n",
        "    assert len(x.shape) == 2\n",
        "    assert x.shape == y.shape\n",
        "    x = x.copy()\n",
        "    for i in range(x.shape[0]):\n",
        "        for j in range(x.shape[1]):\n",
        "            x[i, j] += y[i, j]\n",
        "    return x"
      ]
    },
    {
      "cell_type": "code",
      "execution_count": null,
      "metadata": {
        "id": "ZXzssiFIJcT4",
        "colab": {
          "base_uri": "https://localhost:8080/"
        },
        "outputId": "5d961687-5d7f-497f-dcf0-db521e936337"
      },
      "outputs": [
        {
          "output_type": "stream",
          "name": "stdout",
          "text": [
            "Took: 0.01 s\n"
          ]
        }
      ],
      "source": [
        "import time\n",
        "\n",
        "x = np.random.random((20, 100))\n",
        "y = np.random.random((20, 100))\n",
        "\n",
        "t0 = time.time()\n",
        "for _ in range(1000):\n",
        "    z = x + y\n",
        "    z = np.maximum(z, 0.)\n",
        "print(\"Took: {0:.2f} s\".format(time.time() - t0))"
      ]
    },
    {
      "cell_type": "code",
      "execution_count": null,
      "metadata": {
        "id": "WBtk1_RyJcT4",
        "colab": {
          "base_uri": "https://localhost:8080/"
        },
        "outputId": "06934ec9-312c-4506-9091-bc6b439ebf8c"
      },
      "outputs": [
        {
          "output_type": "stream",
          "name": "stdout",
          "text": [
            "Took: 1.67 s\n"
          ]
        }
      ],
      "source": [
        "t0 = time.time()\n",
        "for _ in range(1000):\n",
        "    z = naive_add(x, y)\n",
        "    z = naive_relu(z)\n",
        "print(\"Took: {0:.2f} s\".format(time.time() - t0))"
      ]
    },
    {
      "cell_type": "markdown",
      "metadata": {
        "id": "r6JQMIuRJcT5"
      },
      "source": [
        "### Broadcasting"
      ]
    },
    {
      "cell_type": "code",
      "execution_count": null,
      "metadata": {
        "id": "eW1Zjo2oJcT5"
      },
      "outputs": [],
      "source": [
        "import numpy as np\n",
        "X = np.random.random((32, 10))\n",
        "y = np.random.random((10,))"
      ]
    },
    {
      "cell_type": "code",
      "execution_count": null,
      "metadata": {
        "id": "mW8GH5T3JcT5"
      },
      "outputs": [],
      "source": [
        "y = np.expand_dims(y, axis=0)"
      ]
    },
    {
      "cell_type": "code",
      "execution_count": null,
      "metadata": {
        "id": "hGO1SLkzJcT6"
      },
      "outputs": [],
      "source": [
        "Y = np.concatenate([y] * 32, axis=0)"
      ]
    },
    {
      "cell_type": "code",
      "execution_count": null,
      "metadata": {
        "id": "J6t0ePTQJcT6"
      },
      "outputs": [],
      "source": [
        "def naive_add_matrix_and_vector(x, y):\n",
        "    assert len(x.shape) == 2\n",
        "    assert len(y.shape) == 1\n",
        "    assert x.shape[1] == y.shape[0]\n",
        "    x = x.copy()\n",
        "    for i in range(x.shape[0]):\n",
        "        for j in range(x.shape[1]):\n",
        "            x[i, j] += y[j]\n",
        "    return x"
      ]
    },
    {
      "cell_type": "code",
      "execution_count": null,
      "metadata": {
        "id": "A8AzRKLBJcT6"
      },
      "outputs": [],
      "source": [
        "import numpy as np\n",
        "x = np.random.random((64, 3, 32, 10))\n",
        "y = np.random.random((32, 10))\n",
        "z = np.maximum(x, y)"
      ]
    },
    {
      "cell_type": "markdown",
      "metadata": {
        "id": "ryP67yQJJcT7"
      },
      "source": [
        "### Tensor product"
      ]
    },
    {
      "cell_type": "code",
      "execution_count": null,
      "metadata": {
        "id": "E-B9Ms8YJcT7"
      },
      "outputs": [],
      "source": [
        "x = np.random.random((32,))\n",
        "y = np.random.random((32,))\n",
        "z = np.dot(x, y)"
      ]
    },
    {
      "cell_type": "code",
      "execution_count": null,
      "metadata": {
        "id": "fFYI5XT3JcT7"
      },
      "outputs": [],
      "source": [
        "def naive_vector_dot(x, y):\n",
        "    assert len(x.shape) == 1\n",
        "    assert len(y.shape) == 1\n",
        "    assert x.shape[0] == y.shape[0]\n",
        "    z = 0.\n",
        "    for i in range(x.shape[0]):\n",
        "        z += x[i] * y[i]\n",
        "    return z"
      ]
    },
    {
      "cell_type": "code",
      "execution_count": null,
      "metadata": {
        "id": "RczAk-HxJcT8"
      },
      "outputs": [],
      "source": [
        "def naive_matrix_vector_dot(x, y):\n",
        "    assert len(x.shape) == 2\n",
        "    assert len(y.shape) == 1\n",
        "    assert x.shape[1] == y.shape[0]\n",
        "    z = np.zeros(x.shape[0])\n",
        "    for i in range(x.shape[0]):\n",
        "        for j in range(x.shape[1]):\n",
        "            z[i] += x[i, j] * y[j]\n",
        "    return z"
      ]
    },
    {
      "cell_type": "code",
      "execution_count": null,
      "metadata": {
        "id": "HilU-tdpJcT8"
      },
      "outputs": [],
      "source": [
        "def naive_matrix_vector_dot(x, y):\n",
        "    z = np.zeros(x.shape[0])\n",
        "    for i in range(x.shape[0]):\n",
        "        z[i] = naive_vector_dot(x[i, :], y)\n",
        "    return z"
      ]
    },
    {
      "cell_type": "code",
      "execution_count": null,
      "metadata": {
        "id": "R_OgfkBZJcT9"
      },
      "outputs": [],
      "source": [
        "def naive_matrix_dot(x, y):\n",
        "    assert len(x.shape) == 2\n",
        "    assert len(y.shape) == 2\n",
        "    assert x.shape[1] == y.shape[0]\n",
        "    z = np.zeros((x.shape[0], y.shape[1]))\n",
        "    for i in range(x.shape[0]):\n",
        "        for j in range(y.shape[1]):\n",
        "            row_x = x[i, :]\n",
        "            column_y = y[:, j]\n",
        "            z[i, j] = naive_vector_dot(row_x, column_y)\n",
        "    return z"
      ]
    },
    {
      "cell_type": "markdown",
      "metadata": {
        "id": "49t7d5VmJcT9"
      },
      "source": [
        "### Tensor reshaping"
      ]
    },
    {
      "cell_type": "code",
      "execution_count": null,
      "metadata": {
        "id": "2bv0npyXJcT9"
      },
      "outputs": [],
      "source": [
        "train_images = train_images.reshape((60000, 28 * 28))"
      ]
    },
    {
      "cell_type": "code",
      "execution_count": null,
      "metadata": {
        "id": "TjmKJZWxJcT-",
        "colab": {
          "base_uri": "https://localhost:8080/"
        },
        "outputId": "00ae655e-be8d-48bb-fc3a-55365e02c9cd"
      },
      "outputs": [
        {
          "output_type": "execute_result",
          "data": {
            "text/plain": [
              "(3, 2)"
            ]
          },
          "metadata": {},
          "execution_count": 54
        }
      ],
      "source": [
        "x = np.array([[0., 1.],\n",
        "             [2., 3.],\n",
        "             [4., 5.]])\n",
        "x.shape"
      ]
    },
    {
      "cell_type": "code",
      "execution_count": null,
      "metadata": {
        "id": "ZjDHY7_IJcT-",
        "colab": {
          "base_uri": "https://localhost:8080/"
        },
        "outputId": "6303f2d6-a28f-4268-8738-19eff7fee73f"
      },
      "outputs": [
        {
          "output_type": "execute_result",
          "data": {
            "text/plain": [
              "array([[0.],\n",
              "       [1.],\n",
              "       [2.],\n",
              "       [3.],\n",
              "       [4.],\n",
              "       [5.]])"
            ]
          },
          "metadata": {},
          "execution_count": 55
        }
      ],
      "source": [
        "x = x.reshape((6, 1))\n",
        "x"
      ]
    },
    {
      "cell_type": "code",
      "execution_count": null,
      "metadata": {
        "id": "rowugIWLJcT_",
        "colab": {
          "base_uri": "https://localhost:8080/"
        },
        "outputId": "22b5d052-c562-45f3-d948-5e685660154d"
      },
      "outputs": [
        {
          "output_type": "execute_result",
          "data": {
            "text/plain": [
              "(20, 300)"
            ]
          },
          "metadata": {},
          "execution_count": 56
        }
      ],
      "source": [
        "x = np.zeros((300, 20))\n",
        "x = np.transpose(x)\n",
        "x.shape"
      ]
    },
    {
      "cell_type": "markdown",
      "metadata": {
        "id": "OL4zKOsaJcT_"
      },
      "source": [
        "### Geometric interpretation of tensor operations"
      ]
    },
    {
      "cell_type": "markdown",
      "metadata": {
        "id": "dhCFvlJvJcT_"
      },
      "source": [
        "### A geometric interpretation of deep learning"
      ]
    },
    {
      "cell_type": "markdown",
      "metadata": {
        "id": "NUQ3T5r1JcUA"
      },
      "source": [
        "## The engine of neural networks: gradient-based optimization"
      ]
    },
    {
      "cell_type": "markdown",
      "metadata": {
        "id": "s-HQfGbkJcUA"
      },
      "source": [
        "### What's a derivative?"
      ]
    },
    {
      "cell_type": "markdown",
      "metadata": {
        "id": "uQFuwD4UJcUA"
      },
      "source": [
        "### Derivative of a tensor operation: the gradient"
      ]
    },
    {
      "cell_type": "markdown",
      "metadata": {
        "id": "8315EupCJcUA"
      },
      "source": [
        "### Stochastic gradient descent"
      ]
    },
    {
      "cell_type": "markdown",
      "metadata": {
        "id": "6uw-9nW0JcUB"
      },
      "source": [
        "### Chaining derivatives: The Backpropagation algorithm"
      ]
    },
    {
      "cell_type": "markdown",
      "metadata": {
        "id": "U-5LyD7PJcUB"
      },
      "source": [
        "#### The chain rule"
      ]
    },
    {
      "cell_type": "markdown",
      "metadata": {
        "id": "LQDtgDUvJcUB"
      },
      "source": [
        "#### Automatic differentiation with computation graphs"
      ]
    },
    {
      "cell_type": "markdown",
      "metadata": {
        "id": "rL_ZXxtxJcUC"
      },
      "source": [
        "#### The gradient tape in TensorFlow"
      ]
    },
    {
      "cell_type": "code",
      "execution_count": null,
      "metadata": {
        "id": "yRRjD67yJcUC"
      },
      "outputs": [],
      "source": [
        "import tensorflow as tf\n",
        "x = tf.Variable(0.)\n",
        "with tf.GradientTape() as tape:\n",
        "    y = 2 * x + 3\n",
        "grad_of_y_wrt_x = tape.gradient(y, x)"
      ]
    },
    {
      "cell_type": "code",
      "execution_count": null,
      "metadata": {
        "id": "d0xDLyUPJcUC"
      },
      "outputs": [],
      "source": [
        "x = tf.Variable(tf.random.uniform((2, 2)))\n",
        "with tf.GradientTape() as tape:\n",
        "    y = 2 * x + 3\n",
        "grad_of_y_wrt_x = tape.gradient(y, x)"
      ]
    },
    {
      "cell_type": "code",
      "execution_count": null,
      "metadata": {
        "id": "W0aP9BWrJcUD"
      },
      "outputs": [],
      "source": [
        "W = tf.Variable(tf.random.uniform((2, 2)))\n",
        "b = tf.Variable(tf.zeros((2,)))\n",
        "x = tf.random.uniform((2, 2))\n",
        "with tf.GradientTape() as tape:\n",
        "    y = tf.matmul(x, W) + b\n",
        "grad_of_y_wrt_W_and_b = tape.gradient(y, [W, b])"
      ]
    },
    {
      "cell_type": "markdown",
      "metadata": {
        "id": "VkEWljeFJcUD"
      },
      "source": [
        "## Looking back at our first example"
      ]
    },
    {
      "cell_type": "code",
      "execution_count": null,
      "metadata": {
        "id": "ccq85DOUJcUD"
      },
      "outputs": [],
      "source": [
        "(train_images, train_labels), (test_images, test_labels) = mnist.load_data()\n",
        "train_images = train_images.reshape((60000, 28 * 28))\n",
        "train_images = train_images.astype(\"float32\") / 255\n",
        "test_images = test_images.reshape((10000, 28 * 28))\n",
        "test_images = test_images.astype(\"float32\") / 255"
      ]
    },
    {
      "cell_type": "code",
      "execution_count": null,
      "metadata": {
        "id": "aIWZbgIDJcUE"
      },
      "outputs": [],
      "source": [
        "model = keras.Sequential([\n",
        "    layers.Dense(512, activation=\"relu\"),\n",
        "    layers.Dense(10, activation=\"softmax\")\n",
        "])"
      ]
    },
    {
      "cell_type": "code",
      "execution_count": null,
      "metadata": {
        "id": "TU68jyOMJcUE"
      },
      "outputs": [],
      "source": [
        "model.compile(optimizer=\"rmsprop\",\n",
        "              loss=\"sparse_categorical_crossentropy\",\n",
        "              metrics=[\"accuracy\"])"
      ]
    },
    {
      "cell_type": "code",
      "execution_count": null,
      "metadata": {
        "id": "npxoQIaRJcUE",
        "colab": {
          "base_uri": "https://localhost:8080/"
        },
        "outputId": "b14cac24-725f-4bf6-ad9d-56c9104f9e19"
      },
      "outputs": [
        {
          "output_type": "stream",
          "name": "stdout",
          "text": [
            "Epoch 1/5\n",
            "469/469 [==============================] - 2s 3ms/step - loss: 0.2675 - accuracy: 0.9232\n",
            "Epoch 2/5\n",
            "469/469 [==============================] - 1s 3ms/step - loss: 0.1099 - accuracy: 0.9682\n",
            "Epoch 3/5\n",
            "469/469 [==============================] - 1s 3ms/step - loss: 0.0724 - accuracy: 0.9788\n",
            "Epoch 4/5\n",
            "469/469 [==============================] - 1s 3ms/step - loss: 0.0525 - accuracy: 0.9843\n",
            "Epoch 5/5\n",
            "469/469 [==============================] - 1s 3ms/step - loss: 0.0394 - accuracy: 0.9887\n"
          ]
        },
        {
          "output_type": "execute_result",
          "data": {
            "text/plain": [
              "<keras.src.callbacks.History at 0x7a3abdff31f0>"
            ]
          },
          "metadata": {},
          "execution_count": 63
        }
      ],
      "source": [
        "model.fit(train_images, train_labels, epochs=5, batch_size=128)"
      ]
    },
    {
      "cell_type": "markdown",
      "metadata": {
        "id": "JV8K3Sd4JcUF"
      },
      "source": [
        "### Reimplementing our first example from scratch in TensorFlow"
      ]
    },
    {
      "cell_type": "markdown",
      "metadata": {
        "id": "p056U-iNJcUF"
      },
      "source": [
        "#### A simple Dense class"
      ]
    },
    {
      "cell_type": "code",
      "execution_count": null,
      "metadata": {
        "id": "tejJ6myXJcUF"
      },
      "outputs": [],
      "source": [
        "import tensorflow as tf\n",
        "\n",
        "class NaiveDense:\n",
        "    def __init__(self, input_size, output_size, activation):\n",
        "        self.activation = activation\n",
        "\n",
        "        w_shape = (input_size, output_size)\n",
        "        w_initial_value = tf.random.uniform(w_shape, minval=0, maxval=1e-1)\n",
        "        self.W = tf.Variable(w_initial_value)\n",
        "\n",
        "        b_shape = (output_size,)\n",
        "        b_initial_value = tf.zeros(b_shape)\n",
        "        self.b = tf.Variable(b_initial_value)\n",
        "\n",
        "    def __call__(self, inputs):\n",
        "        return self.activation(tf.matmul(inputs, self.W) + self.b)\n",
        "\n",
        "    @property\n",
        "    def weights(self):\n",
        "        return [self.W, self.b]"
      ]
    },
    {
      "cell_type": "markdown",
      "metadata": {
        "id": "Zsv1baQfJcUG"
      },
      "source": [
        "#### A simple Sequential class"
      ]
    },
    {
      "cell_type": "code",
      "execution_count": null,
      "metadata": {
        "id": "mCCdAqNaJcUG"
      },
      "outputs": [],
      "source": [
        "class NaiveSequential:\n",
        "    def __init__(self, layers):\n",
        "        self.layers = layers\n",
        "\n",
        "    def __call__(self, inputs):\n",
        "        x = inputs\n",
        "        for layer in self.layers:\n",
        "           x = layer(x)\n",
        "        return x\n",
        "\n",
        "    @property\n",
        "    def weights(self):\n",
        "       weights = []\n",
        "       for layer in self.layers:\n",
        "           weights += layer.weights\n",
        "       return weights"
      ]
    },
    {
      "cell_type": "code",
      "execution_count": null,
      "metadata": {
        "id": "e3sRrP_JJcUG"
      },
      "outputs": [],
      "source": [
        "model = NaiveSequential([\n",
        "    NaiveDense(input_size=28 * 28, output_size=512, activation=tf.nn.relu),\n",
        "    NaiveDense(input_size=512, output_size=10, activation=tf.nn.softmax)\n",
        "])\n",
        "assert len(model.weights) == 4"
      ]
    },
    {
      "cell_type": "markdown",
      "metadata": {
        "id": "LSZHRNooJcUH"
      },
      "source": [
        "#### A batch generator"
      ]
    },
    {
      "cell_type": "code",
      "execution_count": null,
      "metadata": {
        "id": "6rwhpr-HJcUH"
      },
      "outputs": [],
      "source": [
        "import math\n",
        "\n",
        "class BatchGenerator:\n",
        "    def __init__(self, images, labels, batch_size=128):\n",
        "        assert len(images) == len(labels)\n",
        "        self.index = 0\n",
        "        self.images = images\n",
        "        self.labels = labels\n",
        "        self.batch_size = batch_size\n",
        "        self.num_batches = math.ceil(len(images) / batch_size)\n",
        "\n",
        "    def next(self):\n",
        "        images = self.images[self.index : self.index + self.batch_size]\n",
        "        labels = self.labels[self.index : self.index + self.batch_size]\n",
        "        self.index += self.batch_size\n",
        "        return images, labels"
      ]
    },
    {
      "cell_type": "markdown",
      "metadata": {
        "id": "78fJZ0swJcUH"
      },
      "source": [
        "### Running one training step"
      ]
    },
    {
      "cell_type": "code",
      "execution_count": null,
      "metadata": {
        "id": "l51_Lw5eJcUI"
      },
      "outputs": [],
      "source": [
        "def one_training_step(model, images_batch, labels_batch):\n",
        "    with tf.GradientTape() as tape:\n",
        "        predictions = model(images_batch)\n",
        "        per_sample_losses = tf.keras.losses.sparse_categorical_crossentropy(\n",
        "            labels_batch, predictions)\n",
        "        average_loss = tf.reduce_mean(per_sample_losses)\n",
        "    gradients = tape.gradient(average_loss, model.weights)\n",
        "    update_weights(gradients, model.weights)\n",
        "    return average_loss"
      ]
    },
    {
      "cell_type": "code",
      "execution_count": null,
      "metadata": {
        "id": "On__xvtpJcUI"
      },
      "outputs": [],
      "source": [
        "learning_rate = 1e-3\n",
        "\n",
        "def update_weights(gradients, weights):\n",
        "    for g, w in zip(gradients, weights):\n",
        "        w.assign_sub(g * learning_rate)"
      ]
    },
    {
      "cell_type": "code",
      "execution_count": null,
      "metadata": {
        "id": "BM9MvV8LJcUI"
      },
      "outputs": [],
      "source": [
        "from tensorflow.keras import optimizers\n",
        "\n",
        "optimizer = optimizers.SGD(learning_rate=1e-3)\n",
        "\n",
        "def update_weights(gradients, weights):\n",
        "    optimizer.apply_gradients(zip(gradients, weights))"
      ]
    },
    {
      "cell_type": "markdown",
      "metadata": {
        "id": "0PYB96krJcUI"
      },
      "source": [
        "### The full training loop"
      ]
    },
    {
      "cell_type": "code",
      "execution_count": null,
      "metadata": {
        "id": "hl7UJhtZJcUJ"
      },
      "outputs": [],
      "source": [
        "def fit(model, images, labels, epochs, batch_size=128):\n",
        "    for epoch_counter in range(epochs):\n",
        "        print(f\"Epoch {epoch_counter}\")\n",
        "        batch_generator = BatchGenerator(images, labels)\n",
        "        for batch_counter in range(batch_generator.num_batches):\n",
        "            images_batch, labels_batch = batch_generator.next()\n",
        "            loss = one_training_step(model, images_batch, labels_batch)\n",
        "            if batch_counter % 100 == 0:\n",
        "                print(f\"loss at batch {batch_counter}: {loss:.2f}\")"
      ]
    },
    {
      "cell_type": "code",
      "execution_count": null,
      "metadata": {
        "id": "YTSuhRkyJcUJ",
        "colab": {
          "base_uri": "https://localhost:8080/"
        },
        "outputId": "670a7f95-4866-4f7f-92c1-6ec33fbbbd21"
      },
      "outputs": [
        {
          "output_type": "stream",
          "name": "stdout",
          "text": [
            "Epoch 0\n",
            "loss at batch 0: 5.45\n",
            "loss at batch 100: 2.24\n",
            "loss at batch 200: 2.21\n",
            "loss at batch 300: 2.08\n",
            "loss at batch 400: 2.23\n",
            "Epoch 1\n",
            "loss at batch 0: 1.90\n",
            "loss at batch 100: 1.87\n",
            "loss at batch 200: 1.83\n",
            "loss at batch 300: 1.70\n",
            "loss at batch 400: 1.83\n",
            "Epoch 2\n",
            "loss at batch 0: 1.58\n",
            "loss at batch 100: 1.57\n",
            "loss at batch 200: 1.51\n",
            "loss at batch 300: 1.42\n",
            "loss at batch 400: 1.51\n",
            "Epoch 3\n",
            "loss at batch 0: 1.33\n",
            "loss at batch 100: 1.33\n",
            "loss at batch 200: 1.24\n",
            "loss at batch 300: 1.21\n",
            "loss at batch 400: 1.27\n",
            "Epoch 4\n",
            "loss at batch 0: 1.13\n",
            "loss at batch 100: 1.15\n",
            "loss at batch 200: 1.04\n",
            "loss at batch 300: 1.05\n",
            "loss at batch 400: 1.10\n",
            "Epoch 5\n",
            "loss at batch 0: 0.99\n",
            "loss at batch 100: 1.01\n",
            "loss at batch 200: 0.90\n",
            "loss at batch 300: 0.93\n",
            "loss at batch 400: 0.98\n",
            "Epoch 6\n",
            "loss at batch 0: 0.88\n",
            "loss at batch 100: 0.91\n",
            "loss at batch 200: 0.80\n",
            "loss at batch 300: 0.85\n",
            "loss at batch 400: 0.89\n",
            "Epoch 7\n",
            "loss at batch 0: 0.80\n",
            "loss at batch 100: 0.83\n",
            "loss at batch 200: 0.72\n",
            "loss at batch 300: 0.78\n",
            "loss at batch 400: 0.83\n",
            "Epoch 8\n",
            "loss at batch 0: 0.74\n",
            "loss at batch 100: 0.76\n",
            "loss at batch 200: 0.66\n",
            "loss at batch 300: 0.72\n",
            "loss at batch 400: 0.78\n",
            "Epoch 9\n",
            "loss at batch 0: 0.69\n",
            "loss at batch 100: 0.71\n",
            "loss at batch 200: 0.61\n",
            "loss at batch 300: 0.68\n",
            "loss at batch 400: 0.73\n"
          ]
        }
      ],
      "source": [
        "from tensorflow.keras.datasets import mnist\n",
        "(train_images, train_labels), (test_images, test_labels) = mnist.load_data()\n",
        "\n",
        "train_images = train_images.reshape((60000, 28 * 28))\n",
        "train_images = train_images.astype(\"float32\") / 255\n",
        "test_images = test_images.reshape((10000, 28 * 28))\n",
        "test_images = test_images.astype(\"float32\") / 255\n",
        "\n",
        "fit(model, train_images, train_labels, epochs=10, batch_size=128)"
      ]
    },
    {
      "cell_type": "markdown",
      "metadata": {
        "id": "zOgthdYjJcUJ"
      },
      "source": [
        "### Evaluating the model"
      ]
    },
    {
      "cell_type": "code",
      "execution_count": null,
      "metadata": {
        "id": "RBFVUN56JcUK",
        "colab": {
          "base_uri": "https://localhost:8080/"
        },
        "outputId": "7d9d0dab-2bab-4247-f67a-3e5825ff85a2"
      },
      "outputs": [
        {
          "output_type": "stream",
          "name": "stdout",
          "text": [
            "accuracy: 0.82\n"
          ]
        }
      ],
      "source": [
        "predictions = model(test_images)\n",
        "predictions = predictions.numpy()\n",
        "predicted_labels = np.argmax(predictions, axis=1)\n",
        "matches = predicted_labels == test_labels\n",
        "print(f\"accuracy: {matches.mean():.2f}\")"
      ]
    },
    {
      "cell_type": "markdown",
      "metadata": {
        "id": "CzzarnGRJcUK"
      },
      "source": [
        "## Summary"
      ]
    }
  ],
  "metadata": {
    "colab": {
      "provenance": [],
      "toc_visible": true,
      "collapsed_sections": [
        "NUQ3T5r1JcUA",
        "VkEWljeFJcUD"
      ],
      "gpuType": "T4",
      "include_colab_link": true
    },
    "kernelspec": {
      "display_name": "Python 3",
      "name": "python3"
    },
    "language_info": {
      "codemirror_mode": {
        "name": "ipython",
        "version": 3
      },
      "file_extension": ".py",
      "mimetype": "text/x-python",
      "name": "python",
      "nbconvert_exporter": "python",
      "pygments_lexer": "ipython3",
      "version": "3.7.0"
    },
    "accelerator": "GPU"
  },
  "nbformat": 4,
  "nbformat_minor": 0
}